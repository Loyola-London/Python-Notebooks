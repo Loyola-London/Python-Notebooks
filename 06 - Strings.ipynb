{
 "cells": [
  {
   "cell_type": "markdown",
   "metadata": {},
   "source": [
    "# Introduction\n",
    "In this module, we will expand on the earlier module on variables and introduce the string variable type. Though more accurately described as a data structure, the string data type has many features that are not found in numeric values. To understand these issues, we begin by defining a string as a data structure, and from there discuss how the data in strings are structure. We then discuss the properties and methods that are associated with string values.\n",
    "\n",
    "# Strings\n",
    "Though data elements are often thought of as numbers or strings, the appropriate distinction is numbers in characters. So, strings are not a data element, but are instead a data structure. Specifically, a string is a data structure that contains an ordered collection of characters and has properties and methods that are unique to the string object. In this chapter, we will look at the structure of a string, the content of a string and the methods and properties that are accessible through the string object. \n",
    "\n",
    "## A String is an Ordered Collection of Characters\n",
    "It is best to think of a string as an *ordered collection of characters* rather than as a string. Thinking of strings as a collection of characters helps us think more clearly about how strings are structured and how to interact with them in our applications.  "
   ]
  },
  {
   "cell_type": "code",
   "execution_count": 35,
   "metadata": {},
   "outputs": [],
   "source": [
    "myString = \"Collection of Characters\""
   ]
  },
  {
   "cell_type": "code",
   "execution_count": 3,
   "metadata": {},
   "outputs": [
    {
     "data": {
      "text/plain": [
       "24"
      ]
     },
     "execution_count": 3,
     "metadata": {},
     "output_type": "execute_result"
    }
   ],
   "source": [
    "len(myString)"
   ]
  },
  {
   "cell_type": "markdown",
   "metadata": {},
   "source": [
    "When a string is created, we view it as a single entity, but python treats it as an ordered collection of values. So, the above string assignment is treated in the following way:\n",
    "\n",
    "|0|1|2|3|4|5|6|7|8|9|10|11|12|13|14|15|16|17|18|19|20|21|22|23|\n",
    "|-|-|-|-|-|-|-|-|-|-|-|-|-|-|-|-|-|-|-|-|-|-|-|-|\n",
    "|C|o|l|l|e|c|t|i|o|n| |o|f| |C|h|a|r|a|c|t|e|r|s|\n",
    "\n",
    "Because strings are stored in this way, we have access to any single character or subset of the string through indices. For example, the following statements can be used to retrieve a letter or series of letters from our string. The first statement prints the letter in the 4th pointer (which is in the 5th letter in the sequence). "
   ]
  },
  {
   "cell_type": "code",
   "execution_count": 4,
   "metadata": {},
   "outputs": [
    {
     "data": {
      "text/plain": [
       "'e'"
      ]
     },
     "execution_count": 4,
     "metadata": {},
     "output_type": "execute_result"
    }
   ],
   "source": [
    "myString[4]"
   ]
  },
  {
   "cell_type": "markdown",
   "metadata": {},
   "source": [
    "The second statement prints a subset of the string which includes all letters from the 1st pointer to the 4th pointer."
   ]
  },
  {
   "cell_type": "code",
   "execution_count": 7,
   "metadata": {},
   "outputs": [
    {
     "data": {
      "text/plain": [
       "'oll'"
      ]
     },
     "execution_count": 7,
     "metadata": {},
     "output_type": "execute_result"
    }
   ],
   "source": [
    "myString[1:4]"
   ]
  },
  {
   "cell_type": "markdown",
   "metadata": {},
   "source": [
    "The third statement makes use of the len() function (which counts the number of items in a collection of elements) to subset all characters from the 0th pointer to the last pointer (note: because 0 is the first position and len() provides a count, (len() – 1) calculates the position of the last pointer)."
   ]
  },
  {
   "cell_type": "code",
   "execution_count": 11,
   "metadata": {},
   "outputs": [
    {
     "data": {
      "text/plain": [
       "'ection of Characters'"
      ]
     },
     "execution_count": 11,
     "metadata": {},
     "output_type": "execute_result"
    }
   ],
   "source": [
    "myString[4:]"
   ]
  },
  {
   "cell_type": "markdown",
   "metadata": {},
   "source": [
    "The next two statements subset the string by extracting all letters up to the 3rd pointer and all letters from the 3rd pointer to the end of the string. "
   ]
  },
  {
   "cell_type": "code",
   "execution_count": 12,
   "metadata": {},
   "outputs": [
    {
     "data": {
      "text/plain": [
       "'Collection of C'"
      ]
     },
     "execution_count": 12,
     "metadata": {},
     "output_type": "execute_result"
    }
   ],
   "source": [
    "myString[:15]"
   ]
  },
  {
   "cell_type": "code",
   "execution_count": 13,
   "metadata": {},
   "outputs": [
    {
     "data": {
      "text/plain": [
       "'haracters'"
      ]
     },
     "execution_count": 13,
     "metadata": {},
     "output_type": "execute_result"
    }
   ],
   "source": [
    "myString[15:]"
   ]
  },
  {
   "cell_type": "code",
   "execution_count": 16,
   "metadata": {},
   "outputs": [
    {
     "data": {
      "text/plain": [
       "'Collectio'"
      ]
     },
     "execution_count": 16,
     "metadata": {},
     "output_type": "execute_result"
    }
   ],
   "source": [
    "myString[:-15]"
   ]
  },
  {
   "cell_type": "code",
   "execution_count": 15,
   "metadata": {},
   "outputs": [
    {
     "data": {
      "text/plain": [
       "'n of Characters'"
      ]
     },
     "execution_count": 15,
     "metadata": {},
     "output_type": "execute_result"
    }
   ],
   "source": [
    "myString[-15:]"
   ]
  },
  {
   "cell_type": "markdown",
   "metadata": {},
   "source": [
    "Another consequence of the *an ordered collection of characters* paradigm is that each character is an element that can be traversed or searched. So, loops can be used to iterate through all elements in the ordered collection of characters. Likewise, the in operator can be used to search for elements in the collection. "
   ]
  },
  {
   "cell_type": "code",
   "execution_count": 17,
   "metadata": {},
   "outputs": [
    {
     "name": "stdout",
     "output_type": "stream",
     "text": [
      "Letter 0: C\n",
      "Letter 1: o\n",
      "Letter 2: l\n",
      "Letter 3: l\n",
      "Letter 4: e\n",
      "Letter 5: c\n",
      "Letter 6: t\n",
      "Letter 7: i\n",
      "Letter 8: o\n",
      "Letter 9: n\n",
      "Letter 10:  \n",
      "Letter 11: o\n",
      "Letter 12: f\n",
      "Letter 13:  \n",
      "Letter 14: C\n",
      "Letter 15: h\n",
      "Letter 16: a\n",
      "Letter 17: r\n",
      "Letter 18: a\n",
      "Letter 19: c\n",
      "Letter 20: t\n",
      "Letter 21: e\n",
      "Letter 22: r\n",
      "Letter 23: s\n"
     ]
    }
   ],
   "source": [
    "i = 0 \n",
    "while i < len(myString): \n",
    "    letter = myString[i] \n",
    "    print(\"Letter \" + str(i) + \": \" + letter) \n",
    "    i = i + 1 "
   ]
  },
  {
   "cell_type": "markdown",
   "metadata": {},
   "source": [
    "Remember, for loops can be used when you know exactly how many times you want to loop your code. In the case of strings, Python has a built-in knowledge of strings which allows you to loop through each item in the collection of characters. **Note:** When using the for loop to iterate through a string in this way, the letter variable is updated each time through the loop to the *next* item (in this case, character) in the collection. This is why we are able to access the individual letter without knowing their position in the string."
   ]
  },
  {
   "cell_type": "code",
   "execution_count": 18,
   "metadata": {},
   "outputs": [
    {
     "name": "stdout",
     "output_type": "stream",
     "text": [
      "Letter 0: C\n",
      "Letter 1: o\n",
      "Letter 2: l\n",
      "Letter 2: l\n",
      "Letter 4: e\n",
      "Letter 5: c\n",
      "Letter 6: t\n",
      "Letter 7: i\n",
      "Letter 1: o\n",
      "Letter 9: n\n",
      "Letter 10:  \n",
      "Letter 1: o\n",
      "Letter 12: f\n",
      "Letter 10:  \n",
      "Letter 0: C\n",
      "Letter 15: h\n",
      "Letter 16: a\n",
      "Letter 17: r\n",
      "Letter 16: a\n",
      "Letter 5: c\n",
      "Letter 6: t\n",
      "Letter 4: e\n",
      "Letter 17: r\n",
      "Letter 23: s\n"
     ]
    }
   ],
   "source": [
    "for letter in myString: \n",
    "    print(\"Letter \" + str(myString.index(letter)) + \": \" + letter)"
   ]
  },
  {
   "cell_type": "markdown",
   "metadata": {},
   "source": [
    "Strings are our first introduction to 'collections.' In later modules we will look at lists and dictionaries. When iterating through collections, it is often helpful to konw which element the loop is processing. To do this, we can use the `enumerate()` function in our for statment. The `enuerate()` function changes the structure of our for statement slightly because `enumerate()` returns an index and value. We modify our for statement by naming two variables (e.g., index, letter) that will be updated for each element in the collection."
   ]
  },
  {
   "cell_type": "code",
   "execution_count": 19,
   "metadata": {},
   "outputs": [
    {
     "name": "stdout",
     "output_type": "stream",
     "text": [
      "Value of element 0: C\n",
      "Value of element 1: o\n",
      "Value of element 2: l\n",
      "Value of element 3: l\n",
      "Value of element 4: e\n",
      "Value of element 5: c\n",
      "Value of element 6: t\n",
      "Value of element 7: i\n",
      "Value of element 8: o\n",
      "Value of element 9: n\n",
      "Value of element 10:  \n",
      "Value of element 11: o\n",
      "Value of element 12: f\n",
      "Value of element 13:  \n",
      "Value of element 14: C\n",
      "Value of element 15: h\n",
      "Value of element 16: a\n",
      "Value of element 17: r\n",
      "Value of element 18: a\n",
      "Value of element 19: c\n",
      "Value of element 20: t\n",
      "Value of element 21: e\n",
      "Value of element 22: r\n",
      "Value of element 23: s\n"
     ]
    }
   ],
   "source": [
    "for index, letter in enumerate(myString):\n",
    "    print(\"Value of element \" + str(index) + \": \" + letter)"
   ]
  },
  {
   "cell_type": "markdown",
   "metadata": {},
   "source": [
    "A final consequence of strings being an ordered collection of characters is that when comparing strings, length is irrelevant and capitalization matters. Length is irrelevant because it is irrelevant when we compare words (which is why ‘zero’ comes after ‘one’ and ‘eighty’ comes before ‘seventy’). Also, capitalization matters because, from the computer’s perspective, an ‘a’ and an ‘A’ are different letters. "
   ]
  },
  {
   "cell_type": "code",
   "execution_count": 21,
   "metadata": {},
   "outputs": [
    {
     "name": "stdout",
     "output_type": "stream",
     "text": [
      "True\n"
     ]
    }
   ],
   "source": [
    "print('zero' < 'zone')"
   ]
  },
  {
   "cell_type": "code",
   "execution_count": 22,
   "metadata": {},
   "outputs": [
    {
     "name": "stdout",
     "output_type": "stream",
     "text": [
      "False\n"
     ]
    }
   ],
   "source": [
    "print('zero' == 'ZERO')"
   ]
  },
  {
   "cell_type": "code",
   "execution_count": 23,
   "metadata": {},
   "outputs": [
    {
     "name": "stdout",
     "output_type": "stream",
     "text": [
      "False\n"
     ]
    }
   ],
   "source": [
    "print('one' == '1')"
   ]
  },
  {
   "cell_type": "code",
   "execution_count": 27,
   "metadata": {},
   "outputs": [
    {
     "name": "stdout",
     "output_type": "stream",
     "text": [
      "True\n"
     ]
    }
   ],
   "source": [
    "print('one' == 'one')"
   ]
  },
  {
   "cell_type": "markdown",
   "metadata": {},
   "source": [
    "## A String is an Object\n",
    "We aren’t covering object-oriented concepts in this class, but you do need to understand that objects are data structures that have properties and methods in addition to whatever values we might assign. So, our string variable above has the value of ‘Collection of Characters’, but by nature of being a string object, our variable has access to properties and methods that are built in to string objects. A property is some static value that is unique to the object it is meant to describe.  \n",
    "\n",
    "A method is a function that is built in to the string object that performs some operation on the string value. An example of a string method is the upper() method which returns a uppercased version of the string. The following lines provide a brief selection of string methods available. Refer to page 72 of your text book for a comprehensive list. Also refer to https://docs.python.org/3/library/stdtypes.html#string-methods "
   ]
  },
  {
   "cell_type": "code",
   "execution_count": 33,
   "metadata": {},
   "outputs": [
    {
     "data": {
      "text/plain": [
       "'HELLO WORLD!'"
      ]
     },
     "execution_count": 33,
     "metadata": {},
     "output_type": "execute_result"
    }
   ],
   "source": [
    "myString.upper()"
   ]
  },
  {
   "cell_type": "code",
   "execution_count": 34,
   "metadata": {},
   "outputs": [
    {
     "data": {
      "text/plain": [
       "'hello world!'"
      ]
     },
     "execution_count": 34,
     "metadata": {},
     "output_type": "execute_result"
    }
   ],
   "source": [
    "myString.lower()"
   ]
  },
  {
   "cell_type": "code",
   "execution_count": 38,
   "metadata": {},
   "outputs": [
    {
     "data": {
      "text/plain": [
       "'Collection of characters'"
      ]
     },
     "execution_count": 38,
     "metadata": {},
     "output_type": "execute_result"
    }
   ],
   "source": [
    "myString.capitalize()"
   ]
  },
  {
   "cell_type": "code",
   "execution_count": 41,
   "metadata": {},
   "outputs": [
    {
     "data": {
      "text/plain": [
       "'ollection of Character'"
      ]
     },
     "execution_count": 41,
     "metadata": {},
     "output_type": "execute_result"
    }
   ],
   "source": [
    "myString.strip('sC')"
   ]
  },
  {
   "cell_type": "code",
   "execution_count": 45,
   "metadata": {},
   "outputs": [
    {
     "data": {
      "text/plain": [
       "'-------------Collection of Characters-------------'"
      ]
     },
     "execution_count": 45,
     "metadata": {},
     "output_type": "execute_result"
    }
   ],
   "source": [
    "myString.center(50, \"-\")"
   ]
  },
  {
   "cell_type": "code",
   "execution_count": 49,
   "metadata": {},
   "outputs": [
    {
     "data": {
      "text/plain": [
       "4"
      ]
     },
     "execution_count": 49,
     "metadata": {},
     "output_type": "execute_result"
    }
   ],
   "source": [
    "myString.lower().count('c')"
   ]
  },
  {
   "cell_type": "code",
   "execution_count": 52,
   "metadata": {},
   "outputs": [
    {
     "data": {
      "text/plain": [
       "True"
      ]
     },
     "execution_count": 52,
     "metadata": {},
     "output_type": "execute_result"
    }
   ],
   "source": [
    "myString.endswith('Characters')"
   ]
  },
  {
   "cell_type": "code",
   "execution_count": 56,
   "metadata": {},
   "outputs": [
    {
     "data": {
      "text/plain": [
       "11"
      ]
     },
     "execution_count": 56,
     "metadata": {},
     "output_type": "execute_result"
    }
   ],
   "source": [
    "myString.find('of')"
   ]
  },
  {
   "cell_type": "code",
   "execution_count": 60,
   "metadata": {},
   "outputs": [
    {
     "data": {
      "text/plain": [
       "False"
      ]
     },
     "execution_count": 60,
     "metadata": {},
     "output_type": "execute_result"
    }
   ],
   "source": [
    "myString.isupper()"
   ]
  },
  {
   "cell_type": "code",
   "execution_count": 61,
   "metadata": {},
   "outputs": [
    {
     "data": {
      "text/plain": [
       "False"
      ]
     },
     "execution_count": 61,
     "metadata": {},
     "output_type": "execute_result"
    }
   ],
   "source": [
    "myString.islower()"
   ]
  },
  {
   "cell_type": "code",
   "execution_count": 62,
   "metadata": {},
   "outputs": [
    {
     "data": {
      "text/plain": [
       "['Collection ', ' Characters']"
      ]
     },
     "execution_count": 62,
     "metadata": {},
     "output_type": "execute_result"
    }
   ],
   "source": [
    "myString.split(\"of\")"
   ]
  },
  {
   "cell_type": "code",
   "execution_count": 64,
   "metadata": {},
   "outputs": [],
   "source": [
    "stringParts = myString.split()"
   ]
  },
  {
   "cell_type": "code",
   "execution_count": 65,
   "metadata": {},
   "outputs": [
    {
     "data": {
      "text/plain": [
       "['Collection', 'of', 'Characters']"
      ]
     },
     "execution_count": 65,
     "metadata": {},
     "output_type": "execute_result"
    }
   ],
   "source": [
    "stringParts"
   ]
  },
  {
   "cell_type": "code",
   "execution_count": 66,
   "metadata": {},
   "outputs": [
    {
     "data": {
      "text/plain": [
       "3"
      ]
     },
     "execution_count": 66,
     "metadata": {},
     "output_type": "execute_result"
    }
   ],
   "source": [
    "len(stringParts)"
   ]
  },
  {
   "cell_type": "code",
   "execution_count": 67,
   "metadata": {},
   "outputs": [
    {
     "name": "stdout",
     "output_type": "stream",
     "text": [
      "Collection is 10 characters long.\n",
      "of is 2 characters long.\n",
      "Characters is 10 characters long.\n"
     ]
    }
   ],
   "source": [
    "for stringPart in stringParts:\n",
    "    print(stringPart + \" is \" + str(len(stringPart)) + \" characters long.\")"
   ]
  },
  {
   "cell_type": "markdown",
   "metadata": {},
   "source": [
    "There are different types of objects in Python, and Strings are classified as static objects. A static object is an object that is immutable (or unchangeable). This means that once a string object is instantiated, it cannot be changed and that any changes you wish to save, must be saved as a new string object. This concept is counter-intuitive, but it will make sense when you look at the ways strings are handled in python. So, the first example does not work because you cannot change the value of any element in the ordered collection characters. "
   ]
  },
  {
   "cell_type": "code",
   "execution_count": 70,
   "metadata": {},
   "outputs": [
    {
     "ename": "TypeError",
     "evalue": "'str' object does not support item assignment",
     "output_type": "error",
     "traceback": [
      "\u001b[31m---------------------------------------------------------------------------\u001b[39m",
      "\u001b[31mTypeError\u001b[39m                                 Traceback (most recent call last)",
      "\u001b[36mCell\u001b[39m\u001b[36m \u001b[39m\u001b[32mIn[70]\u001b[39m\u001b[32m, line 3\u001b[39m\n\u001b[32m      1\u001b[39m i = \u001b[32m0\u001b[39m \n\u001b[32m      2\u001b[39m \u001b[38;5;28;01mwhile\u001b[39;00m i < \u001b[38;5;28mlen\u001b[39m(myString): \n\u001b[32m----> \u001b[39m\u001b[32m3\u001b[39m     \u001b[43mmyString\u001b[49m\u001b[43m[\u001b[49m\u001b[43mi\u001b[49m\u001b[43m]\u001b[49m = myString[i].upper() \n\u001b[32m      4\u001b[39m     \u001b[38;5;28mprint\u001b[39m(myString)\n\u001b[32m      5\u001b[39m     i = i + \u001b[32m1\u001b[39m\n",
      "\u001b[31mTypeError\u001b[39m: 'str' object does not support item assignment"
     ]
    }
   ],
   "source": [
    "i = 0 \n",
    "while i < len(myString): \n",
    "    myString[i] = myString[i].upper() \n",
    "    print(myString)\n",
    "    i = i + 1"
   ]
  },
  {
   "cell_type": "markdown",
   "metadata": {},
   "source": [
    "However, the second example does work because the code creates a new instance of the myUpperString each time through the loop. "
   ]
  },
  {
   "cell_type": "code",
   "execution_count": 85,
   "metadata": {},
   "outputs": [
    {
     "name": "stdout",
     "output_type": "stream",
     "text": [
      "C\n",
      "CO\n",
      "COL\n",
      "COLL\n",
      "COLLE\n",
      "COLLEC\n",
      "COLLECT\n",
      "COLLECTI\n",
      "COLLECTIO\n",
      "COLLECTION\n",
      "COLLECTION \n",
      "COLLECTION O\n",
      "COLLECTION OF\n",
      "COLLECTION OF \n",
      "COLLECTION OF C\n",
      "COLLECTION OF CH\n",
      "COLLECTION OF CHA\n",
      "COLLECTION OF CHAR\n",
      "COLLECTION OF CHARA\n",
      "COLLECTION OF CHARAC\n",
      "COLLECTION OF CHARACT\n",
      "COLLECTION OF CHARACTE\n",
      "COLLECTION OF CHARACTER\n",
      "COLLECTION OF CHARACTERS\n"
     ]
    }
   ],
   "source": [
    "i = 0 \n",
    "myUpperString = \"\"\n",
    "while i < len(myString): \n",
    "    myUpperString = myUpperString + myString[i].upper() \n",
    "    print(myUpperString)\n",
    "    i = i + 1"
   ]
  },
  {
   "cell_type": "markdown",
   "metadata": {},
   "source": [
    "## String Presentation\n",
    "Formatting strings can be one of the most time-consuming aspects of programming. To create a dynamic and informative application interface, you will often find yourself needing to parse strings and to pipe variable values into an output string. Python offers many solutions to this problem (oftentimes referred to as *string interpolation*). The following lines of code illustrate these options.  "
   ]
  },
  {
   "cell_type": "code",
   "execution_count": 76,
   "metadata": {},
   "outputs": [],
   "source": [
    "firstName = \"Jake\"\n",
    "lastName = \"London\"\n",
    "myAge = 46"
   ]
  },
  {
   "cell_type": "code",
   "execution_count": 78,
   "metadata": {},
   "outputs": [
    {
     "name": "stdout",
     "output_type": "stream",
     "text": [
      "My name is Jake London, and I am 46 years old.\n"
     ]
    }
   ],
   "source": [
    "print(\"My name is \" + firstName + \" \" + lastName + \", and I am \" + str(myAge) + \" years old.\") "
   ]
  },
  {
   "cell_type": "code",
   "execution_count": 77,
   "metadata": {},
   "outputs": [
    {
     "name": "stdout",
     "output_type": "stream",
     "text": [
      "My name is Jake London , and I am 46 years old.\n"
     ]
    }
   ],
   "source": [
    "print(\"My name is\", firstName, lastName, \", and I am\", myAge, \"years old.\") "
   ]
  },
  {
   "cell_type": "code",
   "execution_count": 79,
   "metadata": {},
   "outputs": [
    {
     "name": "stdout",
     "output_type": "stream",
     "text": [
      "My name is Jake London, and I am 46 years old.\n"
     ]
    }
   ],
   "source": [
    "print(\"My name is %s %s, and I am %d years old.\" % (firstName, lastName, myAge)) "
   ]
  },
  {
   "cell_type": "code",
   "execution_count": 80,
   "metadata": {},
   "outputs": [
    {
     "name": "stdout",
     "output_type": "stream",
     "text": [
      "My name is Jake London, and I am 46 years old.\n"
     ]
    }
   ],
   "source": [
    "print(\"My name is {} {}, and I am {} years old.\".format(firstName, lastName, myAge)) "
   ]
  },
  {
   "cell_type": "code",
   "execution_count": 81,
   "metadata": {},
   "outputs": [
    {
     "name": "stdout",
     "output_type": "stream",
     "text": [
      "My name is London Jake, and I am 46 years old.\n"
     ]
    }
   ],
   "source": [
    "print(\"My name is {1} {0}, and I am {2} years old.\".format(firstName, lastName, myAge)) "
   ]
  },
  {
   "cell_type": "markdown",
   "metadata": {},
   "source": [
    "**Note:** The following examples will not work because Azure notebooks does not support Python 3.6+. This is unfortunate, because it is my favorite (because it is the most readable) method for presenting strings. This method will work on your version of Python."
   ]
  },
  {
   "cell_type": "code",
   "execution_count": 82,
   "metadata": {},
   "outputs": [
    {
     "name": "stdout",
     "output_type": "stream",
     "text": [
      "My name is Jake London, and I am 46 years old.\n"
     ]
    }
   ],
   "source": [
    "print(f\"My name is {firstName} {lastName}, and I am {myAge} years old.\") "
   ]
  },
  {
   "cell_type": "code",
   "execution_count": 83,
   "metadata": {},
   "outputs": [
    {
     "name": "stdout",
     "output_type": "stream",
     "text": [
      "\n",
      "My name is Jake London, \n",
      "and I am 46 years old.\n",
      "\n"
     ]
    }
   ],
   "source": [
    "myMessage = f'''\n",
    "My name is {firstName} {lastName}, \n",
    "and I am {myAge} years old.\n",
    "'''\n",
    "\n",
    "print(myMessage) "
   ]
  },
  {
   "cell_type": "code",
   "execution_count": 84,
   "metadata": {},
   "outputs": [
    {
     "data": {
      "text/plain": [
       "'\\nMy name is Jake London, \\nand I am 46 years old.\\n'"
      ]
     },
     "execution_count": 84,
     "metadata": {},
     "output_type": "execute_result"
    }
   ],
   "source": [
    "myMessage"
   ]
  },
  {
   "cell_type": "markdown",
   "metadata": {},
   "source": [
    "# Exercise\n",
    "Write code to detect university email addresses. Prompt the user for their email address and tell them whether or not their email address is a university account (ends in a .edu)."
   ]
  },
  {
   "cell_type": "code",
   "execution_count": null,
   "metadata": {},
   "outputs": [],
   "source": [
    "# Step 1...\n",
    "\n",
    "# Step 2..."
   ]
  }
 ],
 "metadata": {
  "kernelspec": {
   "display_name": "Python 3 (ipykernel)",
   "language": "python",
   "name": "python3"
  },
  "language_info": {
   "codemirror_mode": {
    "name": "ipython",
    "version": 3
   },
   "file_extension": ".py",
   "mimetype": "text/x-python",
   "name": "python",
   "nbconvert_exporter": "python",
   "pygments_lexer": "ipython3",
   "version": "3.12.3"
  },
  "toc": {
   "base_numbering": 1,
   "nav_menu": {},
   "number_sections": true,
   "sideBar": true,
   "skip_h1_title": false,
   "title_cell": "Table of Contents",
   "title_sidebar": "Contents",
   "toc_cell": false,
   "toc_position": {},
   "toc_section_display": true,
   "toc_window_display": true
  }
 },
 "nbformat": 4,
 "nbformat_minor": 4
}
