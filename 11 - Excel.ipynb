{
 "cells": [
  {
   "cell_type": "markdown",
   "metadata": {},
   "source": [
    "# Introduction\n",
    "In this module, we will use Python to read from and write to Excel files. Excel is perhaps the most popular busies technology. As such, it is immensely useful that we be able to interact with Excel by either extracting data from or importing data to Excel files. To do this, we will be using the openpyxl library. This library will give us direct access to excel files. \n",
    "\n",
    "# Excel\n",
    "To be effective in our use of the openpyxl library, we need to establish some terminology that is common to Excel: An Excel document is called a workbook. A single workbook is saved in a file with the .xlsx extension. Data in the workbook are stored on worksheets. Each workbook will have one or more sheet (or worksheet). The sheet the user is currently viewing (or last viewed before closing Excel) is called the active sheet. Each sheet is a collection of cells which are arranged in columns and rows. Columns are listed alphabetically such that column ‘A’ is the first column. Rows are arranged numerically such that the first row is number 1. Cells may contain number or text values."
   ]
  },
  {
   "cell_type": "code",
   "execution_count": null,
   "metadata": {},
   "outputs": [],
   "source": [
    "!pip install openpyxl"
   ]
  },
  {
   "cell_type": "markdown",
   "metadata": {},
   "source": [
    "We start by installing the openpyxl library. The screenshot below illustrates this installation in PyCharm. In the Project Settings, click on 'Project Interpreter' and click the '+' button. Depending on whether you have a Windows or Apple device, the '+' button may be on the right or at the bottom. <br>\n",
    "<img src=\"https://thislondonhouse.com/Jupyter/Images/11-Excel-01.png\" width=\"50%\" /><br>\n",
    "Then search for ‘openpyxl’ and click install package.<br>\n",
    "<img src=\"https://thislondonhouse.com/Jupyter/Images/11-Excel-02.png\" width=\"50%\" />\n",
    "\n",
    "## Accessing Workbooks\n",
    "We open excel files using the openpyxl.load_workbook() method. This method accepts a string representing the location of an excel file and returns a workbook object. For more information see here: https://openpyxl.readthedocs.io/en/stable/tutorial.html"
   ]
  },
  {
   "cell_type": "code",
   "execution_count": null,
   "metadata": {},
   "outputs": [],
   "source": [
    "import openpyxl"
   ]
  },
  {
   "cell_type": "code",
   "execution_count": null,
   "metadata": {},
   "outputs": [],
   "source": [
    "xlsxFile = 'support/censuspopdata.xlsx'\n",
    "wb = openpyxl.load_workbook(xlsxFile)"
   ]
  },
  {
   "cell_type": "markdown",
   "metadata": {},
   "source": [
    "Alternatively, we can create an empty workbook using the openpyxl.Workbook() method."
   ]
  },
  {
   "cell_type": "code",
   "execution_count": null,
   "metadata": {},
   "outputs": [],
   "source": [
    "wbEmpty = openpyxl.Workbook()"
   ]
  },
  {
   "cell_type": "markdown",
   "metadata": {},
   "source": [
    "For the remainder of this session, we will be using the empty workbook and we will populate it with data from the novels.txt file.\n",
    "\n",
    "## Accessing Worksheets\n",
    "Workbooks are made up of one or more worksheets. Within openpyxl, you can query the number and name of available worksheets. You can also create and delete worksheets. We can access a list of worksheet names by referencing the property .sheetnames. This property provides a list of strings that represent the sheets in the workbook. Because it is a list, it has a length and you can access individual values with index values."
   ]
  },
  {
   "cell_type": "code",
   "execution_count": null,
   "metadata": {},
   "outputs": [],
   "source": [
    "type(wbEmpty)"
   ]
  },
  {
   "cell_type": "code",
   "execution_count": null,
   "metadata": {},
   "outputs": [],
   "source": [
    "wbEmpty.sheetnames"
   ]
  },
  {
   "cell_type": "code",
   "execution_count": null,
   "metadata": {},
   "outputs": [],
   "source": [
    "sheetList = wbEmpty.sheetnames\n",
    "print(len(sheetList))\n",
    "print(sheetList)"
   ]
  },
  {
   "cell_type": "code",
   "execution_count": null,
   "metadata": {},
   "outputs": [],
   "source": [
    "wbEmpty[sheetList[0]].title"
   ]
  },
  {
   "cell_type": "code",
   "execution_count": null,
   "metadata": {},
   "outputs": [],
   "source": [
    "wbEmpty['Sheet'].title"
   ]
  },
  {
   "cell_type": "code",
   "execution_count": null,
   "metadata": {},
   "outputs": [],
   "source": [
    "wbEmpty.active.title"
   ]
  },
  {
   "cell_type": "markdown",
   "metadata": {},
   "source": [
    "We create sheets using the .create_sheet() method. This method expects a string value which represents the title of the sheet. The method returns a reference to the created worksheet."
   ]
  },
  {
   "cell_type": "code",
   "execution_count": null,
   "metadata": {},
   "outputs": [],
   "source": [
    "wbEmpty.create_sheet(\"Top English Novels\")"
   ]
  },
  {
   "cell_type": "code",
   "execution_count": null,
   "metadata": {},
   "outputs": [],
   "source": [
    "ws = wbEmpty.create_sheet(\"Another Sheet\")"
   ]
  },
  {
   "cell_type": "code",
   "execution_count": null,
   "metadata": {},
   "outputs": [],
   "source": [
    "ws.title"
   ]
  },
  {
   "cell_type": "markdown",
   "metadata": {},
   "source": [
    "We can delete worksheets using the .remove_sheet() method. This method expects as worksheet variable as an input parameter. The worksheet that is passed to this method is then deleted."
   ]
  },
  {
   "cell_type": "code",
   "execution_count": null,
   "metadata": {},
   "outputs": [],
   "source": [
    "wbEmpty.remove(ws)"
   ]
  },
  {
   "cell_type": "markdown",
   "metadata": {},
   "source": [
    "Worksheets are referenced using string keys which represent the title of the worksheet. The resulting variable is a worksheet object which has various methods and parameters. "
   ]
  },
  {
   "cell_type": "code",
   "execution_count": null,
   "metadata": {},
   "outputs": [],
   "source": [
    "ws = wbEmpty[\"Top English Novels\"]"
   ]
  },
  {
   "cell_type": "code",
   "execution_count": null,
   "metadata": {},
   "outputs": [],
   "source": [
    "ws.title"
   ]
  },
  {
   "cell_type": "code",
   "execution_count": null,
   "metadata": {},
   "outputs": [],
   "source": [
    "ws.max_row"
   ]
  },
  {
   "cell_type": "code",
   "execution_count": null,
   "metadata": {},
   "outputs": [],
   "source": [
    "ws.max_column"
   ]
  },
  {
   "cell_type": "code",
   "execution_count": null,
   "metadata": {},
   "outputs": [],
   "source": [
    "ws.min_row"
   ]
  },
  {
   "cell_type": "code",
   "execution_count": null,
   "metadata": {},
   "outputs": [],
   "source": [
    "ws.min_column"
   ]
  },
  {
   "cell_type": "markdown",
   "metadata": {},
   "source": [
    "We can add elements to worksheets cell-by-cell or row-by-row. The append method is used to add rows of data. The append method expects to receive a list or tuple of values with the first element being placed in column A. Each row is appended below the bottommost row. We will look at add data to individual cells in the following section."
   ]
  },
  {
   "cell_type": "code",
   "execution_count": null,
   "metadata": {},
   "outputs": [],
   "source": [
    "ws.append([\"Author\", \"Title\", \"Year\", \"Rank\"])"
   ]
  },
  {
   "cell_type": "code",
   "execution_count": null,
   "metadata": {},
   "outputs": [],
   "source": [
    "data = []\n",
    "data.append(\"Author\")\n",
    "data.append(\"Title\")\n",
    "data.append(\"Year\")\n",
    "data.append(\"Rank\")"
   ]
  },
  {
   "cell_type": "code",
   "execution_count": null,
   "metadata": {},
   "outputs": [],
   "source": [
    "data"
   ]
  },
  {
   "cell_type": "code",
   "execution_count": null,
   "metadata": {},
   "outputs": [],
   "source": [
    "ws.append(data)"
   ]
  },
  {
   "cell_type": "code",
   "execution_count": null,
   "metadata": {},
   "outputs": [],
   "source": [
    "ws.delete_rows(2)"
   ]
  },
  {
   "cell_type": "code",
   "execution_count": null,
   "metadata": {},
   "outputs": [],
   "source": [
    "ws.delete_rows(2,5)"
   ]
  },
  {
   "cell_type": "markdown",
   "metadata": {},
   "source": [
    "Before we move on to accessing cells, we need to populate the worksheet. The following lines write the contents of our novelList to the worksheet."
   ]
  },
  {
   "cell_type": "code",
   "execution_count": null,
   "metadata": {},
   "outputs": [],
   "source": [
    "novelList = []\n",
    "with open(\"support/novels.txt\") as fileHandler:\n",
    "    for line in fileHandler:\n",
    "        rank = line[:line.find(\".\")].strip()\n",
    "        title = line[line.find(\".\") + 1:line.find(\"(\")].strip()\n",
    "        author = line[line.find(\"(\") + 1:line.find(\",\", line.find(\"(\"))].strip()\n",
    "        year = line.strip()[-5:-1]\n",
    "        novelList.append([author, title, year, rank])"
   ]
  },
  {
   "cell_type": "code",
   "execution_count": null,
   "metadata": {},
   "outputs": [],
   "source": [
    "len(novelList)"
   ]
  },
  {
   "cell_type": "code",
   "execution_count": null,
   "metadata": {},
   "outputs": [],
   "source": [
    "type(novelList[0])"
   ]
  },
  {
   "cell_type": "code",
   "execution_count": null,
   "metadata": {},
   "outputs": [],
   "source": [
    "len(novelList[0])"
   ]
  },
  {
   "cell_type": "code",
   "execution_count": null,
   "metadata": {},
   "outputs": [],
   "source": [
    "novelList[0]"
   ]
  },
  {
   "cell_type": "code",
   "execution_count": null,
   "metadata": {},
   "outputs": [],
   "source": [
    "novelList[0][0]"
   ]
  },
  {
   "cell_type": "code",
   "execution_count": null,
   "metadata": {},
   "outputs": [],
   "source": [
    "for novel in novelList:\n",
    "    print(\"Appending \", novel)\n",
    "    ws.append(novel)"
   ]
  },
  {
   "cell_type": "markdown",
   "metadata": {},
   "source": [
    "## Accessing Cells\n",
    "Openpyxl offers a variety of methods for accessing cells. In the following code, we will look at methods for accessing single cells, rows of cell and columns of cells. First, you can access cells by referencing column/row position of the cell. In Excel, columns are given character values while rows are given numeric values. You can use these to access a specific cell."
   ]
  },
  {
   "cell_type": "code",
   "execution_count": null,
   "metadata": {},
   "outputs": [],
   "source": [
    "print(ws['A1'])"
   ]
  },
  {
   "cell_type": "code",
   "execution_count": null,
   "metadata": {},
   "outputs": [],
   "source": [
    "cellRef = \"C\" + str(ws.max_row)\n",
    "print(ws[cellRef])"
   ]
  },
  {
   "cell_type": "markdown",
   "metadata": {},
   "source": [
    "Accessing a cell in this way retrieves a cell object. This object has properties and methods that give your application to various cell attributes."
   ]
  },
  {
   "cell_type": "code",
   "execution_count": null,
   "metadata": {},
   "outputs": [],
   "source": [
    "cell = ws[cellRef]"
   ]
  },
  {
   "cell_type": "code",
   "execution_count": null,
   "metadata": {},
   "outputs": [],
   "source": [
    "cell.value"
   ]
  },
  {
   "cell_type": "code",
   "execution_count": null,
   "metadata": {},
   "outputs": [],
   "source": [
    "cell.coordinate"
   ]
  },
  {
   "cell_type": "code",
   "execution_count": null,
   "metadata": {},
   "outputs": [],
   "source": [
    "cell.row"
   ]
  },
  {
   "cell_type": "code",
   "execution_count": null,
   "metadata": {},
   "outputs": [],
   "source": [
    "cell.column"
   ]
  },
  {
   "cell_type": "markdown",
   "metadata": {},
   "source": [
    "It is important to keep this in mind as you will want access the .value of a cell and not the cell itself. This makes sense if you think about all of the things you can do to cells beyond simply entering a value (e.g., labels, colors, formatting, etc.), but it is not how we are accustomed to thinking about cells in Excel. \n",
    "\n",
    "Second, we can access cells by row. When accessing cells by row, we retrieve one or more rows that contains one or more cells. Below are three different approaches to accessing rows. The first retrieves all rows and iterates through each row. The second retrieves a single row based on it’s string representation. The final method retrieves a subset of rows between some set of boundaries."
   ]
  },
  {
   "cell_type": "code",
   "execution_count": null,
   "metadata": {},
   "outputs": [],
   "source": [
    "for row in ws.rows:\n",
    "    print(row)"
   ]
  },
  {
   "cell_type": "code",
   "execution_count": null,
   "metadata": {},
   "outputs": [],
   "source": [
    "for cell in ws['22']:\n",
    "    print(cell.value)"
   ]
  },
  {
   "cell_type": "code",
   "execution_count": null,
   "metadata": {},
   "outputs": [],
   "source": [
    "for row in ws.iter_rows(min_row=2, max_row=20):\n",
    "    print(row)"
   ]
  },
  {
   "cell_type": "markdown",
   "metadata": {},
   "source": [
    "Finally, we can access cells by column. Just as when accessing cells by row, we retrieve one or more row that contains one or more cells. For columns, we have the same alternatives available to us: accessing all columns, accessing a specific column, accessing some subset of columns based on boundary columns."
   ]
  },
  {
   "cell_type": "code",
   "execution_count": null,
   "metadata": {},
   "outputs": [],
   "source": [
    "for col in ws.columns:\n",
    "    print(col)"
   ]
  },
  {
   "cell_type": "code",
   "execution_count": null,
   "metadata": {},
   "outputs": [],
   "source": [
    "for cell in ws['D']:\n",
    "    print(cell.value)"
   ]
  },
  {
   "cell_type": "code",
   "execution_count": null,
   "metadata": {},
   "outputs": [],
   "source": [
    "for col in ws.iter_cols(min_col=2, max_col=4):\n",
    "    print(col)"
   ]
  },
  {
   "cell_type": "markdown",
   "metadata": {},
   "source": [
    "The row/column approach can be combined to iterate through all cells by iterating down rows and then across columns."
   ]
  },
  {
   "cell_type": "code",
   "execution_count": null,
   "metadata": {},
   "outputs": [],
   "source": [
    "for col in ws.columns:\n",
    "    for cell in col:\n",
    "        print(cell.value)"
   ]
  },
  {
   "cell_type": "markdown",
   "metadata": {},
   "source": [
    "We can add data to our worksheets in a similar manner. In the example below, we add a header to cell E1 and then add a formula to all cells in that column."
   ]
  },
  {
   "cell_type": "code",
   "execution_count": null,
   "metadata": {},
   "outputs": [],
   "source": [
    "ws['E1'].value = \"Age\"\n",
    "for cell in ws['E']:\n",
    "    if cell.row > 1:\n",
    "        cell.value = \"=2019 - C\" + str(cell.row)\n"
   ]
  },
  {
   "cell_type": "markdown",
   "metadata": {},
   "source": [
    "## Creating Charts\n",
    "Openpyxl gives full access to Excel, including the ability to create charts. For more information on creating charts, please refer to the documentation: https://openpyxl.readthedocs.io/en/stable/charts/introduction.html.\n",
    "In the following example, we create a chart from data in our workbook. \n",
    "\n",
    "First, we transform the novel list and group novels by decade. "
   ]
  },
  {
   "cell_type": "code",
   "execution_count": null,
   "metadata": {},
   "outputs": [],
   "source": [
    "decadesDict = {}\n",
    "for cell in ws['C']:\n",
    "    if cell.row > 1:\n",
    "        decadesDict.setdefault(str(10 * int(int(cell.value)/10)),0)\n",
    "        decadesDict[str(10 * int(int(cell.value)/10))] += 1"
   ]
  },
  {
   "cell_type": "code",
   "execution_count": null,
   "metadata": {},
   "outputs": [],
   "source": [
    "decadesDict"
   ]
  },
  {
   "cell_type": "markdown",
   "metadata": {},
   "source": [
    "We then add this data to a new worksheet and build a bar chart from the results."
   ]
  },
  {
   "cell_type": "code",
   "execution_count": null,
   "metadata": {},
   "outputs": [],
   "source": [
    "wbEmpty.create_sheet('Chart')\n",
    "wsChart = wbEmpty['Chart']\n",
    "wsChart.append(['Decade', 'Count'])\n",
    "for decade in sorted(decadesDict.keys()):\n",
    "    wsChart.append([decade, decadesDict[decade]])"
   ]
  },
  {
   "cell_type": "markdown",
   "metadata": {},
   "source": [
    "The code above initializes the chart as a Bar Chart (“bar” and 11 are values that represent the type of bar chart we are creating). The chart title and the axes titles are similarly set."
   ]
  },
  {
   "cell_type": "code",
   "execution_count": null,
   "metadata": {},
   "outputs": [],
   "source": [
    "from openpyxl.chart import BarChart, Reference"
   ]
  },
  {
   "cell_type": "code",
   "execution_count": null,
   "metadata": {},
   "outputs": [],
   "source": [
    "chart = BarChart()\n",
    "chart.type = \"bar\"\n",
    "chart.style = 11\n",
    "chart.title = \"Novels by Decade\"\n",
    "chart.y_axis.title = 'Novels Published'\n",
    "chart.x_axis.title = 'Decade'"
   ]
  },
  {
   "cell_type": "markdown",
   "metadata": {},
   "source": [
    "These lines identify the data that will be graphed (the counts, including the column header). And the categories that will be used to group the data (the decades, not including the column header). This is done by constructing a string that represents the range for the data. The string should resemble the type of string used to identify a range of cells in Excel: ‘Chart’!B1:B25. "
   ]
  },
  {
   "cell_type": "code",
   "execution_count": null,
   "metadata": {},
   "outputs": [],
   "source": [
    "data = Reference(wsChart, range_string=wsChart.title + \"!B1:B\" + str(wsChart.max_row))\n",
    "categories = Reference(wsChart, range_string=wsChart.title + \"!A2:A\" + str(wsChart.max_row))"
   ]
  },
  {
   "cell_type": "markdown",
   "metadata": {},
   "source": [
    "The following lines define additional chart parameters including height, width and position of the chart."
   ]
  },
  {
   "cell_type": "code",
   "execution_count": null,
   "metadata": {},
   "outputs": [],
   "source": [
    "chart.add_data(data, titles_from_data=True)\n",
    "chart.set_categories(categories)\n",
    "chart.height = 20\n",
    "chart.width = 10\n",
    "chart.shape = 4\n",
    "wsChart.add_chart(chart, \"D1\")"
   ]
  },
  {
   "cell_type": "markdown",
   "metadata": {},
   "source": [
    "<img src=\"https://thislondonhouse.com/Jupyter/Images/11-Excel-03.png\" width=\"50%\" />\n",
    "\n",
    "## Saving Workbooks\n",
    "To save your workbook, simply call the .save() method and pass in a file name."
   ]
  },
  {
   "cell_type": "code",
   "execution_count": null,
   "metadata": {},
   "outputs": [],
   "source": [
    "wbEmpty.save('support/novels.xlsx')"
   ]
  }
 ],
 "metadata": {
  "kernelspec": {
   "display_name": "Python 3 (ipykernel)",
   "language": "python",
   "name": "python3"
  },
  "language_info": {
   "codemirror_mode": {
    "name": "ipython",
    "version": 3
   },
   "file_extension": ".py",
   "mimetype": "text/x-python",
   "name": "python",
   "nbconvert_exporter": "python",
   "pygments_lexer": "ipython3",
   "version": "3.10.12"
  },
  "toc": {
   "base_numbering": 1,
   "nav_menu": {},
   "number_sections": true,
   "sideBar": true,
   "skip_h1_title": false,
   "title_cell": "Table of Contents",
   "title_sidebar": "Contents",
   "toc_cell": false,
   "toc_position": {},
   "toc_section_display": true,
   "toc_window_display": true
  }
 },
 "nbformat": 4,
 "nbformat_minor": 4
}
