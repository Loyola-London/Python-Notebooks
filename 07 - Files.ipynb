{
 "cells": [
  {
   "cell_type": "markdown",
   "metadata": {},
   "source": [
    "# Introduction\n",
    "In this module, we explore new ways of acquiring data in our application. Up to this point, we have been using data values that are either entered by the user or are persistent in our programs. This limits the types of tasks our applications can handle. In this chapter we will learn how to use python to interface with external files. We will learn how to open files, read files line-by-line and write data to new or existing files. \n",
    "\n",
    "# Files \n",
    "## Opening Files\n",
    "Because python is an interpreted language, interfacing with the operating system is handled by the interpreter. Therefore, when files are ‘opened’ python requests a file handler that acts as a middleman between python and the file. If you think of it from an ownership perspective, python owns the commands in python and the operating system owns the files stored on the computer. Neither really understands how to interact with one-another, so a middleman is needed to translate python’s requests into directions the operating system understands. "
   ]
  },
  {
   "cell_type": "code",
   "execution_count": 1,
   "metadata": {},
   "outputs": [
    {
     "name": "stdout",
     "output_type": "stream",
     "text": [
      "<_io.TextIOWrapper name='support/random_numbers.txt' mode='r' encoding='UTF-8'>\n",
      "<class '_io.TextIOWrapper'>\n"
     ]
    }
   ],
   "source": [
    "with open('support/random_numbers.txt') as fileHandler: \n",
    "    print(fileHandler)\n",
    "    print(type(fileHandler))"
   ]
  },
  {
   "cell_type": "markdown",
   "metadata": {},
   "source": [
    "The **with** keyword above provides a safe way of working with files because files must be opened and closed to ensure data integrity. If your code crashes after you open the file, the file may be left open and may be corrupted. The with statement ensures that files are closed when the with block of code completes. For indentation purposes, code that needs access to the file handler should be indented one level beyond the indentation level of the with (just like conditional and iteration blocks).  \n",
    "\n",
    "## Reading files\n",
    "### Line-by-Line\n",
    "There are several mechanisms for reading from files. The first, and probably easiest, is to treat the file handler as an iterable list where each iteration through the for loop produces the next line of text from the source file. The code below reads the text one line at a time and exits the for loop when there are no lines left to read. \n",
    "\n",
    "Using fileHandler as an iterable..."
   ]
  },
  {
   "cell_type": "code",
   "execution_count": 3,
   "metadata": {},
   "outputs": [
    {
     "name": "stdout",
     "output_type": "stream",
     "text": [
      "0: 926,927,928,929,930\n",
      "\n",
      "1: 646,647,648,649,650,651,652,653,654,655,656,657,658,659,660\n",
      "\n",
      "2: 488,489,490,491,492,493,494,495\n",
      "\n",
      "3: 31,32,33,34,35,36,37,38,39,40,41,42,43,44,45\n",
      "\n",
      "4: 169,170,171,172,173,174,175,176,177,178,179,180\n",
      "\n",
      "5: 419,420\n",
      "\n",
      "6: 455,456,457,458,459,460,461,462,463,464,465\n",
      "\n",
      "7: 883,884,885\n",
      "\n",
      "8: 241,242,243,244,245,246,247,248,249,250,251,252,253,254,255\n",
      "\n",
      "9: 786,787,788,789,790,791,792,793,794,795\n",
      "\n",
      "10: 137,138,139,140,141,142,143,144,145,146,147,148,149,150\n",
      "\n",
      "11: 912,913,914,915\n",
      "\n",
      "12: 81,82,83,84,85,86,87,88,89,90\n",
      "\n",
      "13: 256,257,258,259,260,261,262,263,264,265,266,267,268,269,270\n",
      "\n",
      "14: 450\n",
      "\n",
      "15: 649,650,651,652,653,654,655,656,657,658,659,660\n",
      "\n",
      "16: 194,195\n",
      "\n",
      "17: 825\n",
      "\n",
      "18: 739,740,741,742,743,744,745,746,747,748,749,750\n",
      "\n",
      "19: 805,806,807,808,809,810\n",
      "\n",
      "20: 395,396,397,398,399,400,401,402,403,404,405\n",
      "\n",
      "21: 358,359,360\n",
      "\n",
      "22: 351,352,353,354,355,356,357,358,359,360\n",
      "\n",
      "23: 575,576,577,578,579,580,581,582,583,584,585\n",
      "\n",
      "24: 1,2,3,4,5,6,7,8,9,10,11,12,13,14,15\n",
      "\n"
     ]
    }
   ],
   "source": [
    "with open('support/random_numbers.txt') as fileHandler: \n",
    "    for index, line in enumerate(fileHandler):\n",
    "        print(f\"{index}: {line}\")\n",
    "        break"
   ]
  },
  {
   "cell_type": "code",
   "execution_count": 6,
   "metadata": {},
   "outputs": [
    {
     "name": "stdout",
     "output_type": "stream",
     "text": [
      "Line 1: 926,927,928,929,930\n",
      "\n",
      "Line 2: 646,647,648,649,650,651,652,653,654,655,656,657,658,659,660\n",
      "\n",
      "Line 3: 488,489,490,491,492,493,494,495\n",
      "\n",
      "Line 4: 31,32,33,34,35,36,37,38,39,40,41,42,43,44,45\n",
      "\n",
      "Line 5: 169,170,171,172,173,174,175,176,177,178,179,180\n",
      "\n",
      "Line 6: 419,420\n",
      "\n",
      "Line 7: 455,456,457,458,459,460,461,462,463,464,465\n",
      "\n",
      "Line 8: 883,884,885\n",
      "\n",
      "Line 9: 241,242,243,244,245,246,247,248,249,250,251,252,253,254,255\n",
      "\n",
      "Line 10: 786,787,788,789,790,791,792,793,794,795\n",
      "\n",
      "Line 11: 137,138,139,140,141,142,143,144,145,146,147,148,149,150\n",
      "\n",
      "Line 12: 912,913,914,915\n",
      "\n",
      "Line 13: 81,82,83,84,85,86,87,88,89,90\n",
      "\n",
      "Line 14: 256,257,258,259,260,261,262,263,264,265,266,267,268,269,270\n",
      "\n",
      "Line 15: 450\n",
      "\n",
      "Line 16: 649,650,651,652,653,654,655,656,657,658,659,660\n",
      "\n",
      "Line 17: 194,195\n",
      "\n",
      "Line 18: 825\n",
      "\n",
      "Line 19: 739,740,741,742,743,744,745,746,747,748,749,750\n",
      "\n",
      "Line 20: 805,806,807,808,809,810\n",
      "\n",
      "Line 21: 395,396,397,398,399,400,401,402,403,404,405\n",
      "\n",
      "Line 22: 358,359,360\n",
      "\n",
      "Line 23: 351,352,353,354,355,356,357,358,359,360\n",
      "\n",
      "Line 24: 575,576,577,578,579,580,581,582,583,584,585\n",
      "\n",
      "Line 25: 1,2,3,4,5,6,7,8,9,10,11,12,13,14,15\n",
      "\n"
     ]
    }
   ],
   "source": [
    "with open('support/random_numbers.txt') as fileHandler: \n",
    "    lineNumber = 1\n",
    "    for index, line in enumerate(fileHandler):\n",
    "        print(f\"Line {lineNumber}: {line}\") \n",
    "        lineNumber += 1"
   ]
  },
  {
   "cell_type": "markdown",
   "metadata": {},
   "source": [
    "Using .readline()..."
   ]
  },
  {
   "cell_type": "code",
   "execution_count": 7,
   "metadata": {},
   "outputs": [
    {
     "name": "stdout",
     "output_type": "stream",
     "text": [
      "926,927,928,929,930\n",
      "\n"
     ]
    }
   ],
   "source": [
    "with open('support/random_numbers.txt') as fileHandler: \n",
    "    line = fileHandler.readline()\n",
    "    print(line)"
   ]
  },
  {
   "cell_type": "code",
   "execution_count": 9,
   "metadata": {},
   "outputs": [
    {
     "name": "stdout",
     "output_type": "stream",
     "text": [
      "Line 1: 926,927,928,929,930\n",
      "\n",
      "Line 2: 646,647,648,649,650,651,652,653,654,655,656,657,658,659,660\n",
      "\n",
      "Line 3: 488,489,490,491,492,493,494,495\n",
      "\n",
      "Line 4: 31,32,33,34,35,36,37,38,39,40,41,42,43,44,45\n",
      "\n",
      "Line 5: 169,170,171,172,173,174,175,176,177,178,179,180\n",
      "\n",
      "Line 6: 419,420\n",
      "\n",
      "Line 7: 455,456,457,458,459,460,461,462,463,464,465\n",
      "\n",
      "Line 8: 883,884,885\n",
      "\n",
      "Line 9: 241,242,243,244,245,246,247,248,249,250,251,252,253,254,255\n",
      "\n",
      "Line 10: 786,787,788,789,790,791,792,793,794,795\n",
      "\n",
      "Line 11: 137,138,139,140,141,142,143,144,145,146,147,148,149,150\n",
      "\n",
      "Line 12: 912,913,914,915\n",
      "\n",
      "Line 13: 81,82,83,84,85,86,87,88,89,90\n",
      "\n",
      "Line 14: 256,257,258,259,260,261,262,263,264,265,266,267,268,269,270\n",
      "\n",
      "Line 15: 450\n",
      "\n",
      "Line 16: 649,650,651,652,653,654,655,656,657,658,659,660\n",
      "\n",
      "Line 17: 194,195\n",
      "\n",
      "Line 18: 825\n",
      "\n",
      "Line 19: 739,740,741,742,743,744,745,746,747,748,749,750\n",
      "\n",
      "Line 20: 805,806,807,808,809,810\n",
      "\n",
      "Line 21: 395,396,397,398,399,400,401,402,403,404,405\n",
      "\n",
      "Line 22: 358,359,360\n",
      "\n",
      "Line 23: 351,352,353,354,355,356,357,358,359,360\n",
      "\n",
      "Line 24: 575,576,577,578,579,580,581,582,583,584,585\n",
      "\n",
      "Line 25: 1,2,3,4,5,6,7,8,9,10,11,12,13,14,15\n",
      "\n"
     ]
    }
   ],
   "source": [
    "with open('support/random_numbers.txt') as fileHandler: \n",
    "    lineNumber = 1\n",
    "    while True:\n",
    "        line = fileHandler.readline()\n",
    "        if not line:\n",
    "            break\n",
    "        print(f\"Line {lineNumber}: {line}\") \n",
    "        lineNumber += 1"
   ]
  },
  {
   "cell_type": "markdown",
   "metadata": {},
   "source": [
    "Using .readlines()..."
   ]
  },
  {
   "cell_type": "code",
   "execution_count": 10,
   "metadata": {},
   "outputs": [],
   "source": [
    "with open('support/random_numbers.txt') as fileHandler: \n",
    "    lines = fileHandler.readlines()"
   ]
  },
  {
   "cell_type": "code",
   "execution_count": 11,
   "metadata": {},
   "outputs": [
    {
     "data": {
      "text/plain": [
       "['926,927,928,929,930\\n',\n",
       " '646,647,648,649,650,651,652,653,654,655,656,657,658,659,660\\n',\n",
       " '488,489,490,491,492,493,494,495\\n',\n",
       " '31,32,33,34,35,36,37,38,39,40,41,42,43,44,45\\n',\n",
       " '169,170,171,172,173,174,175,176,177,178,179,180\\n',\n",
       " '419,420\\n',\n",
       " '455,456,457,458,459,460,461,462,463,464,465\\n',\n",
       " '883,884,885\\n',\n",
       " '241,242,243,244,245,246,247,248,249,250,251,252,253,254,255\\n',\n",
       " '786,787,788,789,790,791,792,793,794,795\\n',\n",
       " '137,138,139,140,141,142,143,144,145,146,147,148,149,150\\n',\n",
       " '912,913,914,915\\n',\n",
       " '81,82,83,84,85,86,87,88,89,90\\n',\n",
       " '256,257,258,259,260,261,262,263,264,265,266,267,268,269,270\\n',\n",
       " '450\\n',\n",
       " '649,650,651,652,653,654,655,656,657,658,659,660\\n',\n",
       " '194,195\\n',\n",
       " '825\\n',\n",
       " '739,740,741,742,743,744,745,746,747,748,749,750\\n',\n",
       " '805,806,807,808,809,810\\n',\n",
       " '395,396,397,398,399,400,401,402,403,404,405\\n',\n",
       " '358,359,360\\n',\n",
       " '351,352,353,354,355,356,357,358,359,360\\n',\n",
       " '575,576,577,578,579,580,581,582,583,584,585\\n',\n",
       " '1,2,3,4,5,6,7,8,9,10,11,12,13,14,15\\n']"
      ]
     },
     "execution_count": 11,
     "metadata": {},
     "output_type": "execute_result"
    }
   ],
   "source": [
    "lines"
   ]
  },
  {
   "cell_type": "code",
   "execution_count": 18,
   "metadata": {},
   "outputs": [
    {
     "data": {
      "text/plain": [
       "'926,927,928,929,930\\n'"
      ]
     },
     "execution_count": 18,
     "metadata": {},
     "output_type": "execute_result"
    }
   ],
   "source": [
    "lines[0]"
   ]
  },
  {
   "cell_type": "code",
   "execution_count": 19,
   "metadata": {},
   "outputs": [
    {
     "data": {
      "text/plain": [
       "25"
      ]
     },
     "execution_count": 19,
     "metadata": {},
     "output_type": "execute_result"
    }
   ],
   "source": [
    "len(lines)"
   ]
  },
  {
   "cell_type": "code",
   "execution_count": 16,
   "metadata": {},
   "outputs": [
    {
     "name": "stdout",
     "output_type": "stream",
     "text": [
      "Line 0: 926,927,928,929,930\n",
      "\n",
      "Line 1: 646,647,648,649,650,651,652,653,654,655,656,657,658,659,660\n",
      "\n",
      "Line 2: 488,489,490,491,492,493,494,495\n",
      "\n",
      "Line 3: 31,32,33,34,35,36,37,38,39,40,41,42,43,44,45\n",
      "\n",
      "Line 4: 169,170,171,172,173,174,175,176,177,178,179,180\n",
      "\n",
      "Line 5: 419,420\n",
      "\n",
      "Line 6: 455,456,457,458,459,460,461,462,463,464,465\n",
      "\n",
      "Line 7: 883,884,885\n",
      "\n",
      "Line 8: 241,242,243,244,245,246,247,248,249,250,251,252,253,254,255\n",
      "\n",
      "Line 9: 786,787,788,789,790,791,792,793,794,795\n",
      "\n",
      "Line 10: 137,138,139,140,141,142,143,144,145,146,147,148,149,150\n",
      "\n",
      "Line 11: 912,913,914,915\n",
      "\n",
      "Line 12: 81,82,83,84,85,86,87,88,89,90\n",
      "\n",
      "Line 13: 256,257,258,259,260,261,262,263,264,265,266,267,268,269,270\n",
      "\n",
      "Line 14: 450\n",
      "\n",
      "Line 15: 649,650,651,652,653,654,655,656,657,658,659,660\n",
      "\n",
      "Line 16: 194,195\n",
      "\n",
      "Line 17: 825\n",
      "\n",
      "Line 18: 739,740,741,742,743,744,745,746,747,748,749,750\n",
      "\n",
      "Line 19: 805,806,807,808,809,810\n",
      "\n",
      "Line 20: 395,396,397,398,399,400,401,402,403,404,405\n",
      "\n",
      "Line 21: 358,359,360\n",
      "\n",
      "Line 22: 351,352,353,354,355,356,357,358,359,360\n",
      "\n",
      "Line 23: 575,576,577,578,579,580,581,582,583,584,585\n",
      "\n",
      "Line 24: 1,2,3,4,5,6,7,8,9,10,11,12,13,14,15\n",
      "\n"
     ]
    }
   ],
   "source": [
    "for index, line in enumerate(lines):\n",
    "    print(f\"Line {index}: {line}\") "
   ]
  },
  {
   "cell_type": "markdown",
   "metadata": {},
   "source": [
    "Notice that this code seems to put an additional return after every line. This is because each line in the source file has a newline character (\\n) at the end of it, and the print function automatically appends a newline character to the end of printed statements. Therefore, it will be good practice to use the .strip() method to clean any extra returns from the line we’ve read from the source file. "
   ]
  },
  {
   "cell_type": "code",
   "execution_count": 22,
   "metadata": {},
   "outputs": [
    {
     "name": "stdout",
     "output_type": "stream",
     "text": [
      "Line 0: '926,927,928,929,930'\n",
      "Line 1: '646,647,648,649,650,651,652,653,654,655,656,657,658,659,660'\n",
      "Line 2: '488,489,490,491,492,493,494,495'\n",
      "Line 3: '31,32,33,34,35,36,37,38,39,40,41,42,43,44,45'\n",
      "Line 4: '169,170,171,172,173,174,175,176,177,178,179,180'\n",
      "Line 5: '419,420'\n",
      "Line 6: '455,456,457,458,459,460,461,462,463,464,465'\n",
      "Line 7: '883,884,885'\n",
      "Line 8: '241,242,243,244,245,246,247,248,249,250,251,252,253,254,255'\n",
      "Line 9: '786,787,788,789,790,791,792,793,794,795'\n",
      "Line 10: '137,138,139,140,141,142,143,144,145,146,147,148,149,150'\n",
      "Line 11: '912,913,914,915'\n",
      "Line 12: '81,82,83,84,85,86,87,88,89,90'\n",
      "Line 13: '256,257,258,259,260,261,262,263,264,265,266,267,268,269,270'\n",
      "Line 14: '450'\n",
      "Line 15: '649,650,651,652,653,654,655,656,657,658,659,660'\n",
      "Line 16: '194,195'\n",
      "Line 17: '825'\n",
      "Line 18: '739,740,741,742,743,744,745,746,747,748,749,750'\n",
      "Line 19: '805,806,807,808,809,810'\n",
      "Line 20: '395,396,397,398,399,400,401,402,403,404,405'\n",
      "Line 21: '358,359,360'\n",
      "Line 22: '351,352,353,354,355,356,357,358,359,360'\n",
      "Line 23: '575,576,577,578,579,580,581,582,583,584,585'\n",
      "Line 24: '1,2,3,4,5,6,7,8,9,10,11,12,13,14,15'\n"
     ]
    }
   ],
   "source": [
    "for index, line in enumerate(lines):\n",
    "    cleanLine = line.strip()\n",
    "    print(f\"Line {index}: {repr(cleanLine)}\") "
   ]
  },
  {
   "cell_type": "markdown",
   "metadata": {},
   "source": [
    "### All at once\n",
    "Or, you can read the entire file contents into a variable. "
   ]
  },
  {
   "cell_type": "code",
   "execution_count": 23,
   "metadata": {},
   "outputs": [],
   "source": [
    "with open('support/random_numbers.txt') as fileHandler: \n",
    "    fileContent = fileHandler.read() "
   ]
  },
  {
   "cell_type": "code",
   "execution_count": 24,
   "metadata": {},
   "outputs": [
    {
     "data": {
      "text/plain": [
       "'926,927,928,929,930\\n646,647,648,649,650,651,652,653,654,655,656,657,658,659,660\\n488,489,490,491,492,493,494,495\\n31,32,33,34,35,36,37,38,39,40,41,42,43,44,45\\n169,170,171,172,173,174,175,176,177,178,179,180\\n419,420\\n455,456,457,458,459,460,461,462,463,464,465\\n883,884,885\\n241,242,243,244,245,246,247,248,249,250,251,252,253,254,255\\n786,787,788,789,790,791,792,793,794,795\\n137,138,139,140,141,142,143,144,145,146,147,148,149,150\\n912,913,914,915\\n81,82,83,84,85,86,87,88,89,90\\n256,257,258,259,260,261,262,263,264,265,266,267,268,269,270\\n450\\n649,650,651,652,653,654,655,656,657,658,659,660\\n194,195\\n825\\n739,740,741,742,743,744,745,746,747,748,749,750\\n805,806,807,808,809,810\\n395,396,397,398,399,400,401,402,403,404,405\\n358,359,360\\n351,352,353,354,355,356,357,358,359,360\\n575,576,577,578,579,580,581,582,583,584,585\\n1,2,3,4,5,6,7,8,9,10,11,12,13,14,15\\n'"
      ]
     },
     "execution_count": 24,
     "metadata": {},
     "output_type": "execute_result"
    }
   ],
   "source": [
    "fileContent"
   ]
  },
  {
   "cell_type": "code",
   "execution_count": 25,
   "metadata": {},
   "outputs": [
    {
     "name": "stdout",
     "output_type": "stream",
     "text": [
      "926,927,928,929,930\n",
      "646,647,648,649,650,651,652,653,654,655,656,657,658,659,660\n",
      "488,489,490,491,492,493,494,495\n",
      "31,32,33,34,35,36,37,38,39,40,41,42,43,44,45\n",
      "169,170,171,172,173,174,175,176,177,178,179,180\n",
      "419,420\n",
      "455,456,457,458,459,460,461,462,463,464,465\n",
      "883,884,885\n",
      "241,242,243,244,245,246,247,248,249,250,251,252,253,254,255\n",
      "786,787,788,789,790,791,792,793,794,795\n",
      "137,138,139,140,141,142,143,144,145,146,147,148,149,150\n",
      "912,913,914,915\n",
      "81,82,83,84,85,86,87,88,89,90\n",
      "256,257,258,259,260,261,262,263,264,265,266,267,268,269,270\n",
      "450\n",
      "649,650,651,652,653,654,655,656,657,658,659,660\n",
      "194,195\n",
      "825\n",
      "739,740,741,742,743,744,745,746,747,748,749,750\n",
      "805,806,807,808,809,810\n",
      "395,396,397,398,399,400,401,402,403,404,405\n",
      "358,359,360\n",
      "351,352,353,354,355,356,357,358,359,360\n",
      "575,576,577,578,579,580,581,582,583,584,585\n",
      "1,2,3,4,5,6,7,8,9,10,11,12,13,14,15\n",
      "\n"
     ]
    }
   ],
   "source": [
    "print(fileContent)"
   ]
  },
  {
   "cell_type": "code",
   "execution_count": 27,
   "metadata": {},
   "outputs": [
    {
     "name": "stdout",
     "output_type": "stream",
     "text": [
      "Length of document:843\n"
     ]
    }
   ],
   "source": [
    "print(\"Length of document:\" + str(len(fileContent)))"
   ]
  },
  {
   "cell_type": "markdown",
   "metadata": {},
   "source": [
    "## Searching a file\n",
    "When searching a file, it is often best to scan the file line-by-line. This will prevent any memory or storage issues if you are trying to process a very large data file (>1GB). For small files, it may be easiest to simply read in the entire file, but I would recommend you tailor your thinking to a line-by-line processing approach as it is a more generic, portable approach. "
   ]
  },
  {
   "cell_type": "code",
   "execution_count": 28,
   "metadata": {},
   "outputs": [],
   "source": [
    "with open('support/random_numbers.txt') as fileHandler: \n",
    "    fileContent = fileHandler.read()"
   ]
  },
  {
   "cell_type": "code",
   "execution_count": 29,
   "metadata": {},
   "outputs": [],
   "source": [
    "fileLines = fileContent.split(\"\\n\")"
   ]
  },
  {
   "cell_type": "code",
   "execution_count": 30,
   "metadata": {},
   "outputs": [
    {
     "data": {
      "text/plain": [
       "['926,927,928,929,930',\n",
       " '646,647,648,649,650,651,652,653,654,655,656,657,658,659,660',\n",
       " '488,489,490,491,492,493,494,495',\n",
       " '31,32,33,34,35,36,37,38,39,40,41,42,43,44,45',\n",
       " '169,170,171,172,173,174,175,176,177,178,179,180',\n",
       " '419,420',\n",
       " '455,456,457,458,459,460,461,462,463,464,465',\n",
       " '883,884,885',\n",
       " '241,242,243,244,245,246,247,248,249,250,251,252,253,254,255',\n",
       " '786,787,788,789,790,791,792,793,794,795',\n",
       " '137,138,139,140,141,142,143,144,145,146,147,148,149,150',\n",
       " '912,913,914,915',\n",
       " '81,82,83,84,85,86,87,88,89,90',\n",
       " '256,257,258,259,260,261,262,263,264,265,266,267,268,269,270',\n",
       " '450',\n",
       " '649,650,651,652,653,654,655,656,657,658,659,660',\n",
       " '194,195',\n",
       " '825',\n",
       " '739,740,741,742,743,744,745,746,747,748,749,750',\n",
       " '805,806,807,808,809,810',\n",
       " '395,396,397,398,399,400,401,402,403,404,405',\n",
       " '358,359,360',\n",
       " '351,352,353,354,355,356,357,358,359,360',\n",
       " '575,576,577,578,579,580,581,582,583,584,585',\n",
       " '1,2,3,4,5,6,7,8,9,10,11,12,13,14,15',\n",
       " '']"
      ]
     },
     "execution_count": 30,
     "metadata": {},
     "output_type": "execute_result"
    }
   ],
   "source": [
    "fileLines"
   ]
  },
  {
   "cell_type": "code",
   "execution_count": 31,
   "metadata": {},
   "outputs": [
    {
     "name": "stdout",
     "output_type": "stream",
     "text": [
      "this line is longer than 10 characters: 926,927,928,929,930\n",
      "this line is longer than 10 characters: 646,647,648,649,650,651,652,653,654,655,656,657,658,659,660\n",
      "this line is longer than 10 characters: 488,489,490,491,492,493,494,495\n",
      "this line is longer than 10 characters: 31,32,33,34,35,36,37,38,39,40,41,42,43,44,45\n",
      "this line is longer than 10 characters: 169,170,171,172,173,174,175,176,177,178,179,180\n",
      "this line is longer than 10 characters: 455,456,457,458,459,460,461,462,463,464,465\n",
      "this line is longer than 10 characters: 883,884,885\n",
      "this line is longer than 10 characters: 241,242,243,244,245,246,247,248,249,250,251,252,253,254,255\n",
      "this line is longer than 10 characters: 786,787,788,789,790,791,792,793,794,795\n",
      "this line is longer than 10 characters: 137,138,139,140,141,142,143,144,145,146,147,148,149,150\n",
      "this line is longer than 10 characters: 912,913,914,915\n",
      "this line is longer than 10 characters: 81,82,83,84,85,86,87,88,89,90\n",
      "this line is longer than 10 characters: 256,257,258,259,260,261,262,263,264,265,266,267,268,269,270\n",
      "this line is longer than 10 characters: 649,650,651,652,653,654,655,656,657,658,659,660\n",
      "this line is longer than 10 characters: 739,740,741,742,743,744,745,746,747,748,749,750\n",
      "this line is longer than 10 characters: 805,806,807,808,809,810\n",
      "this line is longer than 10 characters: 395,396,397,398,399,400,401,402,403,404,405\n",
      "this line is longer than 10 characters: 358,359,360\n",
      "this line is longer than 10 characters: 351,352,353,354,355,356,357,358,359,360\n",
      "this line is longer than 10 characters: 575,576,577,578,579,580,581,582,583,584,585\n",
      "this line is longer than 10 characters: 1,2,3,4,5,6,7,8,9,10,11,12,13,14,15\n"
     ]
    }
   ],
   "source": [
    "for index, line in enumerate(fileLines):\n",
    "    cleanLine = line.strip() \n",
    "    if len(cleanLine) > 10:\n",
    "        print(f\"this line is longer than 10 characters: {cleanLine}\") "
   ]
  },
  {
   "cell_type": "markdown",
   "metadata": {},
   "source": [
    "Your search for content needs to be aware of the fact that lines read in from a file are always read in as a string. Therefore, if you expect numbers, you will need to take the necessary steps to convert the content into a numeric form. The code above checks the length of the line to verify it is longer than 10 characters. If we wanted to convert the line to a list and then check for lines with more than 10 items, we would do this: "
   ]
  },
  {
   "cell_type": "code",
   "execution_count": 32,
   "metadata": {},
   "outputs": [],
   "source": [
    "with open('support/random_numbers.txt') as fileHandler: \n",
    "    fileContent = fileHandler.read()"
   ]
  },
  {
   "cell_type": "code",
   "execution_count": 33,
   "metadata": {},
   "outputs": [],
   "source": [
    "fileLines = fileContent.split(\"\\n\")"
   ]
  },
  {
   "cell_type": "code",
   "execution_count": 34,
   "metadata": {},
   "outputs": [
    {
     "data": {
      "text/plain": [
       "['926,927,928,929,930',\n",
       " '646,647,648,649,650,651,652,653,654,655,656,657,658,659,660',\n",
       " '488,489,490,491,492,493,494,495',\n",
       " '31,32,33,34,35,36,37,38,39,40,41,42,43,44,45',\n",
       " '169,170,171,172,173,174,175,176,177,178,179,180',\n",
       " '419,420',\n",
       " '455,456,457,458,459,460,461,462,463,464,465',\n",
       " '883,884,885',\n",
       " '241,242,243,244,245,246,247,248,249,250,251,252,253,254,255',\n",
       " '786,787,788,789,790,791,792,793,794,795',\n",
       " '137,138,139,140,141,142,143,144,145,146,147,148,149,150',\n",
       " '912,913,914,915',\n",
       " '81,82,83,84,85,86,87,88,89,90',\n",
       " '256,257,258,259,260,261,262,263,264,265,266,267,268,269,270',\n",
       " '450',\n",
       " '649,650,651,652,653,654,655,656,657,658,659,660',\n",
       " '194,195',\n",
       " '825',\n",
       " '739,740,741,742,743,744,745,746,747,748,749,750',\n",
       " '805,806,807,808,809,810',\n",
       " '395,396,397,398,399,400,401,402,403,404,405',\n",
       " '358,359,360',\n",
       " '351,352,353,354,355,356,357,358,359,360',\n",
       " '575,576,577,578,579,580,581,582,583,584,585',\n",
       " '1,2,3,4,5,6,7,8,9,10,11,12,13,14,15',\n",
       " '']"
      ]
     },
     "execution_count": 34,
     "metadata": {},
     "output_type": "execute_result"
    }
   ],
   "source": [
    "fileLines"
   ]
  },
  {
   "cell_type": "code",
   "execution_count": 35,
   "metadata": {},
   "outputs": [
    {
     "name": "stdout",
     "output_type": "stream",
     "text": [
      "this line has more than 10 elements: ['646', '647', '648', '649', '650', '651', '652', '653', '654', '655', '656', '657', '658', '659', '660']\n",
      "this line has more than 10 elements: ['31', '32', '33', '34', '35', '36', '37', '38', '39', '40', '41', '42', '43', '44', '45']\n",
      "this line has more than 10 elements: ['169', '170', '171', '172', '173', '174', '175', '176', '177', '178', '179', '180']\n",
      "this line has more than 10 elements: ['455', '456', '457', '458', '459', '460', '461', '462', '463', '464', '465']\n",
      "this line has more than 10 elements: ['241', '242', '243', '244', '245', '246', '247', '248', '249', '250', '251', '252', '253', '254', '255']\n",
      "this line has more than 10 elements: ['137', '138', '139', '140', '141', '142', '143', '144', '145', '146', '147', '148', '149', '150']\n",
      "this line has more than 10 elements: ['256', '257', '258', '259', '260', '261', '262', '263', '264', '265', '266', '267', '268', '269', '270']\n",
      "this line has more than 10 elements: ['649', '650', '651', '652', '653', '654', '655', '656', '657', '658', '659', '660']\n",
      "this line has more than 10 elements: ['739', '740', '741', '742', '743', '744', '745', '746', '747', '748', '749', '750']\n",
      "this line has more than 10 elements: ['395', '396', '397', '398', '399', '400', '401', '402', '403', '404', '405']\n",
      "this line has more than 10 elements: ['575', '576', '577', '578', '579', '580', '581', '582', '583', '584', '585']\n",
      "this line has more than 10 elements: ['1', '2', '3', '4', '5', '6', '7', '8', '9', '10', '11', '12', '13', '14', '15']\n"
     ]
    }
   ],
   "source": [
    "for index, line in enumerate(fileLines):\n",
    "    cleanLine = line.strip() \n",
    "    numList = cleanLine.split(\",\") \n",
    "    if len(numList) > 10: \n",
    "        print(f\"this line has more than 10 elements: {numList}\") "
   ]
  },
  {
   "cell_type": "markdown",
   "metadata": {},
   "source": [
    "In the previous examples, we parse the file line-by-line because the task (e.g., checking for lines with more than 10 numbers) imply a line-by-line search. If we had a different requirement we may parse the file differently. For example, if we wanted to collect all the numbers greater than 500 in to a list, regardless of what line they occur, it would make sense to process the file element-by-element. We might do the following:  "
   ]
  },
  {
   "cell_type": "code",
   "execution_count": 38,
   "metadata": {},
   "outputs": [],
   "source": [
    "with open('support/random_numbers.txt') as fileHandler: \n",
    "    fileContent = fileHandler.read()"
   ]
  },
  {
   "cell_type": "code",
   "execution_count": 45,
   "metadata": {},
   "outputs": [],
   "source": [
    "fileElements = fileContent.strip().replace(\"\\n\", \",\").split(\",\")"
   ]
  },
  {
   "cell_type": "code",
   "execution_count": 46,
   "metadata": {},
   "outputs": [
    {
     "data": {
      "text/plain": [
       "['926',\n",
       " '927',\n",
       " '928',\n",
       " '929',\n",
       " '930',\n",
       " '646',\n",
       " '647',\n",
       " '648',\n",
       " '649',\n",
       " '650',\n",
       " '651',\n",
       " '652',\n",
       " '653',\n",
       " '654',\n",
       " '655',\n",
       " '656',\n",
       " '657',\n",
       " '658',\n",
       " '659',\n",
       " '660',\n",
       " '488',\n",
       " '489',\n",
       " '490',\n",
       " '491',\n",
       " '492',\n",
       " '493',\n",
       " '494',\n",
       " '495',\n",
       " '31',\n",
       " '32',\n",
       " '33',\n",
       " '34',\n",
       " '35',\n",
       " '36',\n",
       " '37',\n",
       " '38',\n",
       " '39',\n",
       " '40',\n",
       " '41',\n",
       " '42',\n",
       " '43',\n",
       " '44',\n",
       " '45',\n",
       " '169',\n",
       " '170',\n",
       " '171',\n",
       " '172',\n",
       " '173',\n",
       " '174',\n",
       " '175',\n",
       " '176',\n",
       " '177',\n",
       " '178',\n",
       " '179',\n",
       " '180',\n",
       " '419',\n",
       " '420',\n",
       " '455',\n",
       " '456',\n",
       " '457',\n",
       " '458',\n",
       " '459',\n",
       " '460',\n",
       " '461',\n",
       " '462',\n",
       " '463',\n",
       " '464',\n",
       " '465',\n",
       " '883',\n",
       " '884',\n",
       " '885',\n",
       " '241',\n",
       " '242',\n",
       " '243',\n",
       " '244',\n",
       " '245',\n",
       " '246',\n",
       " '247',\n",
       " '248',\n",
       " '249',\n",
       " '250',\n",
       " '251',\n",
       " '252',\n",
       " '253',\n",
       " '254',\n",
       " '255',\n",
       " '786',\n",
       " '787',\n",
       " '788',\n",
       " '789',\n",
       " '790',\n",
       " '791',\n",
       " '792',\n",
       " '793',\n",
       " '794',\n",
       " '795',\n",
       " '137',\n",
       " '138',\n",
       " '139',\n",
       " '140',\n",
       " '141',\n",
       " '142',\n",
       " '143',\n",
       " '144',\n",
       " '145',\n",
       " '146',\n",
       " '147',\n",
       " '148',\n",
       " '149',\n",
       " '150',\n",
       " '912',\n",
       " '913',\n",
       " '914',\n",
       " '915',\n",
       " '81',\n",
       " '82',\n",
       " '83',\n",
       " '84',\n",
       " '85',\n",
       " '86',\n",
       " '87',\n",
       " '88',\n",
       " '89',\n",
       " '90',\n",
       " '256',\n",
       " '257',\n",
       " '258',\n",
       " '259',\n",
       " '260',\n",
       " '261',\n",
       " '262',\n",
       " '263',\n",
       " '264',\n",
       " '265',\n",
       " '266',\n",
       " '267',\n",
       " '268',\n",
       " '269',\n",
       " '270',\n",
       " '450',\n",
       " '649',\n",
       " '650',\n",
       " '651',\n",
       " '652',\n",
       " '653',\n",
       " '654',\n",
       " '655',\n",
       " '656',\n",
       " '657',\n",
       " '658',\n",
       " '659',\n",
       " '660',\n",
       " '194',\n",
       " '195',\n",
       " '825',\n",
       " '739',\n",
       " '740',\n",
       " '741',\n",
       " '742',\n",
       " '743',\n",
       " '744',\n",
       " '745',\n",
       " '746',\n",
       " '747',\n",
       " '748',\n",
       " '749',\n",
       " '750',\n",
       " '805',\n",
       " '806',\n",
       " '807',\n",
       " '808',\n",
       " '809',\n",
       " '810',\n",
       " '395',\n",
       " '396',\n",
       " '397',\n",
       " '398',\n",
       " '399',\n",
       " '400',\n",
       " '401',\n",
       " '402',\n",
       " '403',\n",
       " '404',\n",
       " '405',\n",
       " '358',\n",
       " '359',\n",
       " '360',\n",
       " '351',\n",
       " '352',\n",
       " '353',\n",
       " '354',\n",
       " '355',\n",
       " '356',\n",
       " '357',\n",
       " '358',\n",
       " '359',\n",
       " '360',\n",
       " '575',\n",
       " '576',\n",
       " '577',\n",
       " '578',\n",
       " '579',\n",
       " '580',\n",
       " '581',\n",
       " '582',\n",
       " '583',\n",
       " '584',\n",
       " '585',\n",
       " '1',\n",
       " '2',\n",
       " '3',\n",
       " '4',\n",
       " '5',\n",
       " '6',\n",
       " '7',\n",
       " '8',\n",
       " '9',\n",
       " '10',\n",
       " '11',\n",
       " '12',\n",
       " '13',\n",
       " '14',\n",
       " '15']"
      ]
     },
     "execution_count": 46,
     "metadata": {},
     "output_type": "execute_result"
    }
   ],
   "source": [
    "fileElements"
   ]
  },
  {
   "cell_type": "code",
   "execution_count": 47,
   "metadata": {},
   "outputs": [],
   "source": [
    "bigNumList = [] \n",
    "for index, element in enumerate(fileElements):\n",
    "    num = int(element)\n",
    "    if num > 500: \n",
    "        bigNumList.append(num)"
   ]
  },
  {
   "cell_type": "code",
   "execution_count": 48,
   "metadata": {},
   "outputs": [
    {
     "data": {
      "text/plain": [
       "[926,\n",
       " 927,\n",
       " 928,\n",
       " 929,\n",
       " 930,\n",
       " 646,\n",
       " 647,\n",
       " 648,\n",
       " 649,\n",
       " 650,\n",
       " 651,\n",
       " 652,\n",
       " 653,\n",
       " 654,\n",
       " 655,\n",
       " 656,\n",
       " 657,\n",
       " 658,\n",
       " 659,\n",
       " 660,\n",
       " 883,\n",
       " 884,\n",
       " 885,\n",
       " 786,\n",
       " 787,\n",
       " 788,\n",
       " 789,\n",
       " 790,\n",
       " 791,\n",
       " 792,\n",
       " 793,\n",
       " 794,\n",
       " 795,\n",
       " 912,\n",
       " 913,\n",
       " 914,\n",
       " 915,\n",
       " 649,\n",
       " 650,\n",
       " 651,\n",
       " 652,\n",
       " 653,\n",
       " 654,\n",
       " 655,\n",
       " 656,\n",
       " 657,\n",
       " 658,\n",
       " 659,\n",
       " 660,\n",
       " 825,\n",
       " 739,\n",
       " 740,\n",
       " 741,\n",
       " 742,\n",
       " 743,\n",
       " 744,\n",
       " 745,\n",
       " 746,\n",
       " 747,\n",
       " 748,\n",
       " 749,\n",
       " 750,\n",
       " 805,\n",
       " 806,\n",
       " 807,\n",
       " 808,\n",
       " 809,\n",
       " 810,\n",
       " 575,\n",
       " 576,\n",
       " 577,\n",
       " 578,\n",
       " 579,\n",
       " 580,\n",
       " 581,\n",
       " 582,\n",
       " 583,\n",
       " 584,\n",
       " 585]"
      ]
     },
     "execution_count": 48,
     "metadata": {},
     "output_type": "execute_result"
    }
   ],
   "source": [
    "bigNumList"
   ]
  },
  {
   "cell_type": "markdown",
   "metadata": {},
   "source": [
    "## Writing a file\n",
    "Any time our application processes data, we will probably want to save the results in some format. To save them as a text file, we would simply use the write() method of our file handler to send data to our file just as we would use the print() function to send data to the console. "
   ]
  },
  {
   "cell_type": "code",
   "execution_count": 49,
   "metadata": {},
   "outputs": [],
   "source": [
    "with open('support/big_numbers.txt', 'w') as fileHandler: \n",
    "    for index, bigNum in enumerate(bigNumList): \n",
    "        fileHandler.write(str(bigNum) + \"\\n\") "
   ]
  },
  {
   "cell_type": "markdown",
   "metadata": {},
   "source": [
    "In the code above, we create a file handler using the ‘w’ option which tells the operating system to open the file for the purpose of writing data to it. Be careful with the ‘w’ option because it will erase the content of the file if the file already exists. Otherwise, it will create the file. Also note the use of the str() method when writing to our file. Python can only write strings so any attempt to write an integer will result in a type conflict error. Finally, I append the newline character to the end of each line. This forces each number to a newline in our file. Without this character, all of the numbers would have appeared on the same line. \n",
    "# Exercise\n",
    "Write code to scan random_numbers.txt for numbers divisible by 7 (number % 7 == 0 will be true if there is no remainder when dividing by 7) and add them to a list. "
   ]
  },
  {
   "cell_type": "code",
   "execution_count": null,
   "metadata": {},
   "outputs": [],
   "source": [
    "# Step 1...\n",
    "\n",
    "# Step 2..."
   ]
  }
 ],
 "metadata": {
  "kernelspec": {
   "display_name": "Python 3 (ipykernel)",
   "language": "python",
   "name": "python3"
  },
  "language_info": {
   "codemirror_mode": {
    "name": "ipython",
    "version": 3
   },
   "file_extension": ".py",
   "mimetype": "text/x-python",
   "name": "python",
   "nbconvert_exporter": "python",
   "pygments_lexer": "ipython3",
   "version": "3.12.3"
  },
  "toc": {
   "base_numbering": 1,
   "nav_menu": {},
   "number_sections": true,
   "sideBar": true,
   "skip_h1_title": false,
   "title_cell": "Table of Contents",
   "title_sidebar": "Contents",
   "toc_cell": false,
   "toc_position": {},
   "toc_section_display": true,
   "toc_window_display": true
  }
 },
 "nbformat": 4,
 "nbformat_minor": 4
}
