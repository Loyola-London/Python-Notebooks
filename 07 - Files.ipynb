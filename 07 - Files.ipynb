{
 "cells": [
  {
   "cell_type": "markdown",
   "metadata": {},
   "source": [
    "# Introduction\n",
    "In this module, we explore new ways of acquiring data in our application. Up to this point, we have been using data values that are either entered by the user or are persistent in our programs. This limits the types of tasks our applications can handle. In this chapter we will learn how to use python to interface with external files. We will learn how to open files, read files line-by-line and write data to new or existing files. \n",
    "\n",
    "# Files \n",
    "## Opening Files\n",
    "Because python is an interpreted language, interfacing with the operating system is handled by the interpreter. Therefore, when files are ‘opened’ python requests a file handler that acts as a middleman between python and the file. If you think of it from an ownership perspective, python owns the commands in python and the operating system owns the files stored on the computer. Neither really understands how to interact with one-another, so a middleman is needed to translate python’s requests into directions the operating system understands. "
   ]
  },
  {
   "cell_type": "code",
   "execution_count": null,
   "metadata": {},
   "outputs": [],
   "source": [
    "with open('support/random_numbers.txt') as fileHandler: \n",
    "    print(fileHandler)\n",
    "    print(type(fileHandler))"
   ]
  },
  {
   "cell_type": "markdown",
   "metadata": {},
   "source": [
    "The **with** keyword above provides a safe way of working with files because files must be opened and closed to ensure data integrity. If your code crashes after you open the file, the file may be left open and may be corrupted. The with statement ensures that files are closed when the with block of code completes. For indentation purposes, code that needs access to the file handler should be indented one level beyond the indentation level of the with (just like conditional and iteration blocks).  \n",
    "\n",
    "## Reading files\n",
    "### Line-by-Line\n",
    "There are several mechanisms for reading from files. The first, and probably easiest, is to treat the file handler as an iterable list where each iteration through the for loop produces the next line of text from the source file. The code below reads the text one line at a time and exits the for loop when there are no lines left to read. \n",
    "\n",
    "Using fileHandler as an iterable..."
   ]
  },
  {
   "cell_type": "code",
   "execution_count": null,
   "metadata": {},
   "outputs": [],
   "source": [
    "with open('support/random_numbers.txt') as fileHandler: \n",
    "    for index, line in enumerate(fileHandler):\n",
    "        print(f\"{index}: {line}\")\n",
    "        break"
   ]
  },
  {
   "cell_type": "code",
   "execution_count": null,
   "metadata": {},
   "outputs": [],
   "source": [
    "with open('support/random_numbers.txt') as fileHandler: \n",
    "    lineNumber = 0\n",
    "    for index, line in enumerate(fileHandler):\n",
    "        print(f\"Line {lineNumber}: {line}\") \n",
    "        lineNumber += 1"
   ]
  },
  {
   "cell_type": "markdown",
   "metadata": {},
   "source": [
    "Using .readline()..."
   ]
  },
  {
   "cell_type": "code",
   "execution_count": null,
   "metadata": {},
   "outputs": [],
   "source": [
    "with open('support/random_numbers.txt') as fileHandler: \n",
    "    line = fileHandler.readline()\n",
    "    print(line)"
   ]
  },
  {
   "cell_type": "code",
   "execution_count": null,
   "metadata": {},
   "outputs": [],
   "source": [
    "with open('support/random_numbers.txt') as fileHandler: \n",
    "    lineNumber = 0\n",
    "    while True:\n",
    "        line = fileHandler.readline()\n",
    "        if not line:\n",
    "            break\n",
    "        print(f\"Line {lineNumber}: {line}\") \n",
    "        lineNumber += 1"
   ]
  },
  {
   "cell_type": "markdown",
   "metadata": {},
   "source": [
    "Using .readlines()..."
   ]
  },
  {
   "cell_type": "code",
   "execution_count": null,
   "metadata": {},
   "outputs": [],
   "source": [
    "with open('support/random_numbers.txt') as fileHandler: \n",
    "    lines = fileHandler.readlines()\n",
    "    print(lines[0])\n",
    "    print(len(lines))"
   ]
  },
  {
   "cell_type": "code",
   "execution_count": null,
   "metadata": {},
   "outputs": [],
   "source": [
    "with open('support/random_numbers.txt') as fileHandler: \n",
    "    lines = fileHandler.readlines()\n",
    "    for index, line in enumerate(lines):\n",
    "        print(f\"Line {index}: {line}\") "
   ]
  },
  {
   "cell_type": "markdown",
   "metadata": {},
   "source": [
    "Notice that this code seems to put an additional return after every line. This is because each line in the source file has a newline character (\\n) at the end of it, and the print function automatically appends a newline character to the end of printed statements. Therefore, it will be good practice to use the .strip() method to clean any extra returns from the line we’ve read from the source file. "
   ]
  },
  {
   "cell_type": "code",
   "execution_count": null,
   "metadata": {},
   "outputs": [],
   "source": [
    "with open('support/random_numbers.txt') as fileHandler: \n",
    "    for index, line in enumerate(fileHandler):\n",
    "        print(f\"Line {index}: {repr(line)}\") "
   ]
  },
  {
   "cell_type": "code",
   "execution_count": null,
   "metadata": {},
   "outputs": [],
   "source": [
    "with open('support/random_numbers.txt') as fileHandler: \n",
    "    for index, line in enumerate(fileHandler):\n",
    "        cleanLine = line.strip()\n",
    "        print(f\"Line {index}: {repr(cleanLine)}\") "
   ]
  },
  {
   "cell_type": "markdown",
   "metadata": {},
   "source": [
    "### All at once\n",
    "Or, you can read the entire file contents into a variable. "
   ]
  },
  {
   "cell_type": "code",
   "execution_count": null,
   "metadata": {},
   "outputs": [],
   "source": [
    "with open('support/random_numbers.txt') as fileHandler: \n",
    "    fileContent = fileHandler.read() \n",
    "print(fileContent)\n",
    "print(repr(fileContent))\n",
    "print(\"Length of lines:\" + str(len(fileContent)))"
   ]
  },
  {
   "cell_type": "markdown",
   "metadata": {},
   "source": [
    "## Searching a file\n",
    "When searching a file, it is often best to scan the file line-by-line. This will prevent any memory or storage issues if you are trying to process a very large data file (>1GB). For small files, it may be easiest to simply read in the entire file, but I would recommend you tailor your thinking to a line-by-line processing approach as it is a more generic, portable approach. "
   ]
  },
  {
   "cell_type": "code",
   "execution_count": null,
   "metadata": {},
   "outputs": [],
   "source": [
    "with open('support/random_numbers.txt') as fileHandler: \n",
    "    for index, line in enumerate(fileHandler):\n",
    "        cleanLine = line.strip() \n",
    "        if len(cleanLine) > 10:\n",
    "            print(f\"this line is longer than 10 characters: {cleanLine}\") "
   ]
  },
  {
   "cell_type": "markdown",
   "metadata": {},
   "source": [
    "Your search for content needs to be aware of the fact that lines read in from a file are always read in as a string. Therefore, if you expect numbers, you will need to take the necessary steps to convert the content into a numeric form. The code above checks the length of the line to verify it is longer than 10 characters. If we wanted to convert the line to a list and then check for lines with more than 10 items, we would do this: "
   ]
  },
  {
   "cell_type": "code",
   "execution_count": null,
   "metadata": {},
   "outputs": [],
   "source": [
    "with open('support/random_numbers.txt') as fileHandler: \n",
    "    for index, line in enumerate(fileHandler):\n",
    "        cleanLine = line.strip() \n",
    "        numList = cleanLine.split(\",\") \n",
    "        if len(numList) > 10: \n",
    "            print(f\"this line has more than 10 elements: {numList}\") "
   ]
  },
  {
   "cell_type": "markdown",
   "metadata": {},
   "source": [
    "Because we are going line by line, we may need to aggregate content from different areas in the file. If we wanted to collect all the numbers greater than 500 in to a list, we would do the following:  "
   ]
  },
  {
   "cell_type": "code",
   "execution_count": null,
   "metadata": {},
   "outputs": [],
   "source": [
    "bigNumList = [] \n",
    "with open('support/random_numbers.txt') as fileHandler: \n",
    "    for index, line in enumerate(fileHandler):\n",
    "        cleanLine = line.strip() \n",
    "        numList = cleanLine.split(\",\") \n",
    "        for num in numList: \n",
    "            if int(num) > 500: \n",
    "                bigNumList.append(int(num))\n",
    "\n",
    "print(bigNumList) "
   ]
  },
  {
   "cell_type": "markdown",
   "metadata": {},
   "source": [
    "## Writing a file\n",
    "Any time our application processes data, we will probably want to save the results in some format. To save them as a text file, we would simply use the write() method of our file handler to send data to our file just as we would use the print() function to send data to the console. "
   ]
  },
  {
   "cell_type": "code",
   "execution_count": null,
   "metadata": {},
   "outputs": [],
   "source": [
    "with open('support/big_numbers.txt', 'w') as fileHandler: \n",
    "    for index, bigNum in enumerate(bigNumList): \n",
    "        fileHandler.write(str(bigNum) + \"\\n\") "
   ]
  },
  {
   "cell_type": "markdown",
   "metadata": {},
   "source": [
    "In the code above, we create a file handler using the ‘w’ option which tells the operating system to open the file for the purpose of writing data to it. Be careful with the ‘w’ option because it will erase the content of the file if the file already exists. Otherwise, it will create the file. Also note the use of the str() method when writing to our file. Python can only write strings so any attempt to write an integer will result in a type conflict error. Finally, I append the newline character to the end of each line. This forces each number to a newline in our file. Without this character, all of the numbers would have appeared on the same line. \n",
    "# Exercise\n",
    "Write code to scan random_numbers.txt for numbers divisible by 7 (number % 7 == 0 will be true if there is no remainder when dividing by 7) and add them to a list. "
   ]
  },
  {
   "cell_type": "code",
   "execution_count": null,
   "metadata": {},
   "outputs": [],
   "source": [
    "# Step 1...\n",
    "\n",
    "# Step 2..."
   ]
  }
 ],
 "metadata": {
  "kernelspec": {
   "display_name": "Python 3 (ipykernel)",
   "language": "python",
   "name": "python3"
  },
  "language_info": {
   "codemirror_mode": {
    "name": "ipython",
    "version": 3
   },
   "file_extension": ".py",
   "mimetype": "text/x-python",
   "name": "python",
   "nbconvert_exporter": "python",
   "pygments_lexer": "ipython3",
   "version": "3.12.3"
  },
  "toc": {
   "base_numbering": 1,
   "nav_menu": {},
   "number_sections": true,
   "sideBar": true,
   "skip_h1_title": false,
   "title_cell": "Table of Contents",
   "title_sidebar": "Contents",
   "toc_cell": false,
   "toc_position": {},
   "toc_section_display": true,
   "toc_window_display": true
  }
 },
 "nbformat": 4,
 "nbformat_minor": 4
}
