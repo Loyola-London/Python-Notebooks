{
 "cells": [
  {
   "cell_type": "markdown",
   "metadata": {},
   "source": [
    "# Introduction\n",
    "In this module, we will look at another data structure are available in Python. Up to this point, we have been using rather simple structures for storing data in our applications such as numbers, characters and more recently strings. As you write more complex applications you will find yourself needing to keep track of increasingly complex data. Python has several data structures that will help with these tasks, and we will be looking specifically at lists in this module.\n",
    "\n",
    "# Lists\n",
    "Like string, a list is a sequence of values. However, in a string, the sequence is made up of characters while lists can be a sequence of any kind of value. Also, a string will contain only characters in the sequence while lists can include characters, numbers, strings or even other lists. "
   ]
  },
  {
   "cell_type": "code",
   "execution_count": null,
   "metadata": {},
   "outputs": [],
   "source": [
    "myString = \"Whether I shall turn out to be the hero\" \n",
    "myList = ['Whether','I','shall','turn','out','to','be','the','hero'] \n",
    "aList = ['Charles Dickens', 'm', 58, [1812, 1870]] \n",
    "emptyList = [] "
   ]
  },
  {
   "cell_type": "markdown",
   "metadata": {},
   "source": [
    "These examples show how strings and lists are related and how they are different. The first variable is a string, the second variable is a list of words (or a list of strings). The third variable is a mixed type list which includes a string, a character, a number and a list of numbers. \n",
    "\n",
    "When we print the each list, we can see how Python treats lists and strings differently. "
   ]
  },
  {
   "cell_type": "code",
   "execution_count": null,
   "metadata": {},
   "outputs": [],
   "source": [
    "print(myString) "
   ]
  },
  {
   "cell_type": "code",
   "execution_count": null,
   "metadata": {},
   "outputs": [],
   "source": [
    "print(myList) "
   ]
  },
  {
   "cell_type": "code",
   "execution_count": null,
   "metadata": {},
   "outputs": [],
   "source": [
    "for index, elementVar in enumerate(myString):\n",
    "    print(elementVar)"
   ]
  },
  {
   "cell_type": "code",
   "execution_count": null,
   "metadata": {},
   "outputs": [],
   "source": [
    "for index, elementVar in enumerate(myList):\n",
    "    print(elementVar)"
   ]
  },
  {
   "cell_type": "code",
   "execution_count": null,
   "metadata": {},
   "outputs": [],
   "source": [
    "myStringList = myString.split()\n",
    "print(myStringList)"
   ]
  },
  {
   "cell_type": "code",
   "execution_count": null,
   "metadata": {},
   "outputs": [],
   "source": [
    "for wordIndex, elementWord in enumerate(myList):\n",
    "    print(elementWord)\n",
    "    for charIndex, elementChar in enumerate(elementWord):\n",
    "        print(elementChar)"
   ]
  },
  {
   "cell_type": "code",
   "execution_count": null,
   "metadata": {},
   "outputs": [],
   "source": [
    "print(aList) "
   ]
  },
  {
   "cell_type": "code",
   "execution_count": null,
   "metadata": {},
   "outputs": [],
   "source": [
    "print(emptyList) "
   ]
  },
  {
   "cell_type": "markdown",
   "metadata": {},
   "source": [
    "## Accessing Lists \n",
    "\n",
    "### Referencing\n",
    "To access a specific element in a list, you use the bracket notation. Remembering that the index of a list element starts at zero, you can reference individual elements in a list in the following ways. \n",
    "\n",
    "\n",
    "|         0         |  1  |  2 |       3      |\n",
    "|:-----------------:|:---:|:--:|:------------:|\n",
    "| 'Charles Dickens' | 'm' | 58 | [1812, 1870] |\n"
   ]
  },
  {
   "cell_type": "code",
   "execution_count": null,
   "metadata": {},
   "outputs": [],
   "source": [
    "print(aList[0]) \n",
    "print(type(aList[0]))"
   ]
  },
  {
   "cell_type": "code",
   "execution_count": null,
   "metadata": {},
   "outputs": [],
   "source": [
    "myVar = aList[0]"
   ]
  },
  {
   "cell_type": "code",
   "execution_count": null,
   "metadata": {},
   "outputs": [],
   "source": [
    "print(myVar)\n",
    "print(type(myVar))"
   ]
  },
  {
   "cell_type": "code",
   "execution_count": null,
   "metadata": {},
   "outputs": [],
   "source": [
    "myVar = aList[2]"
   ]
  },
  {
   "cell_type": "code",
   "execution_count": null,
   "metadata": {},
   "outputs": [],
   "source": [
    "myVar = aList[3]"
   ]
  },
  {
   "cell_type": "code",
   "execution_count": null,
   "metadata": {},
   "outputs": [],
   "source": [
    "myVar = aList[3][1]"
   ]
  },
  {
   "cell_type": "markdown",
   "metadata": {},
   "source": [
    "The first line prints the first element in the list. This is element is a string and it is located at the zero index. The second line prints the value of the third element (index = 2), a number. The third line prints the second element (index = 1) from the list in the 4th position of our list. The third line illustrates how lists can be hierarchal such that lists can be stored in lists. \n",
    "\n",
    "### Traversing\n",
    "Because lists are sequences, the most straight-forward method for accessing elements in a list is to traverse each element using a for or while loop. In this way you can access each element and process that element before moving to the next. "
   ]
  },
  {
   "cell_type": "code",
   "execution_count": null,
   "metadata": {},
   "outputs": [],
   "source": [
    "for index, aItem in enumerate(aList): \n",
    "    print(f\"Item {index}: {aItem}\") "
   ]
  },
  {
   "cell_type": "code",
   "execution_count": null,
   "metadata": {},
   "outputs": [],
   "source": [
    "index = 0\n",
    "while index < len(aList): \n",
    "    aItem = aList[index] \n",
    "    print(\"Item\", index, \":\", aItem) \n",
    "    index += 1 "
   ]
  },
  {
   "cell_type": "markdown",
   "metadata": {},
   "source": [
    "In the first loop, python loops through each element and sets the variable aItem equal to the current element in the list. In the second loop, python loops until the index iterator becomes equal to the current length of the list. In each iteration of the loop, the aItem variable is reset to a specific element in the list as indicated by the current value of the index iterator. \n",
    "\n",
    "## Modifying Lists\n",
    "Unlike strings, which are immutable, lists are flexible and you can add and remove elements and transform lists in a variety of ways. \n",
    "\n",
    "### Adding Elements\n",
    "When adding elements to a list, you can add individual elements or you can add a list of elements. You will need to pay attention to what you are trying to do so that you don’t end up with unexpected results. "
   ]
  },
  {
   "cell_type": "code",
   "execution_count": null,
   "metadata": {},
   "outputs": [],
   "source": [
    "aList = ['Charles Dickens', 'author', 'm', 58, [1812, 1870]] \n",
    "novelsList = [\"Great Expectations\", \"David Copperfiled\", \"Tale of Two Cities\"] "
   ]
  },
  {
   "cell_type": "code",
   "execution_count": null,
   "metadata": {},
   "outputs": [],
   "source": [
    "print(aList)\n",
    "print(len(aList))\n",
    "print(novelsList)\n",
    "print(len(novelsList))"
   ]
  },
  {
   "cell_type": "code",
   "execution_count": null,
   "metadata": {},
   "outputs": [],
   "source": [
    "aList.append(\"Author\") "
   ]
  },
  {
   "cell_type": "code",
   "execution_count": null,
   "metadata": {},
   "outputs": [],
   "source": [
    "aList.extend(novelsList) "
   ]
  },
  {
   "cell_type": "code",
   "execution_count": null,
   "metadata": {},
   "outputs": [],
   "source": [
    "aList = aList + novelsList "
   ]
  },
  {
   "cell_type": "code",
   "execution_count": null,
   "metadata": {},
   "outputs": [],
   "source": [
    "aList.append(novelsList) "
   ]
  },
  {
   "cell_type": "markdown",
   "metadata": {},
   "source": [
    "The method for adding elements to a list is the .append() method. This method will take any value or object and add it as an element in the list. This means that numbers, letters, strings and lists will be added as a new element to the list. The .extend() adds elements from one list to the extending list. So if a list is appended to a list, it is entered as a new element. If it is extended to a list, all of its elements are added as elements to the new list. The + operator functions as the extend method where both operands are lists and all items are merged to create a new list.   \n",
    "\n",
    "### Deleting Elements\n",
    "Elements are deleted from a list using the .pop() and remove() method and by using the del keywork. Both .pop() and del are index-based deletion mechanisms while .remove() is a value-based removal. "
   ]
  },
  {
   "cell_type": "code",
   "execution_count": null,
   "metadata": {},
   "outputs": [],
   "source": [
    "aList = ['Charles Dickens', 'author', 'm', 58, [1812, 1870]] "
   ]
  },
  {
   "cell_type": "code",
   "execution_count": null,
   "metadata": {},
   "outputs": [],
   "source": [
    "print(aList)\n",
    "print(len(aList))\n"
   ]
  },
  {
   "cell_type": "code",
   "execution_count": null,
   "metadata": {
    "scrolled": true
   },
   "outputs": [],
   "source": [
    "lifeYearList = aList.pop() \n",
    "print(lifeYearList)"
   ]
  },
  {
   "cell_type": "code",
   "execution_count": null,
   "metadata": {},
   "outputs": [],
   "source": [
    "aList.pop()"
   ]
  },
  {
   "cell_type": "code",
   "execution_count": null,
   "metadata": {},
   "outputs": [],
   "source": [
    "del aList[0] "
   ]
  },
  {
   "cell_type": "code",
   "execution_count": null,
   "metadata": {},
   "outputs": [],
   "source": [
    "aList.remove('m') "
   ]
  },
  {
   "cell_type": "markdown",
   "metadata": {},
   "source": [
    "The first example simply pops the first element off of the list. If a number value is provided to the .pop() method, it will pop the element at that index off of the list. In this case, we use the index 2 which is the third element in the list. The del keyword is a python keyword which deletes a reference to a value. If we use del and the name of our list, it will delete the entire list. If we use an index value, it will delete the element at that index. The .remove() method removes elements that match a given value. So, when I use the “m” value with the remove function, it searches the list for items that match that value, and deletes them.  \n",
    "\n",
    "What does our list look like now? Can you visualize it?"
   ]
  },
  {
   "cell_type": "code",
   "execution_count": null,
   "metadata": {},
   "outputs": [],
   "source": [
    "print(aList)"
   ]
  },
  {
   "cell_type": "markdown",
   "metadata": {},
   "source": [
    "### List Operations\n",
    "Beyond adding and removing elements, there are additional operations that similarly mutate lists. The * operator can be used to duplicate lists and the : operator can be used to slice lists. "
   ]
  },
  {
   "cell_type": "code",
   "execution_count": null,
   "metadata": {},
   "outputs": [],
   "source": [
    "myList = ['Whether','I','shall','turn','out','to','be','the','hero'] "
   ]
  },
  {
   "cell_type": "code",
   "execution_count": null,
   "metadata": {},
   "outputs": [],
   "source": [
    "print(myList) \n",
    "print(len(myList))"
   ]
  },
  {
   "cell_type": "code",
   "execution_count": null,
   "metadata": {},
   "outputs": [],
   "source": [
    "myList = myList * 3"
   ]
  },
  {
   "cell_type": "code",
   "execution_count": null,
   "metadata": {},
   "outputs": [],
   "source": [
    "myNewList = myList[18:] \n",
    "print(myNewList)\n",
    "print(myList)"
   ]
  },
  {
   "cell_type": "markdown",
   "metadata": {},
   "source": [
    "### List Methods\n",
    "Like strings, certain methods are available for mutating lists. Two commonly used methods are .sort() and .reverse(). The sort method sorts the elements in the list alphabetically. This method is sensitive to the content of the list elements and will give an error if you try to sort a list that contains mixed elements, such as numbers and characters or data structures. The reverse method simply reverses the order of the elements in the list. The reverse method ignores element value type and simply reverses each elements position in the list. "
   ]
  },
  {
   "cell_type": "code",
   "execution_count": null,
   "metadata": {},
   "outputs": [],
   "source": [
    "myList = ['Whether','I','shall','turn','out','to','be','the','hero'] "
   ]
  },
  {
   "cell_type": "code",
   "execution_count": null,
   "metadata": {},
   "outputs": [],
   "source": [
    "print(myList) \n",
    "print(len(myList))"
   ]
  },
  {
   "cell_type": "code",
   "execution_count": null,
   "metadata": {},
   "outputs": [],
   "source": [
    "myList.sort() "
   ]
  },
  {
   "cell_type": "code",
   "execution_count": null,
   "metadata": {},
   "outputs": [],
   "source": [
    "myList.reverse() "
   ]
  },
  {
   "cell_type": "markdown",
   "metadata": {},
   "source": [
    "### List Functions\n",
    "List functions differ from methods in that they do not mutate the list, but simply provide some use information about the list or operation on the list elements. Common list functions include len(), min(), max() and sum(). The len() function counts the number of elements in a list. Min/Max calculates the minimum/maximum value (either numerically or alphabetically) in the list. The sum function calculates the sum of the numbers in a list. "
   ]
  },
  {
   "cell_type": "code",
   "execution_count": null,
   "metadata": {},
   "outputs": [],
   "source": [
    "min(myList)"
   ]
  },
  {
   "cell_type": "code",
   "execution_count": null,
   "metadata": {},
   "outputs": [],
   "source": [
    "max(myList)"
   ]
  },
  {
   "cell_type": "code",
   "execution_count": null,
   "metadata": {},
   "outputs": [],
   "source": [
    "sum(myList)"
   ]
  },
  {
   "cell_type": "markdown",
   "metadata": {},
   "source": [
    "### List Comprehension\n",
    "Python has a powerful ability to interpret lists. A technique called list comprehension allows python to interpret a for loop as if it were a list rather than a loop. In the example below, the for loop on the left side of the statement determines the contents of the list and the 'len(word)' expression determines the values of the elements in the list. Because python interprets this statement as a list, it can then be passed to the sum() function which calculates the total lenght of all of the words in my list."
   ]
  },
  {
   "cell_type": "code",
   "execution_count": null,
   "metadata": {},
   "outputs": [],
   "source": [
    "print(sum([len(word) for word in myList]))"
   ]
  },
  {
   "cell_type": "code",
   "execution_count": null,
   "metadata": {},
   "outputs": [],
   "source": [
    "print([len(word) for word in myList])"
   ]
  },
  {
   "cell_type": "markdown",
   "metadata": {},
   "source": [
    "# Exercise\n",
    "Write code to calculate the average length of the words in myList (Hint: You need to know how many words are in myList and you need to know the sum of the lengths of each word in myList)."
   ]
  },
  {
   "cell_type": "code",
   "execution_count": null,
   "metadata": {},
   "outputs": [],
   "source": [
    "# Step 1...\n",
    "\n",
    "# Step 2..."
   ]
  }
 ],
 "metadata": {
  "kernelspec": {
   "display_name": "Python 3 (ipykernel)",
   "language": "python",
   "name": "python3"
  },
  "language_info": {
   "codemirror_mode": {
    "name": "ipython",
    "version": 3
   },
   "file_extension": ".py",
   "mimetype": "text/x-python",
   "name": "python",
   "nbconvert_exporter": "python",
   "pygments_lexer": "ipython3",
   "version": "3.12.3"
  },
  "toc": {
   "base_numbering": 1,
   "nav_menu": {},
   "number_sections": true,
   "sideBar": true,
   "skip_h1_title": false,
   "title_cell": "Table of Contents",
   "title_sidebar": "Contents",
   "toc_cell": false,
   "toc_position": {},
   "toc_section_display": true,
   "toc_window_display": true
  }
 },
 "nbformat": 4,
 "nbformat_minor": 4
}
