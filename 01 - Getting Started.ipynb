{
 "cells": [
  {
   "cell_type": "markdown",
   "metadata": {
    "tags": []
   },
   "source": [
    "# Introduction\n",
    "In this module we will cover some basics of programming and set up our programming environment. We begin with a brief introduction to programming, including some reasons why programming is important today and an overview of concepts that are common to all programming languages. Next we will walk through the steps for installing Python 3, the version of Python we will use throughout the semester. Once Python is installed, we will install Pycharm, an integrated development environment (IDE) that we will use to compose all of the applications we write over the course of the semester. We will close this module with a discussion of Jupyter Notebooks, the tool we will use for class notes."
   ]
  },
  {
   "cell_type": "markdown",
   "metadata": {},
   "source": [
    "# Why Program?\n",
    "1. Everyone needs to learn to program – There is a synergy between computers and humans in that the kinds of problems computers are good at are the kinds of problems humans are particularly bad at. We get bored; computers don’t. We forget our place or the count; computers don’t.\n",
    "2. Creativity – programming is the language of computing. If you want to be fluent and capable in a computing environment, you must learn how to speak the language. Additionally, knowing how to program gives you new outlets for problem solving. Ultimately, the goal of this class is not to produce professional developers but to give you a foundation for solving problems in a computing/information/communication environment."
   ]
  },
  {
   "cell_type": "markdown",
   "metadata": {},
   "source": [
    "# Programming Concepts\n",
    "1. **Reserved words** – reserved words are words that only have one meaning in Python. If you try to use those words for any other purpose or in an unintended way, you will run into errors (syntax or logical). These words have special meaning and are useful for developing advanced programs in Python.\n",
    "2. **Compiler vs. Interpreter** – What is the difference between compilers and interpreters and what are the advantages/disadvantages of both? A compiler turns application code into machine-specific language. Compiled programs will only run on one type of system and must be specifically compiled to run on different types of systems. Interpreters are compiled programs (so the interpreter must be compiled to run on your system) which translate application code into machine-specific language. Compiled programs tend to be more powerful and/or efficient while interpreted programs tend to be more flexible and portable.\n",
    "3. **Errors** – You will run into a lot of errors. What are the three types of errors you will experience in programming and how do they differ? They typically fall into one of three categories (the book uses 3 different categories, know mine).\n",
    "    * *Syntax* – Syntax errors are the least dangerous, but most frustrating. They are less dangerous because they prevent the application from running. In this way, you are protected from the error, but your application either does not run at all or will crash at specific locations in the code. They can be difficult to root out because they may propagate through several layers of code (called a traceback).\n",
    "    * *Logical* – Logical errors are slightly more dangerous because the application will run without problem; however, it will process the inputs incorrectly. An example of a logical error would be forgetting to include parentheses in a calculation. The parentheses force the order of operation and ensure a correct process. If you leave them out, Python may follow different steps in calculating a solution. These can be very easy to spot (you are not getting the correct output) but very difficult to find (but you don’t know why).\n",
    "    * *Design* – Design errors are the most dangerous because the program runs well and executes exactly as you would hope. However, your design of the program is incorrect because you did not understand the problem. You may have coded the application appropriately according to your understanding, but your understanding is deficient. These errors are very difficult to identify and can be catastrophic. \n"
   ]
  },
  {
   "cell_type": "markdown",
   "metadata": {},
   "source": [
    "# Python 3\n",
    "The following instructions are for Windows PCs and may be slightly different for Macs.\n",
    "\n",
    "## Dowonload and Install Python 3.10 or newer\n",
    "1. Go here: https://www.python.org/downloads/release/python-31011/\n",
    "\n",
    "2. Scroll and download the appropriate installer.\n",
    "\n",
    "3. Run the installer.\n"
   ]
  },
  {
   "cell_type": "markdown",
   "metadata": {},
   "source": [
    "# PyCharm\n",
    "PyCharm is an Integrated Development Environment (IDE) for Python. IDEs are optional--you can write python code in any text editor--but they generally make the development and coding process easier. There are many different IDEs but we will be using PyCharm in this course. \n",
    "\n",
    "The following instructions are for Windows PCs and may be slightly different on Macs.\n",
    "\n",
    "## Download and Install PyCharm Community Edition\n",
    "You may be prompted to give PyCharm rights to modify your computer. You will need to allow these rights whenever prompted. \n",
    "\n",
    "1. Go here: https://www.jetbrains.com/pycharm/download/\n",
    "\n",
    "2. Download the **Community Edition** and run the installer.\n",
    "\n",
    "3. Associate .py files with PyCharm and, if prompted, install the JRE by JetBrains (you may be asked for permission to modify your computer; it is safe to do so).\n",
    "\n",
    "## Configure the PyCharm Environment\n",
    "When you first run PyCharm, you will be asked to configure the development environment. If you have used PyCharm in prior course, you may import settings from that course. Otherwise, do not import settings. It does not matter what UI you choose and it is probbaly best if you opt for default settings.\n",
    "\n",
    "1. Run PyCharm\n",
    "\n",
    "2. Do not import settings\n",
    "\n",
    "3. Select a UI Theme and ‘Skip Remaining and Set Defaults’\n",
    "\n",
    "## Create a New Project\n",
    "PyCharm organizes your files according to projects. You will only need to create one project for this course. It does not matter what you call this project, but it will matter where you store it. I would recommend a cloud location (e.g., OneDrive) to ensure portability and to ensure your files are backed up.\n",
    "\n",
    "1. Create a New Project\n",
    "\n",
    "2. Click the folder icon on the ‘Location’ input area to select the project location\n",
    "\n",
    "3. Navigate to your desired location (all students should have access to OneDrive, and I would recommend you set your project folder to a folder in your OneDrive) and create a new folder. Click ‘Ok’\n",
    "\n",
    "4. Click ‘Create’\n",
    "\n",
    "## Add Python Source Files to Your Project\n",
    "Once you have a project for this course, you should save all of your python files to this project. A project is organized like a computer directory and you can add files and folders to a project. Your life will be easier if you keep this project organized. To create new folders or python files, right click the project root (the project will have a venv folder in it; do not add files to this folder) and choose the appropriate option.\n",
    "\n",
    "1. Right-click your project folder in the upper left and choose ‘New->Python File’\n",
    "\n",
    "2. Name your file ‘hello_world.py’\n",
    "\n",
    "3. In the file editor, type: print(‘Hello World’)\n",
    "\n",
    "4. Right-click the file tab and choose ‘Run hello_world’\n",
    "\n",
    "5. Congratulations! You are a programmer.\n"
   ]
  },
  {
   "cell_type": "markdown",
   "metadata": {},
   "source": [
    "# Jupyter\n",
    "Jupyter is an online interactive notebook. As such, I can add blocks of python code to the notebook that can be edited and run directly from your browser. The hope is that editing snippets of code in a notebook which explains the code will help improve your grasp of these concepts as you play around with the code in an isolated environment.\n",
    "\n",
    "For example, the above line of code could have been rendered in the following way:"
   ]
  },
  {
   "cell_type": "code",
   "execution_count": null,
   "metadata": {},
   "outputs": [],
   "source": [
    "print(\"Hello Spring 2025\")"
   ]
  },
  {
   "cell_type": "markdown",
   "metadata": {},
   "source": [
    "When the code is presented in a code block, you can edit and re-run the code and immediately see how your changes affect the output. Also, because this is meant to be a notebook, your changes are unique to you and saved accross sessions.\n",
    "\n",
    "Try this out in the code block above. Try changing the code to print 'Hello' and your name. Once you edit the code, you will need to re-run the code using the run icon to the left of the code block. This will update the output block for your code (assuming your code generates output). If there are any errors in your code, they will be presented in the output block.\n",
    "\n",
    "**Note:** print() is a function (for more information on fuctions, see here: [Functions](05%20-%20Functions.ipynb)) that outputs some user-determined value to the Python command-line shell. In the example above, the user-defined value is the string *Hello World* (for more information on strings, see here: [Strings](06%20-%20Strings.ipynb)) which is designated as a string by single or double quotes (you can use either, but you should be consistent). This value is referred to as the input value of a function. So, the line above works by passing an input value (Hello World) to the function (print()) which then performs the task of writing the input value to the command-line shell.\n",
    "\n",
    "## Configuring Jupyter Notebooks\n",
    "We will be using my personal server configured to host Jupyter notebooks for this class. To do so, navigate to https://jupyter.thislondonhouse.com and log in with your account.\n",
    "\n",
    "<img src=\"http://thislondonhouse.com/Jupyter/Images/01-Jupyter-1.png\" alt=\"\" />\n",
    "\n",
    "Your username is your account name for Loyola. So, my Loyola email address is jlondon1@loyola.edu so my username for the Jupyter Notebook server is jlondon1. The password is the same for everyone: is352 (**Note:** 'is' is lowercase).\n",
    "\n",
    "<img src=\"http://thislondonhouse.com/Jupyter/Images/01-Jupyter-2.png\" alt=\"\" />\n",
    "\n",
    "Once you are logged in, click the ‘Git’ icon on the left navigation pane. Then click ‘Clone Repository.’\n",
    "\n",
    "<img src=\"http://thislondonhouse.com/Jupyter/Images/01-Jupyter-3.png\" alt=\"\" />\n",
    "\n",
    "We are cloning the repository from my GitHub account: https://github.com/Loyola-London/Python-Notebooks/.\n",
    "\n",
    "<img src=\"http://thislondonhouse.com/Jupyter/Images/01-Jupyter-4.png\" alt=\"\" />\n",
    "\n",
    "Once the repository is cloned, you should see a folder called ‘Python-Notebooks.’ This is where you will find all of the notebooks for the semester.\n",
    "\n",
    "<img src=\"http://thislondonhouse.com/Jupyter/Images/01-Jupyter-5.png\" alt=\"\" />\n",
    "\n",
    "To open a notebook, double-click the notebook and you can interact with it on the notebook viewer pane on the right-hand side of the screen."
   ]
  },
  {
   "cell_type": "markdown",
   "metadata": {},
   "source": [
    "# Application Programming Interface (API)\n",
    "1. Possible APIs:  \n",
    "https://github.com/toddmotto/public-apis   \n",
    "https://api-ninjas.com/api  \n",
    "2. Example of an idea (creating a reverse blue apron application)"
   ]
  }
 ],
 "metadata": {
  "celltoolbar": "Edit Metadata",
  "kernelspec": {
   "display_name": "Python 3 (ipykernel)",
   "language": "python",
   "name": "python3"
  },
  "language_info": {
   "codemirror_mode": {
    "name": "ipython",
    "version": 3
   },
   "file_extension": ".py",
   "mimetype": "text/x-python",
   "name": "python",
   "nbconvert_exporter": "python",
   "pygments_lexer": "ipython3",
   "version": "3.10.12"
  },
  "toc": {
   "base_numbering": 1,
   "nav_menu": {},
   "number_sections": true,
   "sideBar": true,
   "skip_h1_title": false,
   "title_cell": "Table of Contents",
   "title_sidebar": "Contents",
   "toc_cell": false,
   "toc_position": {
    "height": "calc(100% - 180px)",
    "left": "10px",
    "top": "150px",
    "width": "376px"
   },
   "toc_section_display": true,
   "toc_window_display": true
  }
 },
 "nbformat": 4,
 "nbformat_minor": 4
}
