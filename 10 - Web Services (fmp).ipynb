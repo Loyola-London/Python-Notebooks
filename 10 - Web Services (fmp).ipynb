{
 "cells": [
  {
   "cell_type": "markdown",
   "metadata": {},
   "source": [
    "# Introduction\n",
    "In this module, we will discuss issues related to accessing data via web services. Modern web sites and applications use Application Programming Interfaces (API) to retrieve and store data in a web environment such as a browser. Most of these transactions happen behind the scenes, but, because they occur in a web environment, they are accessible through any traditional internet channel. In this module we will look at web service in the context of Financial Modeling Prep's (FMP) API. Though much of this module is specific to FMP, the process is common to many other web services.\n",
    "\n",
    "# Web Services\n",
    "For most web services, you must register with the service before you can access their data. In the following section, I illustrate how to create an FMP developer account. Then, I show how to connect to the FMP API to download data and answer questions.\n",
    "## Creating an FMP Developer Account\n",
    "https://site.financialmodelingprep.com/register\n",
    "<br><img src=\"http://thislondonhouse.com/Jupyter/Images/12-FMP-01.png?1\" width=\"50%\" /><br>\n",
    "Register with your loyola email address.\n",
    "<br><img src=\"http://thislondonhouse.com/Jupyter/Images/12-FMP-02.png?1\" width=\"50%\" /><br>\n",
    "After you are registered, navigate to your dashboard to access your API key. This is the token that your Python app will use to authenticate with FMP’s servers. If you do not have an API key, you will need to generate them. Copy this key and paste it into your python file (see below for instructions).\n"
   ]
  },
  {
   "cell_type": "markdown",
   "metadata": {},
   "source": [
    "## Connecting to FMP’s API via Python\n",
    "In general, there are two common approaches to connecting to an API. The first is to use http requests to pull in data from API resources and the second is to use wrapper libraries to facilitate pulling data from the API. Accessing the API directly via Python is often a more reliable method for accessing data because wrapper libraries can become outdated quickly if not actively maintained. So, while there are some wrapper libraries for accessing FMP, I will be illustrating direct API access via python."
   ]
  },
  {
   "cell_type": "markdown",
   "metadata": {},
   "source": [
    "### HTTP Requests\n",
    "Most APIs simply allow external users access to source data via web pages. These web pages use URLs and query string parameters to request specific data. Facilitate these connections, we will use the Requests library (more info here: https://requests.kennethreitz.org/en/master/)."
   ]
  },
  {
   "cell_type": "code",
   "execution_count": null,
   "metadata": {},
   "outputs": [],
   "source": [
    "!pip install Requests"
   ]
  },
  {
   "cell_type": "markdown",
   "metadata": {},
   "source": [
    "This approach requires that we directly access API resources, so we need a reference guide which will outline the available resources and the parameters that each method requires and/or allows. For FMP, this reference is here: https://site.financialmodelingprep.com/developer/docs."
   ]
  },
  {
   "cell_type": "code",
   "execution_count": null,
   "metadata": {},
   "outputs": [],
   "source": [
    "import requests\n",
    "import urllib\n",
    "import pprint\n",
    "import statistics"
   ]
  },
  {
   "cell_type": "markdown",
   "metadata": {},
   "source": [
    "You should notice, on the documentation, the 'endpoint' is a URL and some aspects of that URL are standard across all API resource while others vary depending on the data request.\n",
    "<br><img src=\"http://thislondonhouse.com/Jupyter/Images/12-FMP-03.png?1\" width=\"50%\" /><br>\n",
    "The getEnpoint function below handles access to the API by reformatting input parameters to match the API endpoints. The response is then downloaded and returned as a dictionary which you can then use to extract data."
   ]
  },
  {
   "cell_type": "code",
   "execution_count": null,
   "metadata": {},
   "outputs": [],
   "source": [
    "def getEndpoint(endpoint, version, parameters):\n",
    "    baseUrl = f\"https://financialmodelingprep.com/api/{version}\"\n",
    "\n",
    "    endpointUrl = f\"{baseUrl}/{endpoint}\"\n",
    "\n",
    "    parameters['apikey'] = \"< API KEY HERE >\"\n",
    "    headers = {}\n",
    "    payload = {}\n",
    "\n",
    "    print(\"Getting Endpoint: \" + endpointUrl + \"?\" + urllib.parse.urlencode(parameters))\n",
    "    response = requests.request(\"GET\", endpointUrl, headers=headers, data=payload, params=parameters)\n",
    "    response_data = response.json()\n",
    "    return response_data\n"
   ]
  },
  {
   "cell_type": "code",
   "execution_count": null,
   "metadata": {},
   "outputs": [],
   "source": [
    "resource = \"profile\"\n",
    "symbol = \"GOOG\"\n",
    "endpoint = f\"{resource}/{symbol}\"\n",
    "parameters = {}"
   ]
  },
  {
   "cell_type": "markdown",
   "metadata": {},
   "source": [
    "In the code above, I set some parameters that will allow me to access company data for a choose ticker symbol. The 'resource' refers to the API data endpoint that will respond to our request. Documentation on this endpoint is available here: https://site.financialmodelingprep.com/developer/docs#company-profile-company-information\n",
    "\n",
    "'symbol' refers to the ticker symbol of the company for which we are requesting data. The 'endpoint' variable restructures the resource and symbol into a format that the 'getEndpoint' function will use to make the API call. The 'parameters' variable is an empty dictionary which may or may not have values that the getEnpoint function will use to define the data request. All four variables are needed each time you want to make an API call."
   ]
  },
  {
   "cell_type": "code",
   "execution_count": null,
   "metadata": {},
   "outputs": [],
   "source": [
    "company_data = getEndpoint(endpoint, \"v3\", parameters)"
   ]
  },
  {
   "cell_type": "markdown",
   "metadata": {},
   "source": [
    "The code above requests the enpoint and saves the results of the request in the 'company_data' variable. This variable is usually a dictionary, but it may sometimes be a list of dictionaries. Therefore, it may be helpful to pprint the results before trying to extract data."
   ]
  },
  {
   "cell_type": "code",
   "execution_count": null,
   "metadata": {},
   "outputs": [],
   "source": [
    "print(type(company_data))\n",
    "pprint.pprint(company_data)\n",
    "print(company_data)"
   ]
  },
  {
   "cell_type": "markdown",
   "metadata": {},
   "source": [
    "In this situation, the result is a list of dictionaries with only one element. Therefore, to access the company profile data, we would want to reference the first element"
   ]
  },
  {
   "cell_type": "code",
   "execution_count": null,
   "metadata": {},
   "outputs": [],
   "source": [
    "print(company_data[0]['description'])"
   ]
  },
  {
   "cell_type": "markdown",
   "metadata": {},
   "source": [
    "This may be cumbersome. So, if the data structure happens to be nested within another structure, you can create a new variable that points directly to your chosen data structure."
   ]
  },
  {
   "cell_type": "code",
   "execution_count": null,
   "metadata": {},
   "outputs": [],
   "source": [
    "goog_data = company_data[0]\n",
    "pprint.pprint(goog_data)"
   ]
  },
  {
   "cell_type": "code",
   "execution_count": null,
   "metadata": {},
   "outputs": [],
   "source": [
    "goog_description = goog_data['description']"
   ]
  },
  {
   "cell_type": "code",
   "execution_count": null,
   "metadata": {},
   "outputs": [],
   "source": [
    "print(\"Google Description: \" + goog_description)"
   ]
  },
  {
   "cell_type": "markdown",
   "metadata": {},
   "source": [
    "You would then reference other data elements in a similar way."
   ]
  },
  {
   "cell_type": "code",
   "execution_count": null,
   "metadata": {},
   "outputs": [],
   "source": [
    "print(goog_data['ipoDate'])"
   ]
  },
  {
   "cell_type": "code",
   "execution_count": null,
   "metadata": {},
   "outputs": [],
   "source": [
    "print(goog_data['zip'])"
   ]
  },
  {
   "cell_type": "code",
   "execution_count": null,
   "metadata": {},
   "outputs": [],
   "source": [
    "print(goog_data['companyName'])"
   ]
  },
  {
   "cell_type": "code",
   "execution_count": null,
   "metadata": {},
   "outputs": [],
   "source": [
    "print(goog_data['price'])"
   ]
  },
  {
   "cell_type": "code",
   "execution_count": null,
   "metadata": {},
   "outputs": [],
   "source": [
    "print(goog_data['industry'])"
   ]
  },
  {
   "cell_type": "markdown",
   "metadata": {},
   "source": [
    "Any data elements you want to reserve, you can save as variables."
   ]
  },
  {
   "cell_type": "code",
   "execution_count": null,
   "metadata": {},
   "outputs": [],
   "source": [
    "print(goog_data['range'])\n",
    "price_range = goog_data['range']"
   ]
  },
  {
   "cell_type": "markdown",
   "metadata": {},
   "source": [
    "You could then modify this variable to find the high and low."
   ]
  },
  {
   "cell_type": "code",
   "execution_count": null,
   "metadata": {},
   "outputs": [],
   "source": [
    "price_range_list = price_range.split(\"-\")\n",
    "price_high = float(price_range_list[1])\n",
    "price_low = float(price_range_list[0])\n",
    "print(\"High:\", price_high, \"Low:\", price_low)"
   ]
  },
  {
   "cell_type": "markdown",
   "metadata": {},
   "source": [
    "There are several endpoints available in Financial Modeling Prep. If you wanted to download income statement data, you would simply edit the symbol, resource, and parameters variables to reflect a new data request. In the following example, we leave the symbol unchanged because we want the income statement for Alphabet Inc., but we modify the other values because we want to download their annual income statements."
   ]
  },
  {
   "cell_type": "code",
   "execution_count": null,
   "metadata": {},
   "outputs": [],
   "source": [
    "resource = \"income-statement\"\n",
    "endpoint = f\"{resource}/{symbol}\"\n",
    "parameters = {'period': 'annual'}\n",
    "income_data = getEndpoint(endpoint, \"v3\", parameters)"
   ]
  },
  {
   "cell_type": "markdown",
   "metadata": {},
   "source": [
    "It is always good practice to inspect the results with pprint."
   ]
  },
  {
   "cell_type": "code",
   "execution_count": null,
   "metadata": {},
   "outputs": [],
   "source": [
    "pprint.pprint(income_data)"
   ]
  },
  {
   "cell_type": "markdown",
   "metadata": {},
   "source": [
    "In this case, the result is a list of dictionaries with the income statements ordered from newest to oldest. So, the first element in the list will have data from the most recent income statement."
   ]
  },
  {
   "cell_type": "code",
   "execution_count": null,
   "metadata": {},
   "outputs": [],
   "source": [
    "pprint.pprint(income_data[0])"
   ]
  },
  {
   "cell_type": "markdown",
   "metadata": {},
   "source": [
    "If you wanted to see the revenue for each year, you could traverse the list of dictionaries and pull the relevant data from each element in the list."
   ]
  },
  {
   "cell_type": "code",
   "execution_count": null,
   "metadata": {},
   "outputs": [],
   "source": [
    "revenues = []\n",
    "for income_statement in income_data:\n",
    "    print(f\"Revenues as of {income_statement['date']}: {income_statement['revenue']}\")\n",
    "    revenues.append(income_statement['revenue'])"
   ]
  },
  {
   "cell_type": "code",
   "execution_count": null,
   "metadata": {},
   "outputs": [],
   "source": [
    "print(revenues)"
   ]
  },
  {
   "cell_type": "code",
   "execution_count": null,
   "metadata": {},
   "outputs": [],
   "source": [
    "print(statistics.mean(revenues))"
   ]
  },
  {
   "cell_type": "markdown",
   "metadata": {},
   "source": [
    "# Exercise\n",
    "Pick a ticker and approximate the number of shares outstanding (shares outstanding = market cap / price)"
   ]
  },
  {
   "cell_type": "code",
   "execution_count": null,
   "metadata": {},
   "outputs": [],
   "source": [
    "# Step 1...\n",
    "\n",
    "# Step 2..."
   ]
  }
 ],
 "metadata": {
  "kernelspec": {
   "display_name": "Python 3 (ipykernel)",
   "language": "python",
   "name": "python3"
  },
  "language_info": {
   "codemirror_mode": {
    "name": "ipython",
    "version": 3
   },
   "file_extension": ".py",
   "mimetype": "text/x-python",
   "name": "python",
   "nbconvert_exporter": "python",
   "pygments_lexer": "ipython3",
   "version": "3.10.12"
  },
  "toc": {
   "base_numbering": 1,
   "nav_menu": {},
   "number_sections": true,
   "sideBar": true,
   "skip_h1_title": false,
   "title_cell": "Table of Contents",
   "title_sidebar": "Contents",
   "toc_cell": false,
   "toc_position": {},
   "toc_section_display": true,
   "toc_window_display": true
  }
 },
 "nbformat": 4,
 "nbformat_minor": 4
}
