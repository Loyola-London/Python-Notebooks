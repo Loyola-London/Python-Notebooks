{
 "cells": [
  {
   "cell_type": "markdown",
   "metadata": {},
   "source": [
    "# Introduction\n",
    "In this module, we will look at iteration, a concept which enhances the functionality of applications by allowing for repetitious execution. Up to this point, we have been limited to simple tasks, and if we needed to perform the task more than once, we needed to run the application again. In this module we will learn how to leverage a computer's natural advantage at performing simple tasks over and over and over again. We begin with a brief discussion of terms and then move to the different types of iterations (i.e., loops) that are available within Python. We close this module with a look at some basic tasks that are made easier/possible with iteration.\n",
    "\n",
    "# Iteration\n",
    "Consider the following blocks of code. Both produce the same output, but they rely on different logics to achieve this outcome. The first block of code can be interpreted as \"Do this, then this and finally this.\" When we look at the output, it is clear it is doing the same thing three times, but the code suggests that these are three independent commands."
   ]
  },
  {
   "cell_type": "code",
   "execution_count": null,
   "metadata": {},
   "outputs": [],
   "source": [
    "print(\"My name is Jake\")\n",
    "print(\"My name is Jake\")\n",
    "print(\"My name is Jake\")"
   ]
  },
  {
   "cell_type": "markdown",
   "metadata": {},
   "source": [
    "The second block of code can be interpreted as \"Do this three times.\" In this code, it is clearer we are only performing one task (printing) and that we want to do it multiple times."
   ]
  },
  {
   "cell_type": "code",
   "execution_count": null,
   "metadata": {},
   "outputs": [],
   "source": [
    "for i in range(5):\n",
    "    print(\"My name is Jake\")"
   ]
  },
  {
   "cell_type": "markdown",
   "metadata": {},
   "source": [
    "It is important that you be able to develop vision for your applications so that you can identify the tasks and sub-tasks that must be repeated multiple times. This will allow you to organize portions of your code as loops and will make your code more efficient and easier to read. \n",
    "\n",
    "## Iterator\n",
    "Often, when we loop through some segment of code, we only want to perform the actions a set number of time. Programming languages do not have built-in ways of keeping track of how many times the code has looped, so we need to create a variable that keeps track for us. This variable is called the iterator. The easiest way to understand this variable is as a counter that we update every time the code loops. To update a variable, we simply create an assignment statement which sets our counter equal the current value of the counter plus one.\n",
    "\n",
    "Consider the following code. In the first statement, the counter (varCounter) is initialized (oftentimes as zero or one)."
   ]
  },
  {
   "cell_type": "code",
   "execution_count": null,
   "metadata": {},
   "outputs": [],
   "source": [
    "varCounter = 0"
   ]
  },
  {
   "cell_type": "markdown",
   "metadata": {},
   "source": [
    "Now, think about what the following line of code does. Run the code multiple times and notice how the output is changing."
   ]
  },
  {
   "cell_type": "code",
   "execution_count": null,
   "metadata": {},
   "outputs": [],
   "source": [
    "varCounter = varCounter + 7\n",
    "print(varCounter)"
   ]
  },
  {
   "cell_type": "markdown",
   "metadata": {},
   "source": [
    "If you have a block of code that only needs to run three times (e.g., a login that only allows the user three tries at entering the correct credentials) the counter can be used to keep track of how many times the code has run and to exit when the limit is reached."
   ]
  },
  {
   "cell_type": "markdown",
   "metadata": {},
   "source": [
    "## Loops\n",
    "### While Loops\n",
    "Python has two different kinds of loops. The while loop executes the specified code while some statement is true. Thinking back to our conditional execution, this can be thought of as an if loop such that if the specified statement is true, loop. The syntax for a while loop is below. Notice, the code that will loop is indented."
   ]
  },
  {
   "cell_type": "code",
   "execution_count": null,
   "metadata": {},
   "outputs": [],
   "source": [
    "varCounter = 1\n",
    "while varCounter < 5:\n",
    "    print(\"loop #\" + str(varCounter))\n",
    "    varCounter = varCounter + 1\n",
    "print(\"done looping\")\n",
    "print(varCounter)"
   ]
  },
  {
   "cell_type": "markdown",
   "metadata": {},
   "source": [
    "### For Loops\n",
    "The second kind of loop available in Python is the for loop. For loops execute for a specified number of times. Though both loops can often be used interchangeably, the logic for the task you are performing often determines the appropriate type of loop. If you need a loop that will execute code until some state of the application changes (e.g., you are searching a data file for a specific value), you should use a while loop. If you want to loop a known number of iterations (e.g., you wan to perform some action to every record in a data file), you should use a for loop. The following code loops five times, like the code above, but the logic of the loop is a bit different. In this loop, it loops through each number in a list of numbers—the list of numbers just happens to be five numbers long (note: the range() function creates a list of numbers that starts with the first parameter and includes every number up to the second parameter. A third parameter can be used to indicate steps in the range)."
   ]
  },
  {
   "cell_type": "code",
   "execution_count": null,
   "metadata": {},
   "outputs": [],
   "source": [
    "# range(0,5) -> [0, 1, 2, 3, 4]\n",
    "for varCounter in range(0,5):\n",
    "    print(\"loop #\" + str(varCounter))\n",
    "print(\"done looping\")\n",
    "print(varCounter)"
   ]
  },
  {
   "cell_type": "markdown",
   "metadata": {},
   "source": [
    "### Infinite Loops\n",
    "You will write infinite loops. Sometimes you will write one by accident and other times you will write one because you don’t quite know how long your loop needs to run. Infinite loops can be useful but they are also dangerous. To write an infinite loop, you simply need to use the keyword True as the condition for a while loop. Because while loops run while the condition is true, a True condition will never be false and the loop will never end. You should write at least one infinite loop if only to familiarize yourself with the break feature on PyCharm. If you are writing an intentional infinite loop, you will need to include a conditional statement which breaks the loop at some specified time—either when the task is done or when you reach some certain point of execution. Break is a keyword which tells Python to exit the current block of code."
   ]
  },
  {
   "cell_type": "code",
   "execution_count": null,
   "metadata": {},
   "outputs": [],
   "source": [
    "varCounter = 0\n",
    "isFive = False\n",
    "while (not isFive):\n",
    "    print(\"loop #\" + str(varCounter))\n",
    "    varCounter = varCounter + 1\n",
    "    myVal = int(input(\"Enter the number 5: \"))\n",
    "    if myVal == 5:\n",
    "        isFive = True\n",
    "print(\"done looping\")"
   ]
  },
  {
   "cell_type": "code",
   "execution_count": null,
   "metadata": {},
   "outputs": [],
   "source": [
    "varCounter = 0\n",
    "while True:\n",
    "    print(\"loop #\" + str(varCounter))\n",
    "    varCounter = varCounter + 1\n",
    "    myVal = int(input(\"Enter the number 5: \"))\n",
    "    if myVal == 5:\n",
    "        break\n",
    "print(\"done looping\")"
   ]
  },
  {
   "cell_type": "markdown",
   "metadata": {},
   "source": [
    "## Common Loop Patterns\n",
    "Below are some common loops. While you may not need to write a loop that performs these exact tasks, you will often write loops that do some form of the following.\n",
    "### Counting\n",
    "A loop to count the number of iterations."
   ]
  },
  {
   "cell_type": "code",
   "execution_count": null,
   "metadata": {},
   "outputs": [],
   "source": [
    "myNumbers = [26, 15, 40, 45, 25]\n",
    "myLetters = \"abcdefghijklmnopqrstuvwxyz\" # ['a', 'b', 'c', 'd', etc.]"
   ]
  },
  {
   "cell_type": "code",
   "execution_count": null,
   "metadata": {},
   "outputs": [],
   "source": [
    "myNumbers"
   ]
  },
  {
   "cell_type": "code",
   "execution_count": null,
   "metadata": {},
   "outputs": [],
   "source": [
    "numberCount = 0\n",
    "for number in myNumbers:\n",
    "    # print(\"Loop \" + str(numberCount))\n",
    "    # print(\"Number: \" + str(number))\n",
    "    numberCount = numberCount + 1\n",
    "    # print(\"Count: \" + str(numberCount))\n",
    "print(\"I have \" + str(numberCount) + \" numbers\")"
   ]
  },
  {
   "cell_type": "code",
   "execution_count": null,
   "metadata": {},
   "outputs": [],
   "source": [
    "letterCount = 0\n",
    "for letter in myLetters:\n",
    "    # print(\"Loop \" + str(letterCount))\n",
    "    # print(\"Letter: \" + letter)\n",
    "    letterCount = letterCount + 1\n",
    "    # print(\"Count: \" + str(letterCount))\n",
    "print(\"I have \" + str(letterCount) + \" letters\")"
   ]
  },
  {
   "cell_type": "markdown",
   "metadata": {},
   "source": [
    "### Summing\n",
    "A loop that sums a series of numbers"
   ]
  },
  {
   "cell_type": "code",
   "execution_count": null,
   "metadata": {},
   "outputs": [],
   "source": [
    "numberSum = 0\n",
    "for number in myNumbers:\n",
    "    print(str(numberSum + number) + \" = \" + str(numberSum) + \" + \" + str(number))\n",
    "    numberSum = numberSum + number\n",
    "print(\"The sum of my numbers is: \" + str(numberSum))"
   ]
  },
  {
   "cell_type": "markdown",
   "metadata": {},
   "source": [
    "### Finding\n",
    "A loop that searches for a specified value"
   ]
  },
  {
   "cell_type": "code",
   "execution_count": null,
   "metadata": {},
   "outputs": [],
   "source": [
    "numberSearch = int(input(\"Enter a number: \"))\n",
    "found = False\n",
    "for number in myNumbers:\n",
    "    print(\"Check number: \" + str(number) + \" = \" + str(numberSearch) + \"? \" + str(number == numberSearch))\n",
    "    if number == numberSearch:\n",
    "        found = True\n",
    "        break\n",
    "\n",
    "if found:\n",
    "    print(\"Number \" + str(numberSearch) + \" found!\")\n",
    "else:\n",
    "    print(\"Number \" + str(numberSearch) + \" not found.\")"
   ]
  },
  {
   "cell_type": "markdown",
   "metadata": {},
   "source": [
    "### Maximum and Minimum\n",
    "A loop that find the minimum and maximum value in a series of numbers."
   ]
  },
  {
   "cell_type": "code",
   "execution_count": null,
   "metadata": {},
   "outputs": [],
   "source": [
    "minNumber = None\n",
    "maxNumber = None\n",
    "for number in myNumbers:\n",
    "    print(\"Current: \" + str(number))\n",
    "    print(\"Min: \" + str(minNumber))\n",
    "    print(\"Max: \" + str(maxNumber))\n",
    "    if(minNumber is None or minNumber > number):\n",
    "        minNumber = number\n",
    "    if(maxNumber is None or maxNumber < number):\n",
    "        maxNumber = number\n",
    "print(\"The minimum number is: \" + str(minNumber))\n",
    "print(\"The maximum number is: \" + str(maxNumber))"
   ]
  },
  {
   "cell_type": "markdown",
   "metadata": {},
   "source": [
    "**Note:** Letters have *values*, too. The code below identifies the minimum and maximum letter in the string myLetters. "
   ]
  },
  {
   "cell_type": "code",
   "execution_count": null,
   "metadata": {},
   "outputs": [],
   "source": [
    "import random\n",
    "\n",
    "minLetter = None\n",
    "maxLetter = None\n",
    "\n",
    "for letter in random.sample(myLetters, len(myLetters)):\n",
    "    print(\"Current: \" + letter)\n",
    "    print(\"Min: \" + str(minLetter))\n",
    "    print(\"Max: \" + str(maxLetter))\n",
    "    if(minLetter is None or minLetter > letter):\n",
    "        minLetter = letter\n",
    "    if(maxLetter is None or maxLetter < letter):\n",
    "        maxLetter = letter\n",
    "\n",
    "print(\"The minimum number is: \" + str(minLetter))\n",
    "print(\"The maximum number is: \" + str(maxLetter))"
   ]
  },
  {
   "cell_type": "markdown",
   "metadata": {},
   "source": [
    "# Exercise\n",
    "Write code to keep track of each lap in a 1 mile run (4 laps). Ask the user for their time on each lap. Stop asking after the fourth lap and report the total time."
   ]
  },
  {
   "cell_type": "code",
   "execution_count": null,
   "metadata": {},
   "outputs": [],
   "source": [
    "# Step 1....\n",
    "\n",
    "# Step 2...."
   ]
  }
 ],
 "metadata": {
  "kernelspec": {
   "display_name": "Python 3 (ipykernel)",
   "language": "python",
   "name": "python3"
  },
  "language_info": {
   "codemirror_mode": {
    "name": "ipython",
    "version": 3
   },
   "file_extension": ".py",
   "mimetype": "text/x-python",
   "name": "python",
   "nbconvert_exporter": "python",
   "pygments_lexer": "ipython3",
   "version": "3.12.3"
  },
  "toc": {
   "base_numbering": 1,
   "nav_menu": {},
   "number_sections": true,
   "sideBar": true,
   "skip_h1_title": false,
   "title_cell": "Table of Contents",
   "title_sidebar": "Contents",
   "toc_cell": false,
   "toc_position": {},
   "toc_section_display": true,
   "toc_window_display": true
  }
 },
 "nbformat": 4,
 "nbformat_minor": 4
}
