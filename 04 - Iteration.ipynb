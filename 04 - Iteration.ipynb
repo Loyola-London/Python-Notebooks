{
 "cells": [
  {
   "cell_type": "markdown",
   "metadata": {},
   "source": [
    "# Introduction\n",
    "In this module, we will look at iteration, a concept which enhances the functionality of applications by allowing for repetitious execution. Up to this point, we have been limited to simple tasks, and if we needed to perform the task more than once, we needed to run the application again. In this module we will learn how to leverage a computer's natural advantage at performing simple tasks over and over and over again. We begin with a brief discussion of terms and then move to the different types of iterations (i.e., loops) that are available within Python. We close this module with a look at some basic tasks that are made easier/possible with iteration.\n",
    "\n",
    "# Iteration\n",
    "Consider the following blocks of code. Both produce the same output, but they rely on different logics to achieve this outcome. The first block of code can be interpreted as \"Do this, then this and finally this.\" When we look at the output, it is clear it is doing the same thing three times, but the code suggests that these are three independent commands."
   ]
  },
  {
   "cell_type": "code",
   "execution_count": 1,
   "metadata": {},
   "outputs": [
    {
     "name": "stdout",
     "output_type": "stream",
     "text": [
      "My name is Jake\n",
      "My name is Jake\n",
      "My name is Jake\n"
     ]
    }
   ],
   "source": [
    "print(\"My name is Jake\")\n",
    "print(\"My name is Jake\")\n",
    "print(\"My name is Jake\")"
   ]
  },
  {
   "cell_type": "markdown",
   "metadata": {},
   "source": [
    "The second block of code can be interpreted as \"Do this three times.\" In this code, it is clearer we are only performing one task (printing) and that we want to do it multiple times."
   ]
  },
  {
   "cell_type": "code",
   "execution_count": 2,
   "metadata": {},
   "outputs": [
    {
     "name": "stdout",
     "output_type": "stream",
     "text": [
      "My name is Jake\n",
      "My name is Jake\n",
      "My name is Jake\n"
     ]
    }
   ],
   "source": [
    "varCounter = 0\n",
    "while varCounter < 3:\n",
    "    print(\"My name is Jake\")\n",
    "    varCounter = varCounter + 1"
   ]
  },
  {
   "cell_type": "markdown",
   "metadata": {},
   "source": [
    "It is important that you be able to develop vision for your applications so that you can identify the tasks and sub-tasks that must be repeated multiple times. This will allow you to organize portions of your code as loops and will make your code more efficient and easier to read. \n",
    "\n",
    "## Iterator\n",
    "Often, when we loop through some segment of code, we only want to perform the actions a set number of time. Programming languages do not have built-in ways of keeping track of how many times the code has looped, so we need to create a variable that keeps track for us. This variable is called the iterator. The easiest way to understand this variable is as a counter that we update every time the code loops. To update a variable, we simply create an assignment statement which sets our counter equal the current value of the counter plus one.\n",
    "\n",
    "Consider the following code. In the first statement, the counter (varCounter) is initialized (oftentimes as zero or one)."
   ]
  },
  {
   "cell_type": "code",
   "execution_count": 3,
   "metadata": {},
   "outputs": [],
   "source": [
    "varCounter = 0"
   ]
  },
  {
   "cell_type": "markdown",
   "metadata": {},
   "source": [
    "Now, think about what the following line of code does. Run the code multiple times and notice how the output is changing."
   ]
  },
  {
   "cell_type": "code",
   "execution_count": 18,
   "metadata": {},
   "outputs": [
    {
     "name": "stdout",
     "output_type": "stream",
     "text": [
      "105\n"
     ]
    }
   ],
   "source": [
    "varCounter = varCounter + 7\n",
    "print(varCounter)"
   ]
  },
  {
   "cell_type": "markdown",
   "metadata": {},
   "source": [
    "If you have a block of code that only needs to run three times (e.g., a login that only allows the user three tries at entering the correct credentials) the counter can be used to keep track of how many times the code has run and to exit when the limit is reached."
   ]
  },
  {
   "cell_type": "code",
   "execution_count": 19,
   "metadata": {},
   "outputs": [
    {
     "name": "stdout",
     "output_type": "stream",
     "text": [
      "7\n",
      "14\n",
      "21\n",
      "28\n",
      "35\n",
      "42\n",
      "49\n",
      "56\n",
      "63\n",
      "70\n",
      "77\n",
      "84\n",
      "91\n",
      "98\n",
      "105\n"
     ]
    }
   ],
   "source": [
    "varCounter = 0\n",
    "while varCounter < 100:\n",
    "    varCounter = varCounter + 7\n",
    "    print(varCounter)"
   ]
  },
  {
   "cell_type": "markdown",
   "metadata": {},
   "source": [
    "## Loops\n",
    "### While Loops\n",
    "Python has two different kinds of loops. The while loop executes the specified code while some statement is true. Thinking back to our conditional execution, this can be thought of as an if loop such that if the specified statement is true, loop. The syntax for a while loop is below. Notice, the code that will loop is indented."
   ]
  },
  {
   "cell_type": "code",
   "execution_count": 28,
   "metadata": {},
   "outputs": [
    {
     "name": "stdout",
     "output_type": "stream",
     "text": [
      "loop #0\n",
      "done looping\n"
     ]
    }
   ],
   "source": [
    "varCounter = 0\n",
    "while varCounter <= 5:\n",
    "    print(\"loop #\" + str(varCounter))\n",
    "    varCounter = varCounter + 1\n",
    "print(\"done looping\")"
   ]
  },
  {
   "cell_type": "markdown",
   "metadata": {},
   "source": [
    "### For Loops\n",
    "The second kind of loop available in Python is the for loop. For loops execute for a specified number of times. Though both loops can often be used interchangeably, the logic for the task you are performing often determines the appropriate type of loop. If you need a loop that will execute code until some state of the application changes (e.g., you are searching a data file for a specific value), you should use a while loop. If you want to loop a known number of iterations (e.g., you wan to perform some action to every record in a data file), you should use a for loop. The following code loops five times, like the code above, but the logic of the loop is a bit different. In this loop, it loops through each number in a list of numbers—the list of numbers just happens to be five numbers long (note: the range() function creates a list of numbers that starts with the first parameter and includes every number up to the second parameter. A third parameter can be used to indicate steps in the range)."
   ]
  },
  {
   "cell_type": "code",
   "execution_count": 29,
   "metadata": {},
   "outputs": [
    {
     "name": "stdout",
     "output_type": "stream",
     "text": [
      "loop #0\n",
      "done looping\n"
     ]
    }
   ],
   "source": [
    "# range(5) -> [0, 1, 2, 3, 4]\n",
    "for varCounter in range(5):\n",
    "    print(\"loop #\" + str(varCounter))\n",
    "print(\"done looping\")"
   ]
  },
  {
   "cell_type": "markdown",
   "metadata": {},
   "source": [
    "### Infinite Loops\n",
    "You will write infinite loops. Sometimes you will write one by accident and other times you will write one because you don’t quite know how long your loop needs to run. Infinite loops can be useful but they are also dangerous. To write an infinite loop, you simply need to use the keyword True as the condition for a while loop. Because while loops run while the condition is true, a True condition will never be false and the loop will never end. You should write at least one infinite loop if only to familiarize yourself with the break feature on PyCharm. If you are writing an intentional infinite loop, you will need to include a conditional statement which breaks the loop at some specified time—either when the task is done or when you reach some certain point of execution. Break is a keyword which tells Python to exit the current block of code."
   ]
  },
  {
   "cell_type": "code",
   "execution_count": 32,
   "metadata": {},
   "outputs": [
    {
     "name": "stdout",
     "output_type": "stream",
     "text": [
      "loop #0\n",
      "loop #1\n",
      "loop #2\n",
      "loop #3\n",
      "loop #4\n",
      "done looping\n"
     ]
    }
   ],
   "source": [
    "varCounter = 0\n",
    "while True:\n",
    "    print(\"loop #\" + str(varCounter))\n",
    "    varCounter = varCounter + 1\n",
    "    if varCounter == 5:\n",
    "        break\n",
    "print(\"done looping\")"
   ]
  },
  {
   "cell_type": "markdown",
   "metadata": {},
   "source": [
    "## Common Loop Patterns\n",
    "Below are some common loops. While you may not need to write a loop that performs these exact tasks, you will often write loops that do some form of the following.\n",
    "### Counting\n",
    "A loop to count to 10."
   ]
  },
  {
   "cell_type": "code",
   "execution_count": 44,
   "metadata": {},
   "outputs": [
    {
     "name": "stdout",
     "output_type": "stream",
     "text": [
      "Count: 0\n",
      "Count: 1\n",
      "Count: 2\n",
      "Count: 3\n",
      "Count: 4\n",
      "Count: 5\n",
      "Count: 6\n",
      "Count: 7\n",
      "Count: 8\n",
      "Count: 9\n",
      "Count: 10\n",
      "I counted to  10!\n"
     ]
    }
   ],
   "source": [
    "stopNumber = 10\n",
    "currentNumber = 0\n",
    "while currentNumber <= 10:\n",
    "    print(\"Count: \" + str(currentNumber))\n",
    "    currentNumber = currentNumber + 1\n",
    "print(\"I counted to  \" + str(stopNumber) + \"!\")"
   ]
  },
  {
   "cell_type": "markdown",
   "metadata": {},
   "source": [
    "A loop to count random numbers"
   ]
  },
  {
   "cell_type": "code",
   "execution_count": 45,
   "metadata": {},
   "outputs": [],
   "source": [
    "import random"
   ]
  },
  {
   "cell_type": "code",
   "execution_count": 84,
   "metadata": {},
   "outputs": [
    {
     "name": "stdout",
     "output_type": "stream",
     "text": [
      "---------Loop 0--------\n",
      "Number: 19\n",
      "Count: 1\n",
      "---------Loop 1--------\n",
      "Number: 13\n",
      "Count: 2\n",
      "---------Loop 2--------\n",
      "Number: 16\n",
      "Count: 3\n",
      "---------Loop 3--------\n",
      "Number: 65\n",
      "I have 3 numbers less than 50\n"
     ]
    }
   ],
   "source": [
    "varCounter = 0\n",
    "numberCount = 0\n",
    "while True:\n",
    "    randomNumber = random.randint(1,100)\n",
    "    print(\"---------Loop \" + str(varCounter) + \"--------\")\n",
    "    print(\"Number: \" + str(randomNumber))\n",
    "    if randomNumber > 50:\n",
    "        break\n",
    "    else:\n",
    "        numberCount = numberCount + 1\n",
    "        print(\"Count: \" + str(numberCount))\n",
    "    varCounter = varCounter + 1\n",
    "\n",
    "print(\"I have \" + str(numberCount) + \" numbers less than 50\")"
   ]
  },
  {
   "cell_type": "markdown",
   "metadata": {},
   "source": [
    "### Summing\n",
    "A loop that sums a series of numbers"
   ]
  },
  {
   "cell_type": "code",
   "execution_count": 89,
   "metadata": {},
   "outputs": [
    {
     "name": "stdout",
     "output_type": "stream",
     "text": [
      "---------Loop 0--------\n",
      "Random Number: 43\n",
      "Sum: 43\n",
      "---------Loop 1--------\n",
      "Random Number: 11\n",
      "Sum: 54\n",
      "---------Loop 2--------\n",
      "Random Number: 50\n",
      "Sum: 104\n",
      "---------Loop 3--------\n",
      "Random Number: 31\n",
      "Sum: 135\n",
      "---------Loop 4--------\n",
      "Random Number: 78\n",
      "Sum: 213\n",
      "---------Loop 5--------\n",
      "Random Number: 63\n",
      "Sum: 276\n",
      "---------Loop 6--------\n",
      "Random Number: 22\n",
      "Sum: 298\n",
      "---------Loop 7--------\n",
      "Random Number: 36\n",
      "Sum: 334\n",
      "---------Loop 8--------\n",
      "Random Number: 82\n",
      "Sum: 416\n",
      "---------Loop 9--------\n",
      "Random Number: 65\n",
      "Sum: 481\n",
      "The sum of 10 random numbers is 481\n"
     ]
    }
   ],
   "source": [
    "varCounter = 0\n",
    "numberSum = 0\n",
    "maxNumbers = 10\n",
    "while varCounter < maxNumbers:\n",
    "    randomNumber = random.randint(1,100)\n",
    "    numberSum = numberSum + randomNumber\n",
    "    print(\"---------Loop \" + str(varCounter) + \"--------\")\n",
    "    print(\"Random Number: \" + str(randomNumber))\n",
    "    print(\"Sum: \" + str(numberSum))\n",
    "    varCounter = varCounter + 1\n",
    "\n",
    "print(\"The sum of \" + str(maxNumbers) + \" random numbers is \" + str(numberSum))"
   ]
  },
  {
   "cell_type": "markdown",
   "metadata": {},
   "source": [
    "### Finding\n",
    "A loop that searches for a specified value"
   ]
  },
  {
   "cell_type": "code",
   "execution_count": 92,
   "metadata": {},
   "outputs": [
    {
     "name": "stdin",
     "output_type": "stream",
     "text": [
      "Enter a number:  33\n"
     ]
    },
    {
     "name": "stdout",
     "output_type": "stream",
     "text": [
      "---------Loop 0--------\n",
      "Check number: 29 = 33? False\n",
      "---------Loop 1--------\n",
      "Check number: 23 = 33? False\n",
      "---------Loop 2--------\n",
      "Check number: 71 = 33? False\n",
      "---------Loop 3--------\n",
      "Check number: 27 = 33? False\n",
      "---------Loop 4--------\n",
      "Check number: 75 = 33? False\n",
      "---------Loop 5--------\n",
      "Check number: 3 = 33? False\n",
      "---------Loop 6--------\n",
      "Check number: 28 = 33? False\n",
      "---------Loop 7--------\n",
      "Check number: 23 = 33? False\n",
      "---------Loop 8--------\n",
      "Check number: 55 = 33? False\n",
      "---------Loop 9--------\n",
      "Check number: 88 = 33? False\n",
      "---------Loop 10--------\n",
      "Check number: 5 = 33? False\n",
      "---------Loop 11--------\n",
      "Check number: 89 = 33? False\n",
      "---------Loop 12--------\n",
      "Check number: 35 = 33? False\n",
      "---------Loop 13--------\n",
      "Check number: 79 = 33? False\n",
      "---------Loop 14--------\n",
      "Check number: 92 = 33? False\n",
      "---------Loop 15--------\n",
      "Check number: 84 = 33? False\n",
      "---------Loop 16--------\n",
      "Check number: 98 = 33? False\n",
      "---------Loop 17--------\n",
      "Check number: 13 = 33? False\n",
      "---------Loop 18--------\n",
      "Check number: 60 = 33? False\n",
      "---------Loop 19--------\n",
      "Check number: 88 = 33? False\n",
      "---------Loop 20--------\n",
      "Check number: 33 = 33? True\n",
      "---------Loop 21--------\n",
      "Check number: 85 = 33? False\n",
      "---------Loop 22--------\n",
      "Check number: 53 = 33? False\n",
      "---------Loop 23--------\n",
      "Check number: 83 = 33? False\n",
      "---------Loop 24--------\n",
      "Check number: 9 = 33? False\n",
      "Number 33 found in 25 tries!\n"
     ]
    }
   ],
   "source": [
    "numberSearch = int(input(\"Enter a number: \"))\n",
    "varCounter = 0\n",
    "maxTries = 25\n",
    "found = False\n",
    "while varCounter < maxTries:\n",
    "    randomNumber = random.randint(1,100)\n",
    "    print(\"---------Loop \" + str(varCounter) + \"--------\")\n",
    "    print(\"Check number: \" + str(randomNumber) + \" = \" + str(numberSearch) + \"? \" + str(randomNumber == numberSearch))\n",
    "    if randomNumber == numberSearch:\n",
    "        found = True\n",
    "        break\n",
    "    varCounter = varCounter + 1\n",
    "\n",
    "if found:\n",
    "    print(\"Number \" + str(numberSearch) + \" found in \" + str(varCounter) + \" tries!\")\n",
    "else:\n",
    "    print(\"Number \" + str(numberSearch) + \" not found in \" + str(varCounter) + \" tries!\")"
   ]
  },
  {
   "cell_type": "markdown",
   "metadata": {},
   "source": [
    "### Maximum and Minimum\n",
    "A loop that find the minimum and maximum value in a series of numbers."
   ]
  },
  {
   "cell_type": "code",
   "execution_count": 93,
   "metadata": {},
   "outputs": [
    {
     "name": "stdout",
     "output_type": "stream",
     "text": [
      "---------Loop 0--------\n",
      "Current: 97\n",
      "Min: None\n",
      "Max: None\n",
      "---------Loop 1--------\n",
      "Current: 87\n",
      "Min: 97\n",
      "Max: 97\n",
      "---------Loop 2--------\n",
      "Current: 16\n",
      "Min: 87\n",
      "Max: 97\n",
      "---------Loop 3--------\n",
      "Current: 69\n",
      "Min: 16\n",
      "Max: 97\n",
      "---------Loop 4--------\n",
      "Current: 63\n",
      "Min: 16\n",
      "Max: 97\n",
      "---------Loop 5--------\n",
      "Current: 62\n",
      "Min: 16\n",
      "Max: 97\n",
      "---------Loop 6--------\n",
      "Current: 3\n",
      "Min: 16\n",
      "Max: 97\n",
      "---------Loop 7--------\n",
      "Current: 7\n",
      "Min: 3\n",
      "Max: 97\n",
      "---------Loop 8--------\n",
      "Current: 88\n",
      "Min: 3\n",
      "Max: 97\n",
      "---------Loop 9--------\n",
      "Current: 46\n",
      "Min: 3\n",
      "Max: 97\n",
      "---------Loop 10--------\n",
      "Current: 36\n",
      "Min: 3\n",
      "Max: 97\n",
      "---------Loop 11--------\n",
      "Current: 60\n",
      "Min: 3\n",
      "Max: 97\n",
      "---------Loop 12--------\n",
      "Current: 89\n",
      "Min: 3\n",
      "Max: 97\n",
      "---------Loop 13--------\n",
      "Current: 85\n",
      "Min: 3\n",
      "Max: 97\n",
      "---------Loop 14--------\n",
      "Current: 32\n",
      "Min: 3\n",
      "Max: 97\n",
      "---------Loop 15--------\n",
      "Current: 64\n",
      "Min: 3\n",
      "Max: 97\n",
      "---------Loop 16--------\n",
      "Current: 88\n",
      "Min: 3\n",
      "Max: 97\n",
      "---------Loop 17--------\n",
      "Current: 95\n",
      "Min: 3\n",
      "Max: 97\n",
      "---------Loop 18--------\n",
      "Current: 37\n",
      "Min: 3\n",
      "Max: 97\n",
      "---------Loop 19--------\n",
      "Current: 4\n",
      "Min: 3\n",
      "Max: 97\n",
      "---------Loop 20--------\n",
      "Current: 9\n",
      "Min: 3\n",
      "Max: 97\n",
      "---------Loop 21--------\n",
      "Current: 20\n",
      "Min: 3\n",
      "Max: 97\n",
      "---------Loop 22--------\n",
      "Current: 30\n",
      "Min: 3\n",
      "Max: 97\n",
      "---------Loop 23--------\n",
      "Current: 4\n",
      "Min: 3\n",
      "Max: 97\n",
      "---------Loop 24--------\n",
      "Current: 5\n",
      "Min: 3\n",
      "Max: 97\n",
      "The minimum number is: 3\n",
      "The maximum number is: 97\n"
     ]
    }
   ],
   "source": [
    "varCounter = 0\n",
    "maxTries = 25\n",
    "minNumber = None\n",
    "maxNumber = None\n",
    "while varCounter < maxTries:\n",
    "    print(\"---------Loop \" + str(varCounter) + \"--------\")\n",
    "    randomNumber = random.randint(1,100)\n",
    "    print(\"Current: \" + str(randomNumber))\n",
    "    print(\"Min: \" + str(minNumber))\n",
    "    print(\"Max: \" + str(maxNumber))\n",
    "    if(minNumber is None or minNumber > randomNumber):\n",
    "        minNumber = randomNumber\n",
    "    if(maxNumber is None or maxNumber < randomNumber):\n",
    "        maxNumber = randomNumber\n",
    "    varCounter = varCounter + 1\n",
    "\n",
    "print(\"The minimum number is: \" + str(minNumber))\n",
    "print(\"The maximum number is: \" + str(maxNumber))"
   ]
  },
  {
   "cell_type": "markdown",
   "metadata": {},
   "source": [
    "# Exercise\n",
    "Write code to keep track of each lap in a 1 mile run (4 laps). Ask the user for their time on each lap. Stop asking after the fourth lap and report the total time."
   ]
  },
  {
   "cell_type": "code",
   "execution_count": null,
   "metadata": {},
   "outputs": [],
   "source": [
    "# Step 1....\n",
    "\n",
    "# Step 2...."
   ]
  }
 ],
 "metadata": {
  "kernelspec": {
   "display_name": "Python 3 (ipykernel)",
   "language": "python",
   "name": "python3"
  },
  "language_info": {
   "codemirror_mode": {
    "name": "ipython",
    "version": 3
   },
   "file_extension": ".py",
   "mimetype": "text/x-python",
   "name": "python",
   "nbconvert_exporter": "python",
   "pygments_lexer": "ipython3",
   "version": "3.12.3"
  },
  "toc": {
   "base_numbering": 1,
   "nav_menu": {},
   "number_sections": true,
   "sideBar": true,
   "skip_h1_title": false,
   "title_cell": "Table of Contents",
   "title_sidebar": "Contents",
   "toc_cell": false,
   "toc_position": {},
   "toc_section_display": true,
   "toc_window_display": true
  }
 },
 "nbformat": 4,
 "nbformat_minor": 4
}
