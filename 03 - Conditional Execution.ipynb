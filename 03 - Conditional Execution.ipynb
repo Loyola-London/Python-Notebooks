{
 "cells": [
  {
   "cell_type": "markdown",
   "metadata": {},
   "source": [
    "# Introduction\n",
    "In this module we will discuss issues related to the flow of an application. When writing an application to perform some task, your application will often need to respond to changing conditions and navigate to successful completion. This is handled through conditional statements which direct the execution of your application according to the current state of the world. We use these statements frequently in our own life--'if' the store is out of whole milk, buy skim milk. 'Else', buy whole milk--but we rarely think about how they are structured and how different conditions result in different choices. In this module we will learn how to be explicit as we direct the flow of our applications.\n",
    "\n",
    "# Conditional Execution\n",
    "Conditional execution occurs when values are joined by conditional (or comparison) operators. Together, these values and operators form a conditional statement which evaluates as a true or false value. These concepts are further discussed below.\n",
    "\n",
    "## Comparison Operators\n",
    "Whereas arithmetic operators are used to process variable values, comparison operators are used to compare values. Expressions containing these operators produce Boolean values. For example, consider the code below:"
   ]
  },
  {
   "cell_type": "code",
   "execution_count": null,
   "metadata": {},
   "outputs": [],
   "source": [
    "1 + 2"
   ]
  },
  {
   "cell_type": "code",
   "execution_count": null,
   "metadata": {},
   "outputs": [],
   "source": [
    "type(1 + 2)"
   ]
  },
  {
   "cell_type": "code",
   "execution_count": null,
   "metadata": {},
   "outputs": [],
   "source": [
    "1 > 2"
   ]
  },
  {
   "cell_type": "code",
   "execution_count": null,
   "metadata": {},
   "outputs": [],
   "source": [
    "type(1 > 2)"
   ]
  },
  {
   "cell_type": "markdown",
   "metadata": {},
   "source": [
    "So, while the statement \n",
    "```python\n",
    "myVar = 1 + 2\n",
    "```\n",
    "results in a value that has the type of integer, \n",
    "```python\n",
    "myVar = 1 > 2\n",
    "```\n",
    "results in a value that has the type of Boolean (Boolean simply means true or false, and in this case, the value is false because one it is not true that one is greater than true). You can think of comparison operators as asking the question: Is it true that these values are related in this way? If the answer it no, the value of the statement is FALSE. If the answer is yes, the value of the statement is TRUE (true and false are reserved words in python). Common conditional operators are listed below.\n",
    "\n",
    "|Operator|Operation|\n",
    "|--------|---------|\n",
    "|A == B|Are A and B equal?|\n",
    "|A != B|Are A and B not equal?|\n",
    "|A < B|Is A less than B?|\n",
    "|A <= B|Is A less than or equal to B?|\n",
    "|A > B|Is A greater than B?|\n",
    "|A >= B|Is A greater than or equal to B?|\n",
    "\n",
    "Below are some examples of conditional "
   ]
  },
  {
   "cell_type": "code",
   "execution_count": null,
   "metadata": {},
   "outputs": [],
   "source": [
    "5 < 10"
   ]
  },
  {
   "cell_type": "code",
   "execution_count": null,
   "metadata": {},
   "outputs": [],
   "source": [
    "\"Jake\" < \"London\""
   ]
  },
  {
   "cell_type": "code",
   "execution_count": null,
   "metadata": {},
   "outputs": [],
   "source": [
    "\"LONDON\" == \"london\""
   ]
  },
  {
   "cell_type": "code",
   "execution_count": null,
   "metadata": {},
   "outputs": [],
   "source": [
    "9.00 <= 9"
   ]
  },
  {
   "cell_type": "code",
   "execution_count": null,
   "metadata": {},
   "outputs": [],
   "source": [
    "\"9\" < 9"
   ]
  },
  {
   "cell_type": "markdown",
   "metadata": {},
   "source": [
    "## Conditional Execution\n",
    "Conditional execution is an essential component of any application. Conditional execution allows your application to assess the current reality of the application and to execute code accordingly. To do this, conditional statements are written using the ‘if’ keyword in conjunction with some comparison statement. Consider the following code. I want to report how two ages relate to one another. I start by 'remembering' the ages by assigning values to variables in my code. "
   ]
  },
  {
   "cell_type": "code",
   "execution_count": null,
   "metadata": {},
   "outputs": [],
   "source": [
    "myAge = 46\n",
    "yourAge = input('What is your age?')\n",
    "yourAge = int(yourAge)\n",
    "\n",
    "print(\"I am \" + str(myAge) + \" and you are \" + str(yourAge))"
   ]
  },
  {
   "cell_type": "markdown",
   "metadata": {},
   "source": [
    "In the following block, I have three statements. One is universal (i.e., I want to welcome all students, young and old) and two are conditional; I do not want to report that I am older than you and you are younger than me, if it is not true. Put another way, I want to report 'I am older than you; you are younger than me'  *if my age is greater than your age*.\n",
    "\n",
    "To do that in python, we replace the concepts of my age and your age with the approriate variables and use an operator to assess 'greater than.'"
   ]
  },
  {
   "cell_type": "code",
   "execution_count": null,
   "metadata": {},
   "outputs": [],
   "source": [
    "if myAge > yourAge:\n",
    "    print('I am older than you')\n",
    "    print('You are younger than me')\n",
    "    \n",
    "    print('Welcome to class')"
   ]
  },
  {
   "cell_type": "markdown",
   "metadata": {},
   "source": [
    "**Note:** Python is very strict about indentation. Though indentation refers to any leading white-space, it is a best practice to use tabs to indent your code. Indents are used to create levels of execution where consecutive lines at the same level of execution are executed together. Execution is broken when the interpreter encounters a line at a different level of indentation. So, when you create a conditional block of code, all of the code you want to execute if the condition is true must be indented to the same level. Because the two print statements are indented to the same level, Python interprets that to mean that you want both lines executed if the conditional statement is true.\n",
    "\n",
    "Consider the following examples. In the first example, the code **accidentally** produces the expected result. Only the first two print statements were executed because the conditaion expression is true. The third print statement executes because it is at the root level of execution. This is illustrated if we make the conditional expression false (second example). "
   ]
  },
  {
   "cell_type": "code",
   "execution_count": null,
   "metadata": {},
   "outputs": [],
   "source": [
    "if myAge > yourAge:\n",
    "    print('Our ages are different')\n",
    "    print('I am older than you')\n",
    "print('You are younger than me')"
   ]
  },
  {
   "cell_type": "markdown",
   "metadata": {},
   "source": [
    "The final example produces an error because the third print statement is indented too far. Indents are only used for conditional statements, [loops](04%20-%20Iteration.ipynb), [functions](05%20-%20Functions.ipynb) or multi-line statements. For more information on indentation, see here: [Python Indentation Rules](https://docs.python.org/3/reference/lexical_analysis.html#indentation)"
   ]
  },
  {
   "cell_type": "code",
   "execution_count": null,
   "metadata": {},
   "outputs": [],
   "source": [
    "if myAge < yourAge:\n",
    "    print('Our ages are different')\n",
    "    print('I am younger than you')\n",
    "        print('You are older than me')"
   ]
  },
  {
   "cell_type": "markdown",
   "metadata": {},
   "source": [
    "### Alternative Conditional\n",
    "Alternative execution allows you to introduce further complexity into your conditions. So, you can define one block of code to execute if a condition is true and an alternative block of code to execute if the condition is false. Notice, there is no condition for the alternative branch. "
   ]
  },
  {
   "cell_type": "code",
   "execution_count": null,
   "metadata": {},
   "outputs": [],
   "source": [
    "if myAge != yourAge:\n",
    "    print('Our ages are different')\n",
    "    # More code we want to do if the ages are different\n",
    "    # Add the code that is needed\n",
    "else:\n",
    "    print('Our ages are the same')"
   ]
  },
  {
   "cell_type": "markdown",
   "metadata": {},
   "source": [
    "### Chained Conditional\n",
    "Chained execution introduces further complexity with the elif condition. This can be thought of as an ‘else if’ condition. In the following block of code, Python evaluates the conditions in order and will only execute one block of code. First python will check to see if myAge is greater than yourAge. If it is not, it will check to see if myAge is less than yourAge. If it is not, it will execute the final else block of code. \n",
    "\n",
    "**Note:** Chained executions can get hairy quickly and you have to be careful to make sure you are not missing potential conditions. Though chained execution has its uses, I find these statements can get confusing and prefer to think in binary terms (illustrated below in the nested execution).  \n"
   ]
  },
  {
   "cell_type": "code",
   "execution_count": null,
   "metadata": {},
   "outputs": [],
   "source": [
    "if myAge > yourAge:\n",
    "    print('I am older than you')\n",
    "    print('You are younger than me')\n",
    "elif myAge < yourAge:\n",
    "    print('You are older than me')\n",
    "    print('I am younger than you')\n",
    "else:\n",
    "    print('We are the same age')\n",
    "\n",
    "print(\"Welcome to class!\")"
   ]
  },
  {
   "cell_type": "markdown",
   "metadata": {},
   "source": [
    "### Nested Conditional\n",
    "Nested execution nests another conditional block inside the code of a parent conditional. Nested statements are more difficult to read, but the logic is easier to follow (at least for me). In the following block of code, the program checks to see if our ages are different. If so, the first block of code executes, then the code reports *how* are ages are different by checking greater/less than (**Note**: There is no need to check equivalence because we have already established the ages differ). If not, the else block executes. I prefer this structure, because it keeps the comparisons simple and makes it easier to modify how your program responds to different states of the world (my opinion). \n",
    "\n",
    "Notice that a nested conditional requires another level of indentation. The second level is only executed if the initial if condition is false (or, stated differently, the else condition is true). "
   ]
  },
  {
   "cell_type": "code",
   "execution_count": null,
   "metadata": {},
   "outputs": [],
   "source": [
    "if myAge != yourAge:\n",
    "    print('Our ages are different')\n",
    "\n",
    "    if myAge < yourAge:\n",
    "        print('You are older than me')\n",
    "        print('I am younger than you')\n",
    "    else:\n",
    "        print('I am older than you')\n",
    "        print('You are younger than me')\n",
    "else:\n",
    "    print('Our ages are the same')\n",
    "\n",
    "print(\"Welcome to class!\")"
   ]
  },
  {
   "cell_type": "markdown",
   "metadata": {},
   "source": [
    "Play around with the code below. This is a large block of nested conditionals. x and y are boolean variables and, by default have True or False values. Play around with their values by changing them to integers (e.g., x = 7) and change the conditional expressions to match the variable type (e.g., x < 50). \n",
    "\n",
    "**Can you tell which lines of code will be executed and when? Do you understand the order?**"
   ]
  },
  {
   "cell_type": "code",
   "execution_count": null,
   "metadata": {},
   "outputs": [],
   "source": [
    "x = 1\n",
    "y = 1\n",
    "\n",
    "# Code at first level of execution is always evaluated\n",
    "if x == 1:\n",
    "\n",
    "    # Code at second level of execution is only evaluated if condition is satisfied\n",
    "    print(\"Condition x == 1 is met\")\n",
    "\n",
    "    if y == 1:\n",
    "        # Code at second level of execution is only evaluated if condition is satisfied\n",
    "        print(\"Condition y == 1 is met\")\n",
    "\n",
    "    else:\n",
    "        # Code in else block is only executed if associated 'if' block is not executed\n",
    "        print(\"Condition y == 1 is not met\")\n",
    "\n",
    "else:\n",
    "\n",
    "    # Ignore vertical spacing and focus on horizontal spacing\n",
    "\n",
    "    print(\"Condition x == 1 is not met\")\n",
    "\n",
    "    if y == 1:\n",
    "\n",
    "        # What level of execution is this block of code? Under what conditions will it be executed?\n",
    "        print(\"Condition y == 1 is met\")\n",
    "\n",
    "    else:\n",
    "\n",
    "        # Continuous blocks of code at the same level of indentation are executed together\n",
    "        print(\"Condition y == 1 is not met\")"
   ]
  },
  {
   "cell_type": "markdown",
   "metadata": {},
   "source": [
    "## Compound Conditions and Logical Operators\n",
    "Logical operators can be used to create compound conditions. The logical operators in Python are ‘and’ and ‘or’. You can also use ‘not’ to invert the value of a condition. In the second block of code, or conditions will execute if either condition is true (and if both are true). Therefore, the else block will only execute if both conditions are false (parentheses are not required, but they help me keep track of my comparisons. At times you will have multiple and/or conditions in the same if statement and parentheses ensure conditions are evaluated in the correct order).\n",
    "\n",
    "### AND statement\n",
    "The AND operator links two conditional expressions and evalutes to true or false. Both conditions must be true for the code to execute. If either condition is false, python will execute the alternative block of code. See the examples below. Notice, that you can chain together multiple comparisons. If you have more than two comparisons, the order of operations come in to play such that comparisons in parentheses are executed first and other comparisons are evaluated consecutively."
   ]
  },
  {
   "cell_type": "code",
   "execution_count": null,
   "metadata": {},
   "outputs": [],
   "source": [
    "5 > 1 and 5 < 10"
   ]
  },
  {
   "cell_type": "code",
   "execution_count": null,
   "metadata": {},
   "outputs": [],
   "source": [
    "(5 > 1) and (5 == 5)"
   ]
  },
  {
   "cell_type": "code",
   "execution_count": null,
   "metadata": {},
   "outputs": [],
   "source": [
    "5 > 1 and 5 == 5 and 5 < 10"
   ]
  },
  {
   "cell_type": "code",
   "execution_count": null,
   "metadata": {},
   "outputs": [],
   "source": [
    "5 > 1 and 5 != 5 and 5 < 10"
   ]
  },
  {
   "cell_type": "code",
   "execution_count": null,
   "metadata": {},
   "outputs": [],
   "source": [
    "myWisdom = 19383\n",
    "yourWisdom = 19383\n",
    "if (myAge > yourAge) and (myWisdom > yourWisdom):\n",
    "    print('I am older and wiser than you')\n",
    "else:\n",
    "    print('I might be older than you')\n",
    "    print('I might be wiser than you')\n",
    "    print('I am not older and wiser than you')"
   ]
  },
  {
   "cell_type": "markdown",
   "metadata": {},
   "source": [
    "### OR statement\n",
    "The OR operator evaluates to true if either expression is true and only evaluates to false if both conditions are false. See the examples below. As with the AND operators, the OR can chain together multiple comparisons. Also, the OR and AND operators can be combined. If you combine them, I would recommend using parentheses to help you organize your thinking."
   ]
  },
  {
   "cell_type": "code",
   "execution_count": null,
   "metadata": {},
   "outputs": [],
   "source": [
    "5 > 1 or 5 < 10"
   ]
  },
  {
   "cell_type": "code",
   "execution_count": null,
   "metadata": {},
   "outputs": [],
   "source": [
    "5 > 1 or 5 > 10"
   ]
  },
  {
   "cell_type": "code",
   "execution_count": null,
   "metadata": {},
   "outputs": [],
   "source": [
    "5 < 1 or 5 > 10"
   ]
  },
  {
   "cell_type": "code",
   "execution_count": null,
   "metadata": {},
   "outputs": [],
   "source": [
    "5 > 1 or 5 != 5 or 5 < 10"
   ]
  },
  {
   "cell_type": "code",
   "execution_count": null,
   "metadata": {},
   "outputs": [],
   "source": [
    "(5 > 1 and 5 > 10) or 5 != 5"
   ]
  },
  {
   "cell_type": "code",
   "execution_count": null,
   "metadata": {},
   "outputs": [],
   "source": [
    "if (myAge > yourAge) or (myWisdom > yourWisdom):\n",
    "    print('I might be older than you')\n",
    "    print('I might be wiser than you')\n",
    "    print('I might be older and wiser than you')\n",
    "else:\n",
    "    print('I am neither older nor wiser than you')"
   ]
  },
  {
   "cell_type": "markdown",
   "metadata": {},
   "source": [
    "## Validation\n",
    "Try blocks can be used to catch input errors. Asking the user for input is complicated by two issues: 1) we have little control over what they type 2) regardless of what they type it will be treated as a string. This means that if we are hoping for a number, even if they give us what we want, we have to convert it from a string to a number. If they don’t give us what we want, the conversion step will raise an error as our application struggles to understand their response. Try blocks are used to suppress and handle these types of errors. Just as with if blocks, indented code blocks are executed only if the condition is met. For the *try:* block, the condition is always true and this block of code is always ‘tried’. The except block is only executed if one or more lines of code in the try block raise an error. "
   ]
  },
  {
   "cell_type": "code",
   "execution_count": null,
   "metadata": {},
   "outputs": [],
   "source": [
    "try:\n",
    "    myAge = int(input('Enter your age: '))\n",
    "    print('You will be ' + str(myAge + 10) + ' in 10 years.')\n",
    "except:\n",
    "    print('I\\'m sorry, I did not understand your response')\n",
    "\n",
    "print('Thanks for trying!')"
   ]
  },
  {
   "cell_type": "markdown",
   "metadata": {},
   "source": [
    "## Debugging\n",
    "Debugging is an essential task in programming. No matter how long you’ve been programming, you will write applications with bugs. Lots and lots and lots of bugs. Some bugs will be noticeable (syntax errors), and others will be less so (logic errors, design errors), but all of them need to be squashed. For syntax errors, Python tries to give hints as to where the problem lies. Run the code block below."
   ]
  },
  {
   "cell_type": "code",
   "execution_count": null,
   "metadata": {},
   "outputs": [],
   "source": [
    "myAge = input('Enter your age: ')\n",
    "print('You will be ' + (myAge + 10) + ' in 10 years.')"
   ]
  },
  {
   "cell_type": "markdown",
   "metadata": {},
   "source": [
    "Python provides a traceback log that 'traces' the error back to the source (most commonly, the file you’re working on). The log provides the file and line which raised the error, prints the line of code or offending segment, and then indicates the type of error that occurred. If you’re stuck, you can often paste the final line of the traceback log into google and it will direct you to an explanation of the problem (typically on stackoverflow). \n",
    "\n",
    "<img src=\"https://thislondonhouse.com/images/04-Debugging-01.png\" alt=\"Google is your friend\" width=\"75%\"/>\n",
    "\n",
    "# Exercise\n",
    "Write code to produce a cholesterol risk detector. Ask the user for their total cholesterol and report whether their cholesterol level is 'Good' (less than or equal to 200), 'Elevated' (greater than 200 and less than 240) or 'High' (greater than or equal to 240)."
   ]
  },
  {
   "cell_type": "code",
   "execution_count": null,
   "metadata": {},
   "outputs": [],
   "source": [
    "# Step 1....\n",
    "\n",
    "# Step 2...."
   ]
  }
 ],
 "metadata": {
  "celltoolbar": "Edit Metadata",
  "kernelspec": {
   "display_name": "Python 3 (ipykernel)",
   "language": "python",
   "name": "python3"
  },
  "language_info": {
   "codemirror_mode": {
    "name": "ipython",
    "version": 3
   },
   "file_extension": ".py",
   "mimetype": "text/x-python",
   "name": "python",
   "nbconvert_exporter": "python",
   "pygments_lexer": "ipython3",
   "version": "3.12.3"
  },
  "toc": {
   "base_numbering": 1,
   "nav_menu": {},
   "number_sections": true,
   "sideBar": true,
   "skip_h1_title": false,
   "title_cell": "Table of Contents",
   "title_sidebar": "Contents",
   "toc_cell": false,
   "toc_position": {},
   "toc_section_display": true,
   "toc_window_display": true
  }
 },
 "nbformat": 4,
 "nbformat_minor": 4
}
