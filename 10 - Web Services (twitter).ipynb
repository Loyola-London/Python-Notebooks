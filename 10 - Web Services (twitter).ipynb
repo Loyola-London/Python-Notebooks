{
 "cells": [
  {
   "cell_type": "markdown",
   "metadata": {},
   "source": [
    "# Introduction\n",
    "In this module, we will discuss issues related to accessing data via web services. Modern web sites and applications use Application Programming Interfaces (API) to retrieve and store data in a web environment such as a browser. Most of these transactions happen behind the scenes, but, because they occur in a web environment, they are accessible through any traditional internet channel. In this module we will look at web service in the context of Twitter's API. Though much of this module is specific to Twitter, the process is common to many other web services.\n",
    "\n",
    "# Web Services\n",
    "For most web services, you must register with the service before you can access their data. Additionally, in Python, many web services have community developed libraries which simplify the process of connecting to and downloading from various web services.\n",
    "This document is organized in a way that acknowledges these facts. Firsts, I illustrate how to create a twitter developer account. Then, I show how to use a community-built library (Tweepy) to connect to Twitter’s API.\n",
    "## Creating a Twitter Developer Account\n",
    "https://developer.twitter.com/en/apply-for-access\n",
    "<br><img src=\"http://thislondonhouse.com/Jupyter/Images/12-Twitter-01.png?1\" width=\"50%\" /><br>\n",
    "Log in with your twitter account and apply for developer access.\n",
    "<br><img src=\"http://thislondonhouse.com/Jupyter/Images/12-Twitter-02.png?1\" width=\"50%\" /><br>\n",
    "Request academic access (student). \n",
    "<br><img src=\"http://thislondonhouse.com/Jupyter/Images/12-Twitter-03.png?1\" width=\"50%\" /><br>\n",
    "When asked to describe your reasons for wanting developer access, use my answers as a template for your own answers. Be sure to indicate that we will not be writing applications that tweet, retweet or like content and that we will only be using data for aggregate purposes.\n",
    "**My answers…**\n",
    "1. I am using Twitter's API to learn about python programming. I plan to analyze tweets to learn about data collection and semantic analysis. I will learn how to connect to Twitter's API, download tweets and extract and aggregate information. My solution will not involve tweeting, retweeting or liking. No individual tweets will be displayed. All data will be presented in aggregate.\n",
    "2. I will use Twitter's API to learn how to provide summary statistics. I do not intend to share the information and these exercises are for instructional purposes only.\n",
    "<br><img src=\"http://thislondonhouse.com/Jupyter/Images/12-Twitter-04.png?1\" width=\"50%\" /><br>\n",
    "Confirm your selections and select ‘Looks Good!’.\n",
    "<br><img src=\"http://thislondonhouse.com/Jupyter/Images/12-Twitter-05.png?1\" width=\"50%\" /><br>\n",
    "Agree to the terms and conditions and click ‘Submit Application’.\n",
    "<br><img src=\"http://thislondonhouse.com/Jupyter/Images/12-Twitter-06.png?1\" width=\"50%\" /><br>\n",
    "You should be granted access very quickly. Within the hour at the latest. Check your email.\n",
    "\n",
    "Log in to your developer account at https://developer.twitter.com.\n",
    "<br><img src=\"http://thislondonhouse.com/Jupyter/Images/12-Twitter-07.png?1\" width=\"50%\" /><br>\n",
    "Click ‘Dashboard’ and create a new app.\n",
    "<br><img src=\"http://thislondonhouse.com/Jupyter/Images/12-Twitter-08.png?1\" width=\"50%\" /><br>\n",
    "**My answers…**\n",
    "1. IS 352 Demo - Fall 2020\n",
    "2. This is a student application to demo connecting to Twitter’s API.\n",
    "3. Website URL: https://www.loyola.edu/sellinger-business/academics/departments/information-systems-law-and-operations\n",
    "4. I am using Twitter's API to learn about python programming. I plan to analyze tweets to learn about data collection and semantic analysis. I will learn how to connect to Twitter's API, download tweets and extract and aggregate information. My solution will not involve tweeting, retweeting or liking. No individual tweets will be displayed. All data will be presented in aggregate.\n",
    "<br><img src=\"http://thislondonhouse.com/Jupyter/Images/12-Twitter-09.png?1\" width=\"50%\" /> <br>\n",
    "After you create your app, you will need to click “Keys and tokens” to access the API keys that your Python app will use to authenticate with Twitter’s servers. If you do not have Access tokens and access token secrets, you will need to generate them. Copy the keys and paste them into your python file (see below for instructions).\n"
   ]
  },
  {
   "cell_type": "markdown",
   "metadata": {},
   "source": [
    "## Connecting to Twitter’s API via Python\n",
    "In general, there are two common approaches to connecting to an API. The first is to use http requests to pull in data from API resources and the second is to use wrapper libraries to facilitate pulling data from the API. We will look at both in the sections below."
   ]
  },
  {
   "cell_type": "markdown",
   "metadata": {},
   "source": [
    "<blockquote class=\"twitter-tweet\"><p lang=\"en\" dir=\"ltr\">‘Men of common sense do not allow much for coincidences in making the ordinary calculations of life’ (The Signalman). <a href=\"https://t.co/jk1GQmNM7h\">pic.twitter.com/jk1GQmNM7h</a></p>&mdash; Charles Dickens (@DickensSays) <a href=\"https://twitter.com/DickensSays/status/1165316261414416384?ref_src=twsrc%5Etfw\">August 24, 2019</a></blockquote> <script async src=\"https://platform.twitter.com/widgets.js\" charset=\"utf-8\"></script>"
   ]
  },
  {
   "cell_type": "markdown",
   "metadata": {},
   "source": [
    "### HTTP Requests\n",
    "Most APIs simply allow external users access to source data via web pages. These web pages use URLs and query string parameters to request specific data. Facilitate these connections, we will use the Requests library (more info here: https://requests.kennethreitz.org/en/master/)."
   ]
  },
  {
   "cell_type": "code",
   "execution_count": null,
   "metadata": {},
   "outputs": [],
   "source": [
    "!pip install Requests"
   ]
  },
  {
   "cell_type": "markdown",
   "metadata": {},
   "source": [
    "This approach requires that we directly access API resources, so we need some reference guide which will outline the available resources and the parameters that each method requires and/or allows. For twitter, this reference is here: https://developer.twitter.com/en/docs/api-reference-index.\n",
    "\n",
    "Also, you will need your consumer/access keys/secrets to connect to the api. You will find them here: https://developer.twitter.com/en/apps/"
   ]
  },
  {
   "cell_type": "code",
   "execution_count": null,
   "metadata": {},
   "outputs": [],
   "source": [
    "import requests\n",
    "import urllib\n",
    "import pprint"
   ]
  },
  {
   "cell_type": "code",
   "execution_count": null,
   "metadata": {},
   "outputs": [],
   "source": [
    "def getEndpoint(resource, parameters):\n",
    "    # set the base url\n",
    "    base_url = 'https://api.twitter.com/'\n",
    "    # set the api version\n",
    "    api_version = \"2/\"\n",
    "    # set bearer token\n",
    "    bearer_token = \"AAAAAAAAAAAAAAAAAAAAAFzuQQEAAAAAERrEoDqu4kZEZxdZ%2FFlvVwfGDvE%3D1w9la04dvMw0vjCVmcqxyFvos5NWnyzMwdbTJQqzCAdattBPrI\"\n",
    "\n",
    "    # build resource URL\n",
    "    resource_url = base_url + api_version + resource\n",
    "\n",
    "    # build headers for authorization\n",
    "    headers = {\n",
    "        'Authorization': 'Bearer ' + bearer_token\n",
    "    }\n",
    "\n",
    "    # verify resource url\n",
    "    # print(\"Getting Endpoint: \" + resource_url + \"?\" + urllib.parse.urlencode(parameters))\n",
    "\n",
    "    # request data from resource url\n",
    "    response = requests.get(resource_url, headers=headers, params=parameters)\n",
    "    # print(response)\n",
    "    # format response as a python dictionary\n",
    "    response_data = response.json()\n",
    "    # return response dictionary to main application\n",
    "    return response_data\n"
   ]
  },
  {
   "cell_type": "code",
   "execution_count": null,
   "metadata": {},
   "outputs": [],
   "source": [
    "tweetFields = 'attachments,author_id,context_annotations,conversation_id,created_at,entities,geo,id,in_reply_to_user_id,lang,possibly_sensitive,public_metrics,referenced_tweets,reply_settings,source,text,withheld'\n",
    "userFields = 'created_at,description,entities,id,location,name,pinned_tweet_id,profile_image_url,protected,public_metrics,url,username,verified,withheld'"
   ]
  },
  {
   "cell_type": "code",
   "execution_count": null,
   "metadata": {},
   "outputs": [],
   "source": [
    "id = 1165316261414416384\n",
    "resource = f\"tweets/{id}\"\n",
    "parameters = {\n",
    "    'tweet.fields': tweetFields\n",
    "}\n",
    "\n",
    "tweetData = getEndpoint(resource, parameters)"
   ]
  },
  {
   "cell_type": "code",
   "execution_count": null,
   "metadata": {},
   "outputs": [],
   "source": [
    "print(type(tweetData))\n",
    "pprint.pprint(tweetData)"
   ]
  },
  {
   "cell_type": "code",
   "execution_count": null,
   "metadata": {},
   "outputs": [],
   "source": [
    "print(tweetData['data']['text'])"
   ]
  },
  {
   "cell_type": "code",
   "execution_count": null,
   "metadata": {},
   "outputs": [],
   "source": [
    "tweet = tweetData['data']\n",
    "pprint.pprint(tweet)"
   ]
  },
  {
   "cell_type": "code",
   "execution_count": null,
   "metadata": {},
   "outputs": [],
   "source": [
    "tweetText = tweet['text']"
   ]
  },
  {
   "cell_type": "code",
   "execution_count": null,
   "metadata": {},
   "outputs": [],
   "source": [
    "print(\"Tweet Text: \" + tweetText)"
   ]
  },
  {
   "cell_type": "markdown",
   "metadata": {},
   "source": [
    "**Notice, in the screenshot above, you can see the tweet id for tweets are listed in the url for the tweet. In this case, the URL for the tweet is https://twitter.com/DickensSays/status/1165316261414416384 and the tweet id is simply the number at the end of the URL.**\n",
    "\n",
    "Also, notice the data returned from Twitter is in the form of a dictionary. This means that you would use standard dictionary notation to reference different values in the returned data."
   ]
  },
  {
   "cell_type": "code",
   "execution_count": null,
   "metadata": {},
   "outputs": [],
   "source": [
    "print(tweet['created_at'])"
   ]
  },
  {
   "cell_type": "code",
   "execution_count": null,
   "metadata": {},
   "outputs": [],
   "source": [
    "print(tweet['public_metrics']['retweet_count'])"
   ]
  },
  {
   "cell_type": "code",
   "execution_count": null,
   "metadata": {},
   "outputs": [],
   "source": [
    "print(tweet['public_metrics']['like_count'])"
   ]
  },
  {
   "cell_type": "code",
   "execution_count": null,
   "metadata": {},
   "outputs": [],
   "source": [
    "print(tweet['entities'])"
   ]
  },
  {
   "cell_type": "code",
   "execution_count": null,
   "metadata": {},
   "outputs": [],
   "source": [
    "print(tweet['entities']['urls'][0]['expanded_url'])"
   ]
  },
  {
   "cell_type": "code",
   "execution_count": null,
   "metadata": {},
   "outputs": [],
   "source": [
    "print(tweet['author_id'])\n",
    "authorId = tweet['author_id']"
   ]
  },
  {
   "cell_type": "markdown",
   "metadata": {},
   "source": [
    "From here, you may want to use the user's id to pull in more data about that user. To do that, you would need to set a new resource url and update the search parameters accordingly."
   ]
  },
  {
   "cell_type": "code",
   "execution_count": null,
   "metadata": {},
   "outputs": [],
   "source": [
    "userName = \"IS251_London\"\n",
    "resource = f\"users/by/username/{userName}\"\n",
    "parameters = {\n",
    "    'user.fields': userFields,\n",
    "}\n",
    "\n",
    "userData = getEndpoint(resource, parameters)"
   ]
  },
  {
   "cell_type": "code",
   "execution_count": null,
   "metadata": {},
   "outputs": [],
   "source": [
    "pprint.pprint(userData)"
   ]
  },
  {
   "cell_type": "code",
   "execution_count": null,
   "metadata": {},
   "outputs": [],
   "source": [
    "user = userData['data']"
   ]
  },
  {
   "cell_type": "code",
   "execution_count": null,
   "metadata": {},
   "outputs": [],
   "source": [
    "print(user['public_metrics']['tweet_count'])"
   ]
  },
  {
   "cell_type": "code",
   "execution_count": null,
   "metadata": {},
   "outputs": [],
   "source": [
    "print(user['public_metrics']['followers_count'])"
   ]
  },
  {
   "cell_type": "markdown",
   "metadata": {},
   "source": [
    "### Tweepy Wrapper\n",
    "The second approach is to use a third-party wrapper that will facilitate API requests. These wrappers are written and maintained by groups who are unaffiliated with the source API so the wrapper may be outdated or may not work at all if the maintainers do not update the wrapper to account for any changes in the API. Despite this, wrappers are often easier to use and provide useful features that may be difficult to implement using http requests."
   ]
  },
  {
   "cell_type": "code",
   "execution_count": null,
   "metadata": {},
   "outputs": [],
   "source": [
    "import tweepy"
   ]
  },
  {
   "cell_type": "code",
   "execution_count": null,
   "metadata": {},
   "outputs": [],
   "source": [
    "apiKey = \"irX92jCuceq7GaTJqYSscstir\"\n",
    "apiSecret = \"6YuUxt3JOzG0KzQdl4nmiflqSTBJt77WyDYa0MzctsBQDE4uJB\"\n",
    "\n",
    "auth = tweepy.OAuthHandler(apiKey, apiSecret)\n",
    "api = tweepy.API(auth, wait_on_rate_limit=True, retry_count=10, retry_delay=5)"
   ]
  },
  {
   "cell_type": "code",
   "execution_count": null,
   "metadata": {},
   "outputs": [],
   "source": [
    "status_id = 1165316261414416384\n",
    "status = api.get_status(status_id)"
   ]
  },
  {
   "cell_type": "code",
   "execution_count": null,
   "metadata": {},
   "outputs": [],
   "source": [
    "print(str(status.text))"
   ]
  },
  {
   "cell_type": "markdown",
   "metadata": {},
   "source": [
    "In the example above, I import the tweepy library and set my consumer key/secret and access token/secret. I then use Tweepy’s .OAuthHandler() method to establish a secure and authenticated connection to Twitter’s servers. Next, I create an API connection that I will use to query Twitter’s servers. Finally, I use the .get_status() method to download tweet number 1165316261414416384.\n",
    " \n",
    "An obvious question is: \"How did I know the text of the tweet was accessible by printing status.text?\" The answer to that question lies in how tweepy interfaces with the Twitter API. For more information on this exchange, go here: http://docs.tweepy.org/en/v3.6.0/. In short, tweepy works by accepting the <a href=\"https://www.json.org/\">JSON</a> response for twitter, and then converting that into an object with properties that mirror those outlined in the twitter API. So, when you ask tweepy to get a status from Twitter, tweepy returns a <a href=\"https://developer.twitter.com/en/docs/tweets/data-dictionary/overview/tweet-object\">tweet object</a>."
   ]
  },
  {
   "cell_type": "code",
   "execution_count": null,
   "metadata": {},
   "outputs": [],
   "source": [
    "print(type(status))\n",
    "pprint.pprint(status._json)"
   ]
  },
  {
   "cell_type": "markdown",
   "metadata": {},
   "source": [
    "The text returned when you print the status is the text that Twitter's API returns. Tweepy uses this text to build a status object. "
   ]
  },
  {
   "cell_type": "code",
   "execution_count": null,
   "metadata": {},
   "outputs": [],
   "source": [
    "print(status.created_at)"
   ]
  },
  {
   "cell_type": "code",
   "execution_count": null,
   "metadata": {},
   "outputs": [],
   "source": [
    "print(status.retweet_count)"
   ]
  },
  {
   "cell_type": "code",
   "execution_count": null,
   "metadata": {},
   "outputs": [],
   "source": [
    "print(status.favorite_count)"
   ]
  },
  {
   "cell_type": "code",
   "execution_count": null,
   "metadata": {},
   "outputs": [],
   "source": [
    "print(status.entities)"
   ]
  },
  {
   "cell_type": "code",
   "execution_count": null,
   "metadata": {},
   "outputs": [],
   "source": [
    "print(status.entities['urls'][0]['expanded_url'])"
   ]
  },
  {
   "cell_type": "code",
   "execution_count": null,
   "metadata": {},
   "outputs": [],
   "source": [
    "print(status.user.id)\n",
    "print(status.user.screen_name)"
   ]
  },
  {
   "cell_type": "markdown",
   "metadata": {},
   "source": [
    "Similarly, when you ask tweepy to get a user from Twitter, tweepy returns a <a href=\"https://developer.twitter.com/en/docs/tweets/data-dictionary/overview/user-object\">user object</a>."
   ]
  },
  {
   "cell_type": "code",
   "execution_count": null,
   "metadata": {},
   "outputs": [],
   "source": [
    "user = api.get_user(screen_name=\"IS251_London\")\n",
    "pprint.pprint(user._json)"
   ]
  },
  {
   "cell_type": "code",
   "execution_count": null,
   "metadata": {},
   "outputs": [],
   "source": [
    "print(user.statuses_count)"
   ]
  },
  {
   "cell_type": "code",
   "execution_count": null,
   "metadata": {},
   "outputs": [],
   "source": [
    "print(user.favourites_count)"
   ]
  },
  {
   "cell_type": "markdown",
   "metadata": {},
   "source": [
    "# Exercise\n",
    "Pick a twitter account and calculate a measure of their influence (influence = # of friends / # of followers"
   ]
  },
  {
   "cell_type": "code",
   "execution_count": null,
   "metadata": {},
   "outputs": [],
   "source": [
    "# Step 1...\n",
    "\n",
    "# Step 2..."
   ]
  }
 ],
 "metadata": {
  "kernelspec": {
   "display_name": "Python 3 (ipykernel)",
   "language": "python",
   "name": "python3"
  },
  "language_info": {
   "codemirror_mode": {
    "name": "ipython",
    "version": 3
   },
   "file_extension": ".py",
   "mimetype": "text/x-python",
   "name": "python",
   "nbconvert_exporter": "python",
   "pygments_lexer": "ipython3",
   "version": "3.10.12"
  },
  "toc": {
   "base_numbering": 1,
   "nav_menu": {},
   "number_sections": true,
   "sideBar": true,
   "skip_h1_title": false,
   "title_cell": "Table of Contents",
   "title_sidebar": "Contents",
   "toc_cell": false,
   "toc_position": {},
   "toc_section_display": true,
   "toc_window_display": true
  }
 },
 "nbformat": 4,
 "nbformat_minor": 4
}
