{
 "cells": [
  {
   "cell_type": "markdown",
   "metadata": {},
   "source": [
    "# Introduction\n",
    "In this module we will discuss variables and expressions. These two topics--storing and manipulating information in applications--serve as the foundation for all other programming knowledge. We will begin by discussing the concept of variables and how they are represented in programming languages. Next, we turn to expressions, which are the means by which variables are manipulated within an application. We close this module by combining these concepts into statements. Statements are individual declarative statements which make up a program."
   ]
  },
  {
   "cell_type": "markdown",
   "metadata": {},
   "source": [
    "# Expressions\n",
    "An expression is a combination of operands (i.e., values, variables) and operands (i.e., +, -). Python evaluates expressions to produce some output. Just as mathematical expressions (e.g., 2 is the ouptput value of the expressions 1 + 1), expressions in Python generate some output that can be used in your application.\n",
    "\n",
    "## Values and Types\n",
    "**What are the two properties of a variable?** Variables have values (e.g., 9, ‘Hello World’, 3.14159) and those values are of a particular type (e.g., character and numeric). Both the value and type of a variable is set when the variable is defined in your program. The type of the variable determines how Python treats the variable and how the variable can be used. The type of a variable is immutable and determined by the value so type can only be changed if the variable is redefined. The value references information that the program need to complete its tasks. Values can and do change frequently."
   ]
  },
  {
   "cell_type": "code",
   "execution_count": null,
   "metadata": {},
   "outputs": [],
   "source": [
    "type(\"9\")"
   ]
  },
  {
   "cell_type": "code",
   "execution_count": null,
   "metadata": {},
   "outputs": [],
   "source": [
    "type(9)"
   ]
  },
  {
   "cell_type": "code",
   "execution_count": null,
   "metadata": {},
   "outputs": [],
   "source": [
    "type('$9.00')"
   ]
  },
  {
   "cell_type": "code",
   "execution_count": null,
   "metadata": {},
   "outputs": [],
   "source": [
    "type(9.00)"
   ]
  },
  {
   "cell_type": "markdown",
   "metadata": {},
   "source": [
    "### Type Conversions\n",
    "In the code above, str() is a **function** that converts the input value (i.e., 9) to a string. Similar functions, int() and float(), convert values to integers and floating point numbers, respectively. To check the type of a variable, you can use the type() function.  See the code below for more examples. For more information on functions, see here: [Functions](07%20-%20Functions.ipynb)."
   ]
  },
  {
   "cell_type": "code",
   "execution_count": null,
   "metadata": {},
   "outputs": [],
   "source": [
    "type(str(9))"
   ]
  },
  {
   "cell_type": "code",
   "execution_count": null,
   "metadata": {},
   "outputs": [],
   "source": [
    "type(int(\"43\"))"
   ]
  },
  {
   "cell_type": "code",
   "execution_count": null,
   "metadata": {},
   "outputs": [],
   "source": [
    "type(int(str(9)))"
   ]
  },
  {
   "cell_type": "markdown",
   "metadata": {},
   "source": [
    "## Operators and Operands\n",
    "**How do variables interrelate?** Variables can be combined or compared (more on comparisons here: [Conditional Execution](03%20-%20Conditional%20Execution.ipynb)). You can only combine variables that have the same type. Python does not know how to join strings and numbers (you probably don't either), and it returns a syntax error message stating as much (i.e., can only concatenate str (not \"int\") to str).\n",
    "\n",
    "**What is an operator and what do operands do?** Operators are the building blocks of expressions in that they combine variables or values to perform some task. The operator instructs the Python interpreter on how to combine or assess the operands. The most common operators are + (addition), - (subtraction), * (multiplication), / (division), ** (exponential). All of these operands combine operators in some unique way. There are other operands that assess the relationship among operators and these are called conditional operands. The less than (<) and greater than (>) operators are examples of conditional operators. For more information on conditional operators, see [Conditional Execution](04%20-%20Conditional%20Execution.ipynb)."
   ]
  },
  {
   "cell_type": "code",
   "execution_count": null,
   "metadata": {},
   "outputs": [],
   "source": [
    "5 + 9 + 5"
   ]
  },
  {
   "cell_type": "code",
   "execution_count": null,
   "metadata": {},
   "outputs": [],
   "source": [
    "((3 + 7) - 2 * (8 / 14)) ** 3"
   ]
  },
  {
   "cell_type": "markdown",
   "metadata": {},
   "source": [
    "**String Operations** – As discussed earlier, + operand can be used to combine strings. This action is called concatenation. We will cover strings in greater depth later in class [Strings](06%20-%20Strings.ipynb)), but you should know that the + operand performs concatenation when the operands are strings and addition when the operands are numbers (integer or decimal). In the code below, the + operator is acting as a concatenation command. Much like the plus operator *joins* two numbers together--addition is a form of joining--the concatenator joins strings."
   ]
  },
  {
   "cell_type": "code",
   "execution_count": null,
   "metadata": {},
   "outputs": [],
   "source": [
    "'h' + 'el' +'lo!'"
   ]
  },
  {
   "cell_type": "code",
   "execution_count": null,
   "metadata": {},
   "outputs": [],
   "source": [
    "'Hello ' + 'World! ' + \"How are you?\""
   ]
  },
  {
   "cell_type": "code",
   "execution_count": null,
   "metadata": {},
   "outputs": [],
   "source": [
    "'5' + '9' + '5'"
   ]
  },
  {
   "cell_type": "markdown",
   "metadata": {},
   "source": [
    "However, you can combine different-type variables if you first convert the type so that all values are of the same type."
   ]
  },
  {
   "cell_type": "code",
   "execution_count": null,
   "metadata": {},
   "outputs": [],
   "source": [
    "str(5 + 9 + 5)"
   ]
  },
  {
   "cell_type": "code",
   "execution_count": null,
   "metadata": {},
   "outputs": [],
   "source": [
    "'Hello' + '2020' + 'World'"
   ]
  },
  {
   "cell_type": "markdown",
   "metadata": {},
   "source": [
    "## Order of Operations\n",
    "**What is the order of operations in Python?** Like any other calculator, Python has an ingrained order of operations. PEDMAS is an acronym which will help you know how Python will interpret an expression (Parentheses, Exponent, Multiplication and Division, Addition and Subtraction. For MD and AS, the expression is evaluated left to right).\n"
   ]
  },
  {
   "cell_type": "code",
   "execution_count": null,
   "metadata": {},
   "outputs": [],
   "source": [
    "(4 + 5) * 9"
   ]
  },
  {
   "cell_type": "code",
   "execution_count": null,
   "metadata": {},
   "outputs": [],
   "source": [
    "4 + 5 * 9"
   ]
  },
  {
   "cell_type": "markdown",
   "metadata": {},
   "source": [
    "In the code below, notice that we are nesting the str() function inside the expression. Python works a lot like mathematics in that commands nested in parentheses are executed first. So, the first thing Pyhon does in the code below is convert the number 2020 to the string 2020 (for more information on strings, see here: [Strings](06%20-%20Strings.ipynb)). Then Python concatenates three strings (i.e., *Hello*, *2020*, *World*)."
   ]
  },
  {
   "cell_type": "code",
   "execution_count": null,
   "metadata": {},
   "outputs": [],
   "source": [
    "'Hello' + str(2020) + 'World'"
   ]
  },
  {
   "cell_type": "markdown",
   "metadata": {},
   "source": [
    "# Variables\n",
    "**What is a variable, what do they do and why are they needed?** Variables are virtual storage locations for data elements in an application. The content of a variable is stored in the computer’s memory and the variable name serves as a pointer to the memory location so that your application can reliably retrieve the data at any point during execution. Just as you might use your fingers to keep track of how many times you've done something, you would use a variable to keep track of important information so that your application can perform its task successfully (e.g., if someone asks you to tap your foot 8 times, you can use your fingers to keep track of how many times you have tapped your foot so you know when to stop). You can think of a variable as storage bin in the attic and the variable name as the label that you put on the outside of the bin. While storage bins store our things, variables store our data and they make programming much more manageable.\n",
    "\n",
    "## Names and Keywords\n",
    "**What is and what is not allowed for variable names; what practices are discouraged/encouraged?** Variable names must be at least one character long and must start with a character (no numbers or special characters). Variable names *can* contain numbers and some special characters as long as they start with a character, but these practices are generally discouraged. Capitalization matters for variables so ‘welcomevariable’, ‘WelcomeVariable’ and ‘welcomeVariable’ are not interchangeable and would represent three different variables. The captialization in the final example (i.e., welcomeVariable) is called a camel-cased, and this technique is widely used as a best practice for variable naming. Variable names may not contain spaces.\n",
    "\n",
    "## Choosing Variable Names\n",
    "**What is a good variable name?** Just like putting descriptive labels on a storage bins or moving boxes, you should put a descriptive label on your variables. You could name them ‘x’, ‘y’, or ‘z’, but these names aren’t very descriptive. It is helpful to know that the box labled ‘pictures’ is a box full of pictures, and it is is similarly helpful to know that the variable graduationYear is likely a 4 digit number. See the statements section below for more examples of assigning variable names."
   ]
  },
  {
   "cell_type": "markdown",
   "metadata": {},
   "source": [
    "# Statements\n",
    "An assignment statement is a block of python code that assigns the output value of an expression to some named variable. A statement can may be invovle simple expressions:"
   ]
  },
  {
   "cell_type": "code",
   "execution_count": null,
   "metadata": {},
   "outputs": [],
   "source": [
    "'Hello World!'"
   ]
  },
  {
   "cell_type": "code",
   "execution_count": null,
   "metadata": {},
   "outputs": [],
   "source": [
    "helloWorld = 'Hello World!'"
   ]
  },
  {
   "cell_type": "markdown",
   "metadata": {},
   "source": [
    "or may involve several nested expressions:"
   ]
  },
  {
   "cell_type": "code",
   "execution_count": null,
   "metadata": {},
   "outputs": [],
   "source": [
    "HelloWorld = 'Hello' + ' ' + 'World'\n",
    "hello_world = 'He' + 'll' + 'o ' + 'Wo' + 'rl' + 'd!!!'\n",
    "theYear = 2025\n",
    "TheYear = 1012.5 + 1012.5\n",
    "the_year = 4050/ 2"
   ]
  },
  {
   "cell_type": "markdown",
   "metadata": {},
   "source": [
    "In the examples above, the statement is the full line of code and can be interpreted as \"set the variable named *helloWorld* equal to the string 'Hello World!'.\" So, when you look at an assigment statement, the variable that is receiving the value of the expression is always on the left of the equal sign and the expression is always on the right of the equal sign. \n",
    "\n",
    "As discussed above, the variable is named *helloWorld* and once the value is assigned the variable will hold on to this value until the program ends or the variable is assigned a new value. Consider the examples below. The first block of code prints the current value of three variables: *helloWorld*, *HelloWorld* and *hello_world*. Re-run this block after each assignment statement to see how the value of the variables change."
   ]
  },
  {
   "cell_type": "code",
   "execution_count": null,
   "metadata": {},
   "outputs": [],
   "source": [
    "helloWorld"
   ]
  },
  {
   "cell_type": "code",
   "execution_count": null,
   "metadata": {},
   "outputs": [],
   "source": [
    "HelloWorld"
   ]
  },
  {
   "cell_type": "code",
   "execution_count": null,
   "metadata": {},
   "outputs": [],
   "source": [
    "hello_world"
   ]
  },
  {
   "cell_type": "code",
   "execution_count": null,
   "metadata": {},
   "outputs": [],
   "source": [
    "theYear"
   ]
  },
  {
   "cell_type": "code",
   "execution_count": null,
   "metadata": {},
   "outputs": [],
   "source": [
    "TheYear"
   ]
  },
  {
   "cell_type": "code",
   "execution_count": null,
   "metadata": {},
   "outputs": [],
   "source": [
    "the_year"
   ]
  },
  {
   "cell_type": "markdown",
   "metadata": {},
   "source": [
    "Once a variable is create in an assignment statement, it maintains the assigned value until changed or until the application ends. In the statements below, you can see that variables can be reassigned and reused by simply creating another assignment statement. "
   ]
  },
  {
   "cell_type": "code",
   "execution_count": null,
   "metadata": {},
   "outputs": [],
   "source": [
    "HelloWorld = 'Howdy World!'"
   ]
  },
  {
   "cell_type": "code",
   "execution_count": null,
   "metadata": {},
   "outputs": [],
   "source": [
    "helloWorld = 'Greetings Earth'"
   ]
  },
  {
   "cell_type": "code",
   "execution_count": null,
   "metadata": {},
   "outputs": [],
   "source": [
    "hello_world = HelloWorld + \" \" +  helloWorld"
   ]
  },
  {
   "cell_type": "code",
   "execution_count": null,
   "metadata": {},
   "outputs": [],
   "source": [
    "theYear = theYear + 1"
   ]
  },
  {
   "cell_type": "code",
   "execution_count": null,
   "metadata": {},
   "outputs": [],
   "source": [
    "the_year = int(the_year)"
   ]
  },
  {
   "cell_type": "markdown",
   "metadata": {},
   "source": [
    "# Output and Input\n",
    "Most programs require some sort of input from the user and produce some output. In Python this is handled using the input() and print() functions. The print() function prints values to the console and the input() function accepts values from the console. Both accept a string value as an input parameter (the value inside the parentheses) and display that value in the console, but the input() function differs in that it will wait for user input before continuing execution of the application. As shown below, the print statement will output any value that can be interpreted as a string, but you should be explicit if you are uncertain."
   ]
  },
  {
   "cell_type": "code",
   "execution_count": null,
   "metadata": {},
   "outputs": [],
   "source": [
    "print(hello_world)"
   ]
  },
  {
   "cell_type": "code",
   "execution_count": null,
   "metadata": {},
   "outputs": [],
   "source": [
    "print(theYear)"
   ]
  },
  {
   "cell_type": "code",
   "execution_count": null,
   "metadata": {},
   "outputs": [],
   "source": [
    "print(helloWorld + str(theYear))"
   ]
  },
  {
   "cell_type": "markdown",
   "metadata": {},
   "source": [
    "Input will output a similar message but will wait for the user to respond before continuing. For example, when you execute the following block of code, the system will wait on the user to enter a value and press the enter key (which signals the end of data entry)."
   ]
  },
  {
   "cell_type": "code",
   "execution_count": null,
   "metadata": {},
   "outputs": [],
   "source": [
    "input('Enter the year')"
   ]
  },
  {
   "cell_type": "markdown",
   "metadata": {},
   "source": [
    "To capture the value of the input, we would need to combine all of the concepts we've discussed thus far. We need to write an assignment statement that set some variable equal to the output of an expression which includes the input() function."
   ]
  },
  {
   "cell_type": "code",
   "execution_count": null,
   "metadata": {},
   "outputs": [],
   "source": [
    "theYear = input('Enter the year:')\n",
    "print('You entered:' + theYear)"
   ]
  },
  {
   "cell_type": "markdown",
   "metadata": {},
   "source": [
    "**Note:** Values captured from the input() function will always be of the type *string*. This means that values that look like numbers will actually be strings. If you want the user to enter a number, you will need to accept it as a string and convert it to a number."
   ]
  },
  {
   "cell_type": "code",
   "execution_count": null,
   "metadata": {},
   "outputs": [],
   "source": [
    "type(input('Enter the year:'))"
   ]
  },
  {
   "cell_type": "code",
   "execution_count": null,
   "metadata": {},
   "outputs": [],
   "source": [
    "theYear = int(theYear)\n",
    "print(str(theYear) + \":\" + str(type(theYear)))"
   ]
  },
  {
   "cell_type": "markdown",
   "metadata": {},
   "source": [
    "# Comments\n",
    "**What are comments and why do we need them?** Comments are blocks of code that the interpreter ignores and are often used to explain what’s going on in the code. So, comments are a way to add notes to your code so that, as your application gets more complex, you will be able to explain what the program is doing at particular points in the code. Comments are also useful for organizing your application. In most assignments you will be asked to perform specific tasks. Oftentimes, these tasks can be inserted first as comments that will serve as placeholders for future code.\n",
    "\n",
    "For example, imagine I asked you to write an application that asks the user for the current year and then report what the year will be in 10 years. You might start your application by writing the following lines of code:"
   ]
  },
  {
   "cell_type": "code",
   "execution_count": null,
   "metadata": {},
   "outputs": [],
   "source": [
    "# Step 1: Prompt user for the year and save as variable\n",
    "\n",
    "# Step 2: Report what the year will be in 10 years."
   ]
  },
  {
   "cell_type": "markdown",
   "metadata": {},
   "source": [
    "When you run this code, nothing happens, but you now have some structure to your code that provides guidance for successfully performing the assigned task. So, now we just have to fill in some code under the comments."
   ]
  },
  {
   "cell_type": "code",
   "execution_count": null,
   "metadata": {},
   "outputs": [],
   "source": [
    "# Step 1: Prompt user for the year and save as variable\n",
    "theYear = input('Enter the year:')\n",
    "\n",
    "# Step 2: Report what the year will be in 10 years."
   ]
  },
  {
   "cell_type": "markdown",
   "metadata": {},
   "source": [
    "We are getting closer. Now we just have to report how old the user will be in 10 years."
   ]
  },
  {
   "cell_type": "code",
   "execution_count": null,
   "metadata": {},
   "outputs": [],
   "source": [
    "# Step 1: Prompt user for the year and save as variable\n",
    "theYear = input('Enter the year:')\n",
    "\n",
    "# Step 2: Report what the year will be in 10 years.\n",
    "print('In 10 years, the year will be ' + (theYear + 10))"
   ]
  },
  {
   "cell_type": "markdown",
   "metadata": {},
   "source": [
    "The above code produces an error. Do you know why? Do you know how to fix it? If not, go here for more information on debugging your code: [Conditional Execution](03%20-%20Conditional%20Execution.ipynb).\n",
    "# Exercise\n",
    "Explain why the code does not work."
   ]
  },
  {
   "cell_type": "markdown",
   "metadata": {},
   "source": [
    "You can write you answer."
   ]
  },
  {
   "cell_type": "markdown",
   "metadata": {},
   "source": [
    "Fix the code above so that it correctly displays the year in 10 years time."
   ]
  },
  {
   "cell_type": "code",
   "execution_count": null,
   "metadata": {},
   "outputs": [],
   "source": [
    "# Step 1: Prompt user for the year and save as variable\n",
    "theYear = input('Enter the year:')\n",
    "\n",
    "# Step 2: \n",
    "\n",
    "# Step 3: Report what the year will be in 10 years.\n",
    "print('In 10 years, the year will be ')"
   ]
  }
 ],
 "metadata": {
  "celltoolbar": "Edit Metadata",
  "kernelspec": {
   "display_name": "Python 3 (ipykernel)",
   "language": "python",
   "name": "python3"
  },
  "language_info": {
   "codemirror_mode": {
    "name": "ipython",
    "version": 3
   },
   "file_extension": ".py",
   "mimetype": "text/x-python",
   "name": "python",
   "nbconvert_exporter": "python",
   "pygments_lexer": "ipython3",
   "version": "3.12.3"
  },
  "toc": {
   "base_numbering": 1,
   "nav_menu": {},
   "number_sections": true,
   "sideBar": true,
   "skip_h1_title": false,
   "title_cell": "Table of Contents",
   "title_sidebar": "Contents",
   "toc_cell": false,
   "toc_position": {
    "height": "477px",
    "left": "96px",
    "top": "150.14px",
    "width": "254px"
   },
   "toc_section_display": true,
   "toc_window_display": true
  }
 },
 "nbformat": 4,
 "nbformat_minor": 4
}
