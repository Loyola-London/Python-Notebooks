{
 "cells": [
  {
   "cell_type": "markdown",
   "metadata": {},
   "source": [
    "# Introduction\n",
    "In this module, we will learn about functions--what they are and why they are useful--and how to incorporate them into our applications. We begin with an abstract discussion of what and why of functions. Then we will discuss the different kinds of functions we encounter in Python. We close this module by looking at some useful built-in and user-defined functions.\n",
    "\n",
    "# Functions\n",
    "A function is a named sequence of statements that performs some programmatic task. Functions extend the functionality of python by packaging a series of statements as flexible, reusable blocks of code. Though the usefulness of functions is difficult to see, functions have several important advantages: 1) functions make your program easier to read, understand, and debug; 2) functions make a program smaller by eliminating repetitive code; 3) functions increase the reusability of your code.\n",
    "\n",
    "Python has built-in and user-defined functions. These functions are called and they take arguments and have a return value. Arguments are variables that are provided as reference values for the function. The variable passed as an argument is copied to a new variable that is temporarily created for use in the function (this copy is called a local variable, meaning that it is local to the function and any changes to it are confined to the local function and do not affect the original variable). Functions may return a value to the calling program. This is called the return value. When a value is returned, the function ends and the return value becomes accessible in the calling program/function (note: functions can call other functions).\n",
    "## Built-in Functions\n",
    "Python has many built-in functions that are either included in the base language or are accessible via libraries. Some common functions are listed below. Others can be found here: https://docs.python.org/3.10/library/functions.html"
   ]
  },
  {
   "cell_type": "code",
   "execution_count": null,
   "metadata": {},
   "outputs": [],
   "source": [
    "myFloat = -3.14159\n",
    "myInt = 7\n",
    "myString = \"IS 352: Introduction to Python Programming\"\n",
    "myList = [3,94,642,1979]"
   ]
  },
  {
   "cell_type": "markdown",
   "metadata": {},
   "source": [
    "### abs()\n",
    "abs() returns the absolute value of a number"
   ]
  },
  {
   "cell_type": "code",
   "execution_count": null,
   "metadata": {},
   "outputs": [],
   "source": [
    "abs(10)"
   ]
  },
  {
   "cell_type": "code",
   "execution_count": null,
   "metadata": {},
   "outputs": [],
   "source": [
    "abs(-10) "
   ]
  },
  {
   "cell_type": "code",
   "execution_count": null,
   "metadata": {},
   "outputs": [],
   "source": [
    "abs(myFloat) "
   ]
  },
  {
   "cell_type": "code",
   "execution_count": null,
   "metadata": {},
   "outputs": [],
   "source": [
    "absOutput = abs(myFloat / 3) "
   ]
  },
  {
   "cell_type": "code",
   "execution_count": null,
   "metadata": {},
   "outputs": [],
   "source": [
    "absOutput"
   ]
  },
  {
   "cell_type": "markdown",
   "metadata": {},
   "source": [
    "### len()\n",
    "len () counts the number of items in a list"
   ]
  },
  {
   "cell_type": "code",
   "execution_count": null,
   "metadata": {},
   "outputs": [],
   "source": [
    "len(\"Hello 2020!\")"
   ]
  },
  {
   "cell_type": "code",
   "execution_count": null,
   "metadata": {},
   "outputs": [],
   "source": [
    "len(myList)"
   ]
  },
  {
   "cell_type": "code",
   "execution_count": null,
   "metadata": {},
   "outputs": [],
   "source": [
    "4 == len(myList)"
   ]
  },
  {
   "cell_type": "markdown",
   "metadata": {},
   "source": [
    "### min()\n",
    "min() retruns the smallest value in a list"
   ]
  },
  {
   "cell_type": "code",
   "execution_count": null,
   "metadata": {},
   "outputs": [],
   "source": [
    "min(myList)"
   ]
  },
  {
   "cell_type": "code",
   "execution_count": null,
   "metadata": {},
   "outputs": [],
   "source": [
    "min(myString)"
   ]
  },
  {
   "cell_type": "markdown",
   "metadata": {},
   "source": [
    "### max()\n",
    "max() returns the largest value in a list"
   ]
  },
  {
   "cell_type": "code",
   "execution_count": null,
   "metadata": {},
   "outputs": [],
   "source": [
    "max(myList)"
   ]
  },
  {
   "cell_type": "code",
   "execution_count": null,
   "metadata": {},
   "outputs": [],
   "source": [
    "max(myString)"
   ]
  },
  {
   "cell_type": "markdown",
   "metadata": {},
   "source": [
    "### sum()\n",
    "sum() adds all numbers in a list"
   ]
  },
  {
   "cell_type": "code",
   "execution_count": null,
   "metadata": {},
   "outputs": [],
   "source": [
    "sum(myList)"
   ]
  },
  {
   "cell_type": "code",
   "execution_count": null,
   "metadata": {},
   "outputs": [],
   "source": [
    "sum(myString)"
   ]
  },
  {
   "cell_type": "markdown",
   "metadata": {},
   "source": [
    "## User-defined Functions\n",
    "User-defined functions are functions that developers write to perform tasks within their applications. Often, these are common tasks that might need to be executed often throughout an application. \n",
    "\n",
    "|Term|Description|\n",
    "|-|-|\n",
    "|Function|A sub-program within your application that performs a specific command or set of commands|\n",
    "|Function Name|The callable name of your function|\n",
    "|Call|Functions are *called* by including the function name in a code statement|\n",
    "|Paremeter|Parameters are values provided to your function in the calling statement. These values are optional and, if included, are used but not modified by your function|\n",
    "|Return Value|Many functions are designed to generate some output that the main application needs to complete its task. In this case, a function *returns* a value that the calling application will want to capture in an assignment statement\n"
   ]
  },
  {
   "cell_type": "markdown",
   "metadata": {},
   "source": [
    "### Echo Function\n",
    "The following function accepts a string as an input parameter and creates an echo of the string, printing two copies of the string. Notice that the keyword def precedes the name of the function. This keyword tells Python that the following code defines a function and should only be executed if called at some other point in the application. When a value is returned or execution reaches the last line of the function, the function ends. Pay attention to the indentation. Code indented one or more level beyond the level of the def keyword make up the body of the function. These lines of code are executed every time the function is called."
   ]
  },
  {
   "cell_type": "code",
   "execution_count": null,
   "metadata": {},
   "outputs": [],
   "source": [
    "# create an echo of an input string\n",
    "def echo(varString):\n",
    "    print(varString)\n",
    "    print(varString)"
   ]
  },
  {
   "cell_type": "code",
   "execution_count": null,
   "metadata": {},
   "outputs": [],
   "source": [
    "echo(\"Hello\")"
   ]
  },
  {
   "cell_type": "code",
   "execution_count": null,
   "metadata": {},
   "outputs": [],
   "source": [
    "echo(\"Are you copying me?\")"
   ]
  },
  {
   "cell_type": "code",
   "execution_count": null,
   "metadata": {},
   "outputs": [],
   "source": [
    "echo(myString + myString)"
   ]
  },
  {
   "cell_type": "markdown",
   "metadata": {},
   "source": [
    "### Circumference Function\n",
    "Functions can be particularly useful when performing complex calculations that may have uses at multiple points within your application or across multiple applications. In the following example, the getCircumference function accepts a numeric value (integer or float) representing the radius as an input parameter and returns the circumference as a floating point number."
   ]
  },
  {
   "cell_type": "code",
   "execution_count": null,
   "metadata": {},
   "outputs": [],
   "source": [
    "# calculate the circumference of a circle\n",
    "def getCircumference(radius):\n",
    "    # Step 1: use input parameter to calculate circumference and store in variable\n",
    "    pi = 3.14159\n",
    "    circumference = 2 * pi * radius\n",
    "\n",
    "    # Step 2: return circumference to main application\n",
    "    return circumference"
   ]
  },
  {
   "cell_type": "code",
   "execution_count": null,
   "metadata": {},
   "outputs": [],
   "source": [
    "getCircumference(8)"
   ]
  },
  {
   "cell_type": "code",
   "execution_count": null,
   "metadata": {},
   "outputs": [],
   "source": [
    "myCircumference = getCircumference(8)"
   ]
  },
  {
   "cell_type": "code",
   "execution_count": null,
   "metadata": {},
   "outputs": [],
   "source": [
    "print(\"The circumference of a circle with a radius of 8 is \" + str(myCircumference))"
   ]
  },
  {
   "cell_type": "code",
   "execution_count": null,
   "metadata": {},
   "outputs": [],
   "source": [
    "for i in range(8):\n",
    "    print(\"The circumference of a circle with a radius of \" + str(i) + \" is \" + str(getCircumference(i)))"
   ]
  },
  {
   "cell_type": "markdown",
   "metadata": {},
   "source": [
    "### User Experience\n",
    "Menus are useful when your application performs a variety of operations. The following provides the structure for a simple menu. The application has been designed to return the user to the menu after completing the operation of the chosen branch."
   ]
  },
  {
   "cell_type": "code",
   "execution_count": null,
   "metadata": {},
   "outputs": [],
   "source": [
    "# print a menu of choices and prompt user for choice and return the choice as an integer.\n",
    "def getMenu():\n",
    "    print(\"Welcome to the Menu\")\n",
    "    print(\"1. Option One\")\n",
    "    print(\"2. Option Two\")\n",
    "    print(\"3. Exit\")\n",
    "    return int(input(\"Please choose an option: \"))\n",
    "\n",
    "# perform the operations of choice one\n",
    "def doChoiceOne():\n",
    "    print(\"You chose option 1\")\n",
    "    \n",
    "# perform the operations of choice one\n",
    "def doChoiceTwo():\n",
    "    print(\"You chose option 2\")\n",
    "\n",
    "# perform the exit operations\n",
    "def doExit():\n",
    "    print(\"You chose exit.\")\n",
    "    print(\"Goodbye!\")"
   ]
  },
  {
   "cell_type": "code",
   "execution_count": null,
   "metadata": {},
   "outputs": [],
   "source": [
    "while True:\n",
    "    myChoice = getMenu()\n",
    "    if myChoice == 1:\n",
    "        doChoiceOne()\n",
    "    elif myChoice == 2:\n",
    "        doChoiceTwo()\n",
    "    elif myChoice == 3:\n",
    "        doExit()\n",
    "        break"
   ]
  },
  {
   "cell_type": "markdown",
   "metadata": {},
   "source": [
    "### addStutter Function\n",
    "A more complex example of a user-defined function is listed below. This function acccepts a string as an input parameter and creates a stutter effect. The function name is addStutter and it accepts one argument (input parameter), varString. This function returns a string value. "
   ]
  },
  {
   "cell_type": "code",
   "execution_count": null,
   "metadata": {},
   "outputs": [],
   "source": [
    "def addStutter(varString):\n",
    "    returnString = \"\"\n",
    "    for letter in varString:\n",
    "        returnString = returnString + (letter + letter)\n",
    "    return returnString"
   ]
  },
  {
   "cell_type": "code",
   "execution_count": null,
   "metadata": {},
   "outputs": [],
   "source": [
    "myString = \"Hello World!\""
   ]
  },
  {
   "cell_type": "code",
   "execution_count": null,
   "metadata": {},
   "outputs": [],
   "source": [
    "addStutter(myString)"
   ]
  },
  {
   "cell_type": "code",
   "execution_count": null,
   "metadata": {},
   "outputs": [],
   "source": [
    "myStutter = addStutter(myString)\n",
    "print(myStutter)"
   ]
  },
  {
   "cell_type": "markdown",
   "metadata": {},
   "source": [
    "# Exercise\n",
    "Write a function to calculate the area of a rectangle. Give your function a name and add code to the function that calculates the area of a rectange. The function should have two input parameters (width and height) and it should return the calculated area to the main application. In the main application, allow the user to enter values for width and height and then report the area based on these values."
   ]
  },
  {
   "cell_type": "code",
   "execution_count": null,
   "metadata": {},
   "outputs": [],
   "source": [
    "def functionName(varWidth, varHeight):\n",
    "    # Step 1....\n",
    "\n",
    "    # Step 2....\n",
    "\n",
    "# ------------------- MAIN APPLICATION ------------------------ #\n",
    "# Step 1....\n",
    "\n",
    "# Step 2...."
   ]
  }
 ],
 "metadata": {
  "kernelspec": {
   "display_name": "Python 3 (ipykernel)",
   "language": "python",
   "name": "python3"
  },
  "language_info": {
   "codemirror_mode": {
    "name": "ipython",
    "version": 3
   },
   "file_extension": ".py",
   "mimetype": "text/x-python",
   "name": "python",
   "nbconvert_exporter": "python",
   "pygments_lexer": "ipython3",
   "version": "3.10.12"
  },
  "toc": {
   "base_numbering": 1,
   "nav_menu": {},
   "number_sections": true,
   "sideBar": true,
   "skip_h1_title": false,
   "title_cell": "Table of Contents",
   "title_sidebar": "Contents",
   "toc_cell": false,
   "toc_position": {},
   "toc_section_display": true,
   "toc_window_display": true
  }
 },
 "nbformat": 4,
 "nbformat_minor": 4
}
